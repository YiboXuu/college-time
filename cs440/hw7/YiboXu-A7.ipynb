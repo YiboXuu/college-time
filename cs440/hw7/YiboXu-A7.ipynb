{
 "cells": [
  {
   "cell_type": "markdown",
   "metadata": {},
   "source": [
    "<font size=6>NLP with Transformers with the T5 Model</font>"
   ]
  },
  {
   "cell_type": "markdown",
   "metadata": {},
   "source": [
    "# Introduction\n",
    "\n",
    "In this assignment you will learn how to apply the T5 pre-trained model to three tasks\n",
    "1. summarization,\n",
    "2. translation,\n",
    "3. grammar checking."
   ]
  },
  {
   "cell_type": "markdown",
   "metadata": {},
   "source": [
    "This will require installation of `pytorch` and the `transformers` package.  You should already have `pytorch` installed.  To install `transformers`, you can use\n",
    "\n",
    "    pip install transformers\n"
   ]
  },
  {
   "cell_type": "markdown",
   "metadata": {},
   "source": [
    "Then run the following code cell.  The first time it is run, the t5-base model will be downloaded."
   ]
  },
  {
   "cell_type": "code",
   "execution_count": 41,
   "metadata": {},
   "outputs": [
    {
     "name": "stderr",
     "output_type": "stream",
     "text": [
      "Some weights of the model checkpoint at t5-base were not used when initializing T5ForConditionalGeneration: ['decoder.block.0.layer.1.EncDecAttention.relative_attention_bias.weight']\n",
      "- This IS expected if you are initializing T5ForConditionalGeneration from the checkpoint of a model trained on another task or with another architecture (e.g. initializing a BertForSequenceClassification model from a BertForPreTraining model).\n",
      "- This IS NOT expected if you are initializing T5ForConditionalGeneration from the checkpoint of a model that you expect to be exactly identical (initializing a BertForSequenceClassification model from a BertForSequenceClassification model).\n"
     ]
    }
   ],
   "source": [
    "import transformers as tr\n",
    "\n",
    "# initialize the model architecture and weights\n",
    "model = tr.T5ForConditionalGeneration.from_pretrained(\"t5-base\")\n",
    "# initialize the model tokenizer\n",
    "tokenizer = tr.T5Tokenizer.from_pretrained(\"t5-base\")"
   ]
  },
  {
   "cell_type": "markdown",
   "metadata": {},
   "source": [
    "Now you will use `model` and `tokenizer` to perform the above tasks.  Here are some examples."
   ]
  },
  {
   "cell_type": "markdown",
   "metadata": {},
   "source": [
    "## Summarize\n",
    "\n",
    "First, let's summarize this text with at most 100 words."
   ]
  },
  {
   "cell_type": "code",
   "execution_count": 42,
   "metadata": {},
   "outputs": [],
   "source": [
    "text = \"\"\"\n",
    "Julia was designed from the beginning for high performance. Julia programs compile to efficient \n",
    "native code for multiple platforms via LLVM.\n",
    "Julia is dynamically typed, feels like a scripting language, and has good support for interactive use.\n",
    "Reproducible environments make it possible to recreate the same Julia environment every time, \n",
    "across platforms, with pre-built binaries.\n",
    "Julia uses multiple dispatch as a paradigm, making it easy to express many object-oriented \n",
    "and functional programming patterns. The talk on the Unreasonable Effectiveness of Multiple \n",
    "Dispatch explains why it works so well.\n",
    "Julia provides asynchronous I/O, metaprogramming, debugging, logging, profiling, a package manager, \n",
    "and more. One can build entire Applications and Microservices in Julia.\n",
    "Julia is an open source project with over 1,000 contributors. It is made available under the \n",
    "MIT license. The source code is available on GitHub.\n",
    "\"\"\""
   ]
  },
  {
   "cell_type": "code",
   "execution_count": 43,
   "metadata": {},
   "outputs": [
    {
     "data": {
      "text/plain": [
       "929"
      ]
     },
     "execution_count": 43,
     "metadata": {},
     "output_type": "execute_result"
    }
   ],
   "source": [
    "len(text)"
   ]
  },
  {
   "cell_type": "code",
   "execution_count": 44,
   "metadata": {},
   "outputs": [
    {
     "data": {
      "text/plain": [
       "tensor([[21603,    10, 18618,    47,   876,    45,     8,  1849,    21,   306,\n",
       "           821,     5, 18618,  1356,  2890,   699,    12,  2918,  4262,  1081,\n",
       "            21,  1317,  5357,  1009,     3, 10376, 12623,     5, 18618,    19,\n",
       "          4896,  1427,   686,    26,     6,  4227,   114,     3,     9,  4943,\n",
       "            53,  1612,     6,    11,    65,   207,   380,    21,  6076,   169,\n",
       "             5,   419,  1409,  4817,  2317,  8258,   143,    34,   487,    12,\n",
       "         23952,     8,   337, 18618,  1164,   334,    97,     6,   640,  5357,\n",
       "             6,    28,   554,    18, 16152,  2701,  5414,     5, 18618,  2284,\n",
       "          1317, 17648,    38,     3,     9, 20491,     6,   492,    34,   514,\n",
       "            12,  3980,   186,  3735,    18,  9442,    11,  5014,  6020,  4264,\n",
       "             5,    37,  1350,    30,     8,   597,   864,   739,   179, 18652,\n",
       "           655,    13, 16821,     3, 23664, 14547,     3,  9453,   572,    34,\n",
       "           930,    78,   168,     5, 18618,   795,     3,     9, 30373,    27,\n",
       "            87,   667,     6, 10531,  7050,    53,     6,    20, 14588,  3896,\n",
       "             6,     3, 12578,     6,  9639,    53,     6,     3,     9,  2642,\n",
       "          2743,     6,    11,    72,     5,   555,    54,   918,  1297, 15148,\n",
       "            11,  5893,  5114,     7,    16, 18618,     5, 18618,    19,    46,\n",
       "           539,  1391,   516,    28,   147, 11668, 13932,     7,     5,    94,\n",
       "            19,   263,   347,   365,     8,     3, 12604,  3344,     5,    37,\n",
       "          1391,  1081,    19,   347,    30,     3, 30516,     5,     1]])"
      ]
     },
     "execution_count": 44,
     "metadata": {},
     "output_type": "execute_result"
    }
   ],
   "source": [
    "inputs = tokenizer.encode(\"summarize: \" + text, return_tensors=\"pt\", max_length=512, truncation=True)\n",
    "inputs"
   ]
  },
  {
   "cell_type": "code",
   "execution_count": 45,
   "metadata": {},
   "outputs": [],
   "source": [
    "outputs = model.generate(inputs, max_length=100, min_length=10, length_penalty=1.0, num_beams=4,\n",
    "                         num_return_sequences=3)"
   ]
  },
  {
   "cell_type": "code",
   "execution_count": 46,
   "metadata": {},
   "outputs": [
    {
     "name": "stdout",
     "output_type": "stream",
     "text": [
      "tensor([[    0, 18618,    19,  4896,  1427,   686,    26,     6,  4227,   114,\n",
      "             3,     9,  4943,    53,  1612,     6,    11,    65,   207,   380,\n",
      "            21,  6076,   169,     3,     5, 18618,   795,     3,     9, 30373,\n",
      "            27,    87,   667,     6, 10531,  7050,    53,     6,    20, 14588,\n",
      "          3896,     6,     3, 12578,     6,  9639,    53,     6,     3,     9,\n",
      "          2642,  2743,     6,    11,    72,     3,     5,     8,  1391,  1081,\n",
      "            19,   347,    30,     3, 30516,   365,     8,     3, 12604,  3344,\n",
      "             3,     5,     1],\n",
      "        [    0, 18618,    19,  4896,  1427,   686,    26,     6,  4227,   114,\n",
      "             3,     9,  4943,    53,  1612,     6,    11,    65,   207,   380,\n",
      "            21,  6076,   169,     3,     5, 18618,   795,     3,     9, 30373,\n",
      "            27,    87,   667,     6, 10531,  7050,    53,     6,    20, 14588,\n",
      "          3896,     6,     3, 12578,     6,  9639,    53,     6,     3,     9,\n",
      "          2642,  2743,     6,    11,    72,     3,     5,    34,    19,    46,\n",
      "           539,  1391,   516,    28,   147, 11668, 13932,     7,     3,     5,\n",
      "             1,     0,     0],\n",
      "        [    0, 18618,    19,  4896,  1427,   686,    26,     6,  4227,   114,\n",
      "             3,     9,  4943,    53,  1612,     6,    11,    65,   207,   380,\n",
      "            21,  6076,   169,     3,     5, 18618,   795,     3,     9, 30373,\n",
      "            27,    87,   667,     6, 10531,  7050,    53,     6,    20, 14588,\n",
      "          3896,     6,     3, 12578,     6,  9639,    53,     6,     3,     9,\n",
      "          2642,  2743,     6,    11,    72,     3,     5, 18618,    19,    46,\n",
      "           539,  1391,   516,    28,   147, 11668, 13932,     7,     3,     5,\n",
      "             1,     0,     0]])\n",
      "torch.Size([3, 73])\n"
     ]
    }
   ],
   "source": [
    "print(outputs)\n",
    "print(outputs.shape)"
   ]
  },
  {
   "cell_type": "code",
   "execution_count": 47,
   "metadata": {},
   "outputs": [
    {
     "name": "stdout",
     "output_type": "stream",
     "text": [
      "\n",
      "Result 1\n",
      "<pad> Julia is dynamically typed, feels like a scripting language, and has good support for interactive use. Julia provides asynchronous I/O, metaprogramming, debugging, logging, profiling, a package manager, and more. the source code is available on GitHub under the MIT license.</s>\n",
      "\n",
      "Result 2\n",
      "<pad> Julia is dynamically typed, feels like a scripting language, and has good support for interactive use. Julia provides asynchronous I/O, metaprogramming, debugging, logging, profiling, a package manager, and more. it is an open source project with over 1,000 contributors.</s> <pad> <pad>\n",
      "\n",
      "Result 3\n",
      "<pad> Julia is dynamically typed, feels like a scripting language, and has good support for interactive use. Julia provides asynchronous I/O, metaprogramming, debugging, logging, profiling, a package manager, and more. Julia is an open source project with over 1,000 contributors.</s> <pad> <pad>\n"
     ]
    }
   ],
   "source": [
    "for i in range(outputs.shape[0]):\n",
    "    print('\\nResult', i + 1)\n",
    "    print(tokenizer.decode(outputs[i]))"
   ]
  },
  {
   "cell_type": "markdown",
   "metadata": {},
   "source": [
    "## Translation\n",
    "\n",
    "Now let's translate the text to German."
   ]
  },
  {
   "cell_type": "code",
   "execution_count": 48,
   "metadata": {},
   "outputs": [
    {
     "name": "stdout",
     "output_type": "stream",
     "text": [
      "\n",
      "Result 1\n",
      "<pad> Julia wurde von Anfang an für hohe Leistung entwickelt. Julia-Programme kompilieren zu effizientem nativen Code für mehrere Plattformen über LLVM. Julia ist dynamisch getippt, fühlt sich wie eine Skriptsprache und hat gute Unterstützung für interaktive Verwendung. Reproduzierbare Umgebungen ermöglichen es, die gleiche Julia-Umgebung jedes Mal, über Plattformen hinweg, mit vorgefertigten Binärdateien zu erschaffen. Julia</s>\n",
      "\n",
      "Result 2\n",
      "<pad> Julia wurde von Anfang an für hohe Performance entwickelt. Julia-Programme kompilieren zu effizientem nativen Code für mehrere Plattformen über LLVM. Julia ist dynamisch getippt, fühlt sich wie eine Skriptsprache und hat gute Unterstützung für interaktive Verwendung. Reproduzierbare Umgebungen ermöglichen es, die gleiche Julia-Umgebung jedes Mal, über Plattformen hinweg, mit vorgefertigten Binärdateien zu erschaffen. Julia verwendet</s>\n",
      "\n",
      "Result 3\n",
      "<pad> Julia wurde von Anfang an für hohe Leistung entwickelt. Julia-Programme kompilieren zu effizientem nativem Code für mehrere Plattformen über LLVM. Julia ist dynamisch getippt, fühlt sich wie eine Skriptsprache und hat gute Unterstützung für interaktive Verwendung. Reproduzierbare Umgebungen ermöglichen es, die gleiche Julia-Umgebung jedes Mal, über Plattformen hinweg, mit vorgefertigten Binärdateien zu erschaffen. Julia</s>\n"
     ]
    }
   ],
   "source": [
    "inputs = tokenizer.encode('translate English to German: ' + text, return_tensors='pt',\n",
    "                          max_length=512, truncation=True)\n",
    "outputs = model.generate(inputs, max_length=1500, min_length=20, length_penalty=1.0, num_beams=10,\n",
    "                         num_return_sequences=3)\n",
    "\n",
    "for i in range(outputs.shape[0]):\n",
    "    print('\\nResult', i + 1)\n",
    "    print(tokenizer.decode(outputs[i]))"
   ]
  },
  {
   "cell_type": "markdown",
   "metadata": {},
   "source": [
    "## Grammar Checker\n",
    "\n",
    "Now to check some grammar."
   ]
  },
  {
   "cell_type": "code",
   "execution_count": 49,
   "metadata": {},
   "outputs": [
    {
     "name": "stdout",
     "output_type": "stream",
     "text": [
      "<pad> unacceptable</s>\n"
     ]
    }
   ],
   "source": [
    "sentence = 'This sentence do not be grammatical.'\n",
    "inputs = tokenizer.encode('cola sentence: ' + sentence, return_tensors='pt')\n",
    "outputs = model.generate(inputs)\n",
    "print(tokenizer.decode(outputs[0]))"
   ]
  },
  {
   "cell_type": "markdown",
   "metadata": {},
   "source": [
    "# Requirements"
   ]
  },
  {
   "cell_type": "markdown",
   "metadata": {},
   "source": [
    "## Summarization\n",
    "\n",
    "Cut and paste a news story that has at least five paragraphs that describes the recent news about the COVID-19 vaccine developed by the University of Oxford University and AstraZenec.  Try at least three values for each of the parameters:\n",
    "\n",
    "* `max_length`,\n",
    "* `min_length`,\n",
    "* `length_penalty`, and\n",
    "* `num_beams`.\n",
    "\n",
    "Copy and paste into a markdown cell what you consider to be the best summarization of the news article.  Also, describe the effects of these four parameters on the results with at least four sentences.\n",
    "\n",
    "[This article](https://github.com/huggingface/blog/blob/master/notebooks/02_how_to_generate.ipynb) will help you understand a bit more about these parameters."
   ]
  },
  {
   "cell_type": "code",
   "execution_count": 50,
   "metadata": {},
   "outputs": [],
   "source": [
    "text1 = \"\"\"\n",
    "The coronavirus vaccine developed by the University of Oxford \n",
    "is highly effective at stopping people developing Covid-19 symptoms, a large trial shows.\n",
    "Interim data suggests 70% protection, but the researchers say the figure may be as high as 90% by tweaking the dose.\n",
    "The results will be seen as a triumph, but come after Pfizer and Moderna vaccines showed 95% protection.\n",
    "However, the Oxford jab is far cheaper, and is easier to store and get to every corner of the world than the other two.\n",
    "So the vaccine will play a significant role in tackling the pandemic, if it is approved for use by regulators.\n",
    "\"The announcement today takes us another step closer to the time when we can use vaccines to bring an \n",
    "end to the devastation caused by [the virus],\" said the vaccine's architect, Prof Sarah Gilbert.\n",
    "The UK government has pre-ordered 100 million doses of the Oxford vaccine, \n",
    "and AstraZeneca says it will make three billion doses for the world next year.\n",
    "Prime Minister Boris Johnson said it was \"incredibly exciting news\" and that \n",
    "while there were still safety checks to come, \"these are fantastic results\".\n",
    "Speaking at a Downing Street briefing on Monday evening, Mr Johnson added that \n",
    "the majority of people most in need of a vaccination in the UK might be able to get one by Easter.\n",
    "And Prof Andrew Pollard - director of the Oxford vaccine group - said it had been \"a very exciting day\" and \n",
    "paid tribute to the 20,000 volunteers in the trials around the world, including more than 10,000 in the UK.\n",
    "\"\"\""
   ]
  },
  {
   "cell_type": "code",
   "execution_count": 51,
   "metadata": {},
   "outputs": [
    {
     "data": {
      "text/plain": [
       "1513"
      ]
     },
     "execution_count": 51,
     "metadata": {},
     "output_type": "execute_result"
    }
   ],
   "source": [
    "len(text1)"
   ]
  },
  {
   "cell_type": "code",
   "execution_count": 52,
   "metadata": {},
   "outputs": [
    {
     "name": "stdout",
     "output_type": "stream",
     "text": [
      "tensor([[    0,     8,  4301,   106,     9, 18095, 12956,  1597,    57,     8,\n",
      "          3819,    13, 10274,    19,  1385,  1231,    44, 10847,   151,  2421,\n",
      "           638,  6961,  4481,  3976,     3,     5,  1413,   603,   331,  6490,\n",
      "         14719,  1711,     6,    68,     8,  4768,   497,     8,  2320,   164,\n",
      "            36,    38,   306,    38, 12669,    57, 22689,    53,     8,  6742,\n",
      "             3,     5,     8, 12956,    19,   623,  8139,     6,    11,    19,\n",
      "          1842,    12,  1078,    11,   129,    12,   334,  2752,    13,     8,\n",
      "           296,   145,     8,   119,   192,     3,     5,     1,     0],\n",
      "        [    0,     8,  4301,   106,     9, 18095, 12956,  1597,    57,     8,\n",
      "          3819,    13, 10274,    19,  1385,  1231,    44, 10847,   151,  2421,\n",
      "           638,  6961,  4481,  3976,     3,     5,     8,   772,    56,    36,\n",
      "           894,    38,     3,     9, 20020,     6,    68,   369,   227,   276,\n",
      "            89,  8585,    11,  5070,     9, 12956,     7,  3217,   668,  2712,\n",
      "          1711,     3,     5,     8, 12956,    19,   623,  8139,     6,    11,\n",
      "            19,  1842,    12,  1078,    11,   129,    12,   334,  2752,    13,\n",
      "             8,   296,   145,     8,   119,   192,     3,     5,     1],\n",
      "        [    0,     8,  4301,   106,     9, 18095, 12956,  1597,    57,     8,\n",
      "          3819,    13, 10274,    19,  1385,  1231,    44, 10847,   151,  2421,\n",
      "           638,  6961,  4481,  3976,     3,     5,  1413,   603,   331,  6490,\n",
      "         14719,  1711,     6,    68,     8,  4768,   497,     8,  2320,   164,\n",
      "            36,    38,   306,    38, 12669,    57, 22689,    53,     8,  6742,\n",
      "             3,     5,     8, 12956,    19,   623,  8139,    11,    19,  1842,\n",
      "            12,  1078,    11,   129,    12,   334,  2752,    13,     8,   296,\n",
      "           145,     8,   119,   192,     3,     5,     1,     0,     0]])\n",
      "torch.Size([3, 79])\n",
      "\n",
      "Result 1\n",
      "<pad> the coronavirus vaccine developed by the university of Oxford is highly effective at stopping people developing Covid-19 symptoms. interim data suggests 70% protection, but the researchers say the figure may be as high as 90% by tweaking the dose. the vaccine is far cheaper, and is easier to store and get to every corner of the world than the other two.</s> <pad>\n",
      "\n",
      "Result 2\n",
      "<pad> the coronavirus vaccine developed by the university of Oxford is highly effective at stopping people developing Covid-19 symptoms. the results will be seen as a triumph, but come after Pfizer and Moderna vaccines showed 95% protection. the vaccine is far cheaper, and is easier to store and get to every corner of the world than the other two.</s>\n",
      "\n",
      "Result 3\n",
      "<pad> the coronavirus vaccine developed by the university of Oxford is highly effective at stopping people developing Covid-19 symptoms. interim data suggests 70% protection, but the researchers say the figure may be as high as 90% by tweaking the dose. the vaccine is far cheaper and is easier to store and get to every corner of the world than the other two.</s> <pad> <pad>\n"
     ]
    }
   ],
   "source": [
    "inputs = tokenizer.encode(\"summarize: \" + text1, return_tensors=\"pt\", max_length=512, truncation=True)\n",
    "inputs\n",
    "outputs = model.generate(inputs, max_length=100, min_length=10, length_penalty=1.0, num_beams=4,\n",
    "                         num_return_sequences=3)\n",
    "print(outputs)\n",
    "print(outputs.shape)\n",
    "for i in range(outputs.shape[0]):\n",
    "    print('\\nResult', i + 1)\n",
    "    print(tokenizer.decode(outputs[i]))"
   ]
  },
  {
   "cell_type": "code",
   "execution_count": 53,
   "metadata": {},
   "outputs": [
    {
     "name": "stdout",
     "output_type": "stream",
     "text": [
      "torch.Size([3, 79])\n",
      "\n",
      "Result 1\n",
      "<pad> the coronavirus vaccine developed by the university of Oxford is highly effective at stopping people developing Covid-19 symptoms. interim data suggests 70% protection, but the researchers say the figure may be as high as 90% by tweaking the dose. the vaccine is far cheaper, and is easier to store and get to every corner of the world than the other two.</s> <pad>\n",
      "\n",
      "Result 2\n",
      "<pad> the coronavirus vaccine developed by the university of Oxford is highly effective at stopping people developing Covid-19 symptoms. the results will be seen as a triumph, but come after Pfizer and Moderna vaccines showed 95% protection. the vaccine is far cheaper, and is easier to store and get to every corner of the world than the other two.</s>\n",
      "\n",
      "Result 3\n",
      "<pad> the coronavirus vaccine developed by the university of Oxford is highly effective at stopping people developing Covid-19 symptoms. interim data suggests 70% protection, but the researchers say the figure may be as high as 90% by tweaking the dose. the vaccine is far cheaper and is easier to store and get to every corner of the world than the other two.</s> <pad> <pad>\n",
      "\n",
      "torch.Size([3, 20])\n",
      "\n",
      "Result 1\n",
      "<pad> the coronavirus vaccine developed by the university of Oxford is highly effective at stopping people developing\n",
      "\n",
      "Result 2\n",
      "<pad> the coronavirus vaccine developed by the university of oxford is highly effective at\n",
      "\n",
      "Result 3\n",
      "<pad> the coronavirus vaccine developed by the university of oxford is highly effective\n",
      "\n",
      "torch.Size([3, 79])\n",
      "\n",
      "Result 1\n",
      "<pad> the coronavirus vaccine developed by the university of Oxford is highly effective at stopping people developing Covid-19 symptoms. interim data suggests 70% protection, but the researchers say the figure may be as high as 90% by tweaking the dose. the vaccine is far cheaper, and is easier to store and get to every corner of the world than the other two.</s> <pad>\n",
      "\n",
      "Result 2\n",
      "<pad> the coronavirus vaccine developed by the university of Oxford is highly effective at stopping people developing Covid-19 symptoms. the results will be seen as a triumph, but come after Pfizer and Moderna vaccines showed 95% protection. the vaccine is far cheaper, and is easier to store and get to every corner of the world than the other two.</s>\n",
      "\n",
      "Result 3\n",
      "<pad> the coronavirus vaccine developed by the university of Oxford is highly effective at stopping people developing Covid-19 symptoms. interim data suggests 70% protection, but the researchers say the figure may be as high as 90% by tweaking the dose. the vaccine is far cheaper and is easier to store and get to every corner of the world than the other two.</s> <pad> <pad>\n"
     ]
    }
   ],
   "source": [
    "inputs = tokenizer.encode(\"summarize: \" + text1, return_tensors=\"pt\", max_length=512, truncation=True)\n",
    "inputs\n",
    "outputs = model.generate(inputs, max_length=1000, min_length=10, length_penalty=1.0, num_beams=4,\n",
    "                         num_return_sequences=3)\n",
    "print(outputs.shape)\n",
    "for i in range(outputs.shape[0]):\n",
    "    print('\\nResult', i + 1)\n",
    "    print(tokenizer.decode(outputs[i]))\n",
    "\n",
    "outputs = model.generate(inputs, max_length=20, min_length=10, length_penalty=1.0, num_beams=4,\n",
    "                         num_return_sequences=3)\n",
    "print()\n",
    "print(outputs.shape)\n",
    "for i in range(outputs.shape[0]):\n",
    "    print('\\nResult', i + 1)\n",
    "    print(tokenizer.decode(outputs[i]))  \n",
    "\n",
    "outputs = model.generate(inputs, max_length=500, min_length=10, length_penalty=1.0, num_beams=4,\n",
    "                         num_return_sequences=3)\n",
    "print()\n",
    "print(outputs.shape)\n",
    "for i in range(outputs.shape[0]):\n",
    "    print('\\nResult', i + 1)\n",
    "    print(tokenizer.decode(outputs[i]))  \n",
    "    "
   ]
  },
  {
   "cell_type": "code",
   "execution_count": 54,
   "metadata": {},
   "outputs": [
    {
     "name": "stdout",
     "output_type": "stream",
     "text": [
      "torch.Size([3, 100])\n",
      "\n",
      "Result 1\n",
      "<pad> the coronavirus vaccine developed by the university of Oxford is highly effective at stopping people developing Covid-19 symptoms. interim data suggests 70% protection, but the researchers say the figure may be as high as 90% by tweaking the dose. the vaccine is far cheaper, and is easier to store and get to every corner of the world than the other two. the UK government has pre-ordered 100 million doses of the Oxford vaccine, and AstraZen\n",
      "\n",
      "Result 2\n",
      "<pad> the coronavirus vaccine developed by the university of Oxford is highly effective at stopping people developing Covid-19 symptoms. the results will be seen as a triumph, but come after Pfizer and Moderna vaccines showed 95% protection. the vaccine is far cheaper, and is easier to store and get to every corner of the world than the other two. the UK government has pre-ordered 100 million doses of the Oxford vaccine, and AstraZ\n",
      "\n",
      "Result 3\n",
      "<pad> the coronavirus vaccine developed by the university of Oxford is highly effective at stopping people developing Covid-19 symptoms. interim data suggests 70% protection, but the researchers say the figure may be as high as 90% by tweaking the dose. the vaccine is far cheaper, and is easier to store and get to every corner of the world than the other two. the uk government has pre-ordered 100 million doses of the Oxford vaccine, and AstraZ\n",
      "\n",
      "torch.Size([3, 79])\n",
      "\n",
      "Result 1\n",
      "<pad> the coronavirus vaccine developed by the university of Oxford is highly effective at stopping people developing Covid-19 symptoms. interim data suggests 70% protection, but the researchers say the figure may be as high as 90% by tweaking the dose. the vaccine is far cheaper, and is easier to store and get to every corner of the world than the other two.</s> <pad>\n",
      "\n",
      "Result 2\n",
      "<pad> the coronavirus vaccine developed by the university of Oxford is highly effective at stopping people developing Covid-19 symptoms. the results will be seen as a triumph, but come after Pfizer and Moderna vaccines showed 95% protection. the vaccine is far cheaper, and is easier to store and get to every corner of the world than the other two.</s>\n",
      "\n",
      "Result 3\n",
      "<pad> the coronavirus vaccine developed by the university of Oxford is highly effective at stopping people developing Covid-19 symptoms. interim data suggests 70% protection, but the researchers say the figure may be as high as 90% by tweaking the dose. the vaccine is far cheaper and is easier to store and get to every corner of the world than the other two.</s> <pad> <pad>\n",
      "\n",
      "torch.Size([3, 79])\n",
      "\n",
      "Result 1\n",
      "<pad> the coronavirus vaccine developed by the university of Oxford is highly effective at stopping people developing Covid-19 symptoms. interim data suggests 70% protection, but the researchers say the figure may be as high as 90% by tweaking the dose. the vaccine is far cheaper, and is easier to store and get to every corner of the world than the other two.</s> <pad>\n",
      "\n",
      "Result 2\n",
      "<pad> the coronavirus vaccine developed by the university of Oxford is highly effective at stopping people developing Covid-19 symptoms. the results will be seen as a triumph, but come after Pfizer and Moderna vaccines showed 95% protection. the vaccine is far cheaper, and is easier to store and get to every corner of the world than the other two.</s>\n",
      "\n",
      "Result 3\n",
      "<pad> the coronavirus vaccine developed by the university of Oxford is highly effective at stopping people developing Covid-19 symptoms. interim data suggests 70% protection, but the researchers say the figure may be as high as 90% by tweaking the dose. the vaccine is far cheaper and is easier to store and get to every corner of the world than the other two.</s> <pad> <pad>\n"
     ]
    }
   ],
   "source": [
    "inputs = tokenizer.encode(\"summarize: \" + text1, return_tensors=\"pt\", max_length=512, truncation=True)\n",
    "inputs\n",
    "outputs = model.generate(inputs, max_length=100, min_length=80, length_penalty=1.0, num_beams=4,\n",
    "                         num_return_sequences=3)\n",
    "\n",
    "print(outputs.shape)\n",
    "for i in range(outputs.shape[0]):\n",
    "    print('\\nResult', i + 1)\n",
    "    print(tokenizer.decode(outputs[i]))\n",
    "\n",
    "outputs = model.generate(inputs, max_length=100, min_length=50, length_penalty=1.0, num_beams=4,\n",
    "                         num_return_sequences=3)\n",
    "print()\n",
    "print(outputs.shape)\n",
    "for i in range(outputs.shape[0]):\n",
    "    print('\\nResult', i + 1)\n",
    "    print(tokenizer.decode(outputs[i]))  \n",
    "\n",
    "outputs = model.generate(inputs, max_length=100, min_length=1, length_penalty=1.0, num_beams=4,\n",
    "                         num_return_sequences=3)\n",
    "print()\n",
    "print(outputs.shape)\n",
    "for i in range(outputs.shape[0]):\n",
    "    print('\\nResult', i + 1)\n",
    "    print(tokenizer.decode(outputs[i]))"
   ]
  },
  {
   "cell_type": "code",
   "execution_count": 55,
   "metadata": {},
   "outputs": [
    {
     "name": "stdout",
     "output_type": "stream",
     "text": [
      "torch.Size([3, 100])\n",
      "\n",
      "Result 1\n",
      "<pad> the coronavirus vaccine developed by the university of Oxford is highly effective at stopping people developing Covid-19 symptoms. interim data suggests 70% protection, but the researchers say the figure may be as high as 90% by tweaking the dose. the vaccine is far cheaper, and is easier to store and get to every corner of the world than the other two. the UK government has pre-ordered 100 million doses of the Oxford vaccine, and AstraZen\n",
      "\n",
      "Result 2\n",
      "<pad> the coronavirus vaccine developed by the university of Oxford is highly effective at stopping people developing Covid-19 symptoms. the results will be seen as a triumph, but come after Pfizer and Moderna vaccines showed 95% protection. the vaccine is far cheaper, and is easier to store and get to every corner of the world than the other two. the UK government has pre-ordered 100 million doses of the Oxford vaccine, and AstraZ\n",
      "\n",
      "Result 3\n",
      "<pad> the coronavirus vaccine developed by the university of Oxford is highly effective at stopping people developing Covid-19 symptoms. interim data suggests 70% protection, but the researchers say the figure may be as high as 90% by tweaking the dose. the vaccine is far cheaper, and is easier to store and get to every corner of the world than the other two. the uk government has pre-ordered 100 million doses of the Oxford vaccine, and AstraZ\n",
      "\n",
      "torch.Size([3, 79])\n",
      "\n",
      "Result 1\n",
      "<pad> the coronavirus vaccine developed by the university of Oxford is highly effective at stopping people developing Covid-19 symptoms. interim data suggests 70% protection, but the researchers say the figure may be as high as 90% by tweaking the dose. the vaccine is far cheaper, and is easier to store and get to every corner of the world than the other two.</s> <pad>\n",
      "\n",
      "Result 2\n",
      "<pad> the coronavirus vaccine developed by the university of Oxford is highly effective at stopping people developing Covid-19 symptoms. the results will be seen as a triumph, but come after Pfizer and Moderna vaccines showed 95% protection. the vaccine is far cheaper, and is easier to store and get to every corner of the world than the other two.</s>\n",
      "\n",
      "Result 3\n",
      "<pad> the coronavirus vaccine developed by the university of Oxford is highly effective at stopping people developing Covid-19 symptoms. interim data suggests 70% protection, but the researchers say the figure may be as high as 90% by tweaking the dose. the vaccine is far cheaper and is easier to store and get to every corner of the world than the other two.</s> <pad> <pad>\n",
      "\n",
      "torch.Size([3, 79])\n",
      "\n",
      "Result 1\n",
      "<pad> the coronavirus vaccine developed by the university of Oxford is highly effective at stopping people developing Covid-19 symptoms. the results will be seen as a triumph, but come after Pfizer and Moderna vaccines showed 95% protection.</s> <pad> <pad> <pad> <pad> <pad> <pad> <pad> <pad> <pad> <pad> <pad> <pad> <pad> <pad> <pad> <pad> <pad> <pad> <pad> <pad> <pad> <pad> <pad> <pad> <pad>\n",
      "\n",
      "Result 2\n",
      "<pad> the coronavirus vaccine developed by the university of Oxford is highly effective at stopping people developing Covid-19 symptoms. interim data suggests 70% protection, but the researchers say the figure may be as high as 90% by tweaking the dose. the vaccine is far cheaper, and is easier to store and get to every corner of the world than the other two.</s> <pad>\n",
      "\n",
      "Result 3\n",
      "<pad> the coronavirus vaccine developed by the university of Oxford is highly effective at stopping people developing Covid-19 symptoms. the results will be seen as a triumph, but come after Pfizer and Moderna vaccines showed 95% protection. the vaccine is far cheaper, and is easier to store and get to every corner of the world than the other two.</s>\n"
     ]
    }
   ],
   "source": [
    "inputs = tokenizer.encode(\"summarize: \" + text1, return_tensors=\"pt\", max_length=512, truncation=True)\n",
    "inputs\n",
    "outputs = model.generate(inputs, max_length=100, min_length=10, length_penalty=10.0, num_beams=4,\n",
    "                         num_return_sequences=3)\n",
    "\n",
    "print(outputs.shape)\n",
    "for i in range(outputs.shape[0]):\n",
    "    print('\\nResult', i + 1)\n",
    "    print(tokenizer.decode(outputs[i]))\n",
    "\n",
    "outputs = model.generate(inputs, max_length=100, min_length=10, length_penalty=0.5, num_beams=4,\n",
    "                         num_return_sequences=3)\n",
    "print()\n",
    "print(outputs.shape)\n",
    "for i in range(outputs.shape[0]):\n",
    "    print('\\nResult', i + 1)\n",
    "    print(tokenizer.decode(outputs[i]))  \n",
    "\n",
    "outputs = model.generate(inputs, max_length=100, min_length=10, length_penalty=0.0, num_beams=4,\n",
    "                         num_return_sequences=3)\n",
    "print()\n",
    "print(outputs.shape)\n",
    "for i in range(outputs.shape[0]):\n",
    "    print('\\nResult', i + 1)\n",
    "    print(tokenizer.decode(outputs[i]))"
   ]
  },
  {
   "cell_type": "code",
   "execution_count": 56,
   "metadata": {},
   "outputs": [
    {
     "name": "stdout",
     "output_type": "stream",
     "text": [
      "torch.Size([3, 79])\n",
      "\n",
      "Result 1\n",
      "<pad> the coronavirus vaccine developed by the university of Oxford is highly effective at stopping people developing Covid-19 symptoms. interim data suggests 70% protection, but the researchers say the figure may be as high as 90% by tweaking the dose. the vaccine is far cheaper, and is easier to store and get to every corner of the world than the other two.</s> <pad>\n",
      "\n",
      "Result 2\n",
      "<pad> the coronavirus vaccine developed by the university of Oxford is highly effective at stopping people developing Covid-19 symptoms. the results will be seen as a triumph, but come after Pfizer and Moderna vaccines showed 95% protection. the vaccine is far cheaper, and is easier to store and get to every corner of the world than the other two.</s>\n",
      "\n",
      "Result 3\n",
      "<pad> the coronavirus vaccine developed by the university of Oxford is highly effective at stopping people developing Covid-19 symptoms. interim data suggests 70% protection, but the researchers say the figure may be as high as 90% by tweaking the dose. the jab is far cheaper, and is easier to store and get to every corner of the world than the other two.</s>\n",
      "\n",
      "torch.Size([3, 79])\n",
      "\n",
      "Result 1\n",
      "<pad> the coronavirus vaccine developed by the university of Oxford is highly effective at stopping people developing Covid-19 symptoms. interim data suggests 70% protection, but the researchers say the figure may be as high as 90% by tweaking the dose. the vaccine is far cheaper, and is easier to store and get to every corner of the world than the other two.</s> <pad>\n",
      "\n",
      "Result 2\n",
      "<pad> the coronavirus vaccine developed by the university of Oxford is highly effective at stopping people developing Covid-19 symptoms. the results will be seen as a triumph, but come after Pfizer and Moderna vaccines showed 95% protection. the vaccine is far cheaper, and is easier to store and get to every corner of the world than the other two.</s>\n",
      "\n",
      "Result 3\n",
      "<pad> the coronavirus vaccine developed by the university of Oxford is highly effective at stopping people developing Covid-19 symptoms. interim data suggests 70% protection, but the researchers say the figure may be as high as 90% by tweaking the dose. the jab is far cheaper, and is easier to store and get to every corner of the world than the other two.</s>\n",
      "\n",
      "torch.Size([3, 79])\n",
      "\n",
      "Result 1\n",
      "<pad> the coronavirus vaccine developed by the university of Oxford is highly effective at stopping people developing Covid-19 symptoms. interim data suggests 70% protection, but the researchers say the figure may be as high as 90% by tweaking the dose. the vaccine is far cheaper, and is easier to store and get to every corner of the world than the other two.</s> <pad>\n",
      "\n",
      "Result 2\n",
      "<pad> the coronavirus vaccine developed by the university of Oxford is highly effective at stopping people developing Covid-19 symptoms. the results will be seen as a triumph, but come after Pfizer and Moderna vaccines showed 95% protection. the vaccine is far cheaper, and is easier to store and get to every corner of the world than the other two.</s>\n",
      "\n",
      "Result 3\n",
      "<pad> the coronavirus vaccine developed by the university of Oxford is highly effective at stopping people developing Covid-19 symptoms. interim data suggests 70% protection, but the researchers say the figure may be as high as 90% by tweaking the dose. the vaccine is far cheaper and is easier to store and get to every corner of the world than the other two.</s> <pad> <pad>\n"
     ]
    }
   ],
   "source": [
    "inputs = tokenizer.encode(\"summarize: \" + text1, return_tensors=\"pt\", max_length=512, truncation=True)\n",
    "inputs\n",
    "outputs = model.generate(inputs, max_length=100, min_length=10, length_penalty=1.0, num_beams=15,\n",
    "                         num_return_sequences=3)\n",
    "\n",
    "print(outputs.shape)\n",
    "for i in range(outputs.shape[0]):\n",
    "    print('\\nResult', i + 1)\n",
    "    print(tokenizer.decode(outputs[i]))\n",
    "\n",
    "outputs = model.generate(inputs, max_length=100, min_length=10, length_penalty=1.0, num_beams=10,\n",
    "                         num_return_sequences=3)\n",
    "print()\n",
    "print(outputs.shape)\n",
    "for i in range(outputs.shape[0]):\n",
    "    print('\\nResult', i + 1)\n",
    "    print(tokenizer.decode(outputs[i]))  \n",
    "\n",
    "outputs = model.generate(inputs, max_length=100, min_length=10, length_penalty=1.0, num_beams=3,\n",
    "                         num_return_sequences=3)\n",
    "print()\n",
    "print(outputs.shape)\n",
    "for i in range(outputs.shape[0]):\n",
    "    print('\\nResult', i + 1)\n",
    "    print(tokenizer.decode(outputs[i]))"
   ]
  },
  {
   "cell_type": "code",
   "execution_count": 57,
   "metadata": {},
   "outputs": [
    {
     "name": "stdout",
     "output_type": "stream",
     "text": [
      "torch.Size([3, 115])\n",
      "\n",
      "Result 1\n",
      "<pad> the coronavirus vaccine developed by the university of Oxford is highly effective at stopping people developing Covid-19 symptoms. interim data suggests 70% protection, but the researchers say the figure may be as high as 90% by tweaking the dose. the vaccine is far cheaper, and is easier to store and get to every corner of the world than the other two. the UK government has pre-ordered 100 million doses of the Oxford vaccine, and AstraZeneca says it will make three billion doses for the world next</s>\n",
      "\n",
      "Result 2\n",
      "<pad> the coronavirus vaccine developed by the university of Oxford is highly effective at stopping people developing Covid-19 symptoms. interim data suggests 70% protection, but the researchers say the figure may be as high as 90% by tweaking the dose. the vaccine is far cheaper, and is easier to store and get to every corner of the world than the other two. the UK government has pre-ordered 100 million doses of the Oxford vaccine, and AstraZeneca says it will make three billion doses for the world next year</s>\n",
      "\n",
      "Result 3\n",
      "<pad> the coronavirus vaccine developed by the university of Oxford is highly effective at stopping people developing Covid-19 symptoms. the results will be seen as a triumph, but come after Pfizer and Moderna vaccines showed 95% protection. the vaccine is far cheaper, and is easier to store and get to every corner of the world than the other two. the UK government has pre-ordered 100 million doses of the Oxford vaccine, and AstraZeneca says it will make three billion doses for the world</s>\n",
      "\n",
      "torch.Size([3, 79])\n",
      "\n",
      "Result 1\n",
      "<pad> the coronavirus vaccine developed by the university of Oxford is highly effective at stopping people developing Covid-19 symptoms. interim data suggests 70% protection, but the researchers say the figure may be as high as 90% by tweaking the dose. the vaccine is far cheaper, and is easier to store and get to every corner of the world than the other two.</s> <pad>\n",
      "\n",
      "Result 2\n",
      "<pad> the coronavirus vaccine developed by the university of Oxford is highly effective at stopping people developing Covid-19 symptoms. the results will be seen as a triumph, but come after Pfizer and Moderna vaccines showed 95% protection. the vaccine is far cheaper, and is easier to store and get to every corner of the world than the other two.</s>\n",
      "\n",
      "Result 3\n",
      "<pad> the coronavirus vaccine developed by the university of Oxford is highly effective at stopping people developing Covid-19 symptoms. interim data suggests 70% protection, but the researchers say the figure may be as high as 90% by tweaking the dose. the jab is far cheaper, and is easier to store and get to every corner of the world than the other two.</s>\n",
      "\n",
      "torch.Size([3, 50])\n",
      "\n",
      "Result 1\n",
      "<pad> the coronavirus vaccine developed by the university of Oxford is highly effective at stopping people developing Covid-19 symptoms. interim data suggests 70% protection, but the researchers say the figure may be as high as 90% by tweaking the dose\n",
      "\n",
      "Result 2\n",
      "<pad> the coronavirus vaccine developed by the university of Oxford is highly effective at stopping people developing Covid-19 symptoms. the results will be seen as a triumph, but come after Pfizer and Moderna vaccines showed 95%\n",
      "\n",
      "Result 3\n",
      "<pad> the coronavirus vaccine developed by the university of Oxford is highly effective at stopping people developing Covid-19 symptoms. interim data suggests 70% protection, but the researchers say the figure may be as high as 90% by tweaking the dose\n"
     ]
    }
   ],
   "source": [
    "inputs = tokenizer.encode(\"summarize: \" + text1, return_tensors=\"pt\", max_length=512, truncation=True)\n",
    "inputs\n",
    "outputs = model.generate(inputs, max_length=1000, min_length=100, length_penalty=2.0, num_beams=8,\n",
    "                         num_return_sequences=3)\n",
    "\n",
    "print(outputs.shape)\n",
    "for i in range(outputs.shape[0]):\n",
    "    print('\\nResult', i + 1)\n",
    "    print(tokenizer.decode(outputs[i]))\n",
    "\n",
    "outputs = model.generate(inputs, max_length=200, min_length=20, length_penalty=2.0, num_beams=8,\n",
    "                         num_return_sequences=3)\n",
    "print()\n",
    "print(outputs.shape)\n",
    "for i in range(outputs.shape[0]):\n",
    "    print('\\nResult', i + 1)\n",
    "    print(tokenizer.decode(outputs[i]))  \n",
    "\n",
    "outputs = model.generate(inputs, max_length=50, min_length=5, length_penalty=0.5, num_beams=5,\n",
    "                         num_return_sequences=3)\n",
    "print()\n",
    "print(outputs.shape)\n",
    "for i in range(outputs.shape[0]):\n",
    "    print('\\nResult', i + 1)\n",
    "    print(tokenizer.decode(outputs[i]))"
   ]
  },
  {
   "cell_type": "markdown",
   "metadata": {},
   "source": [
    "## Discussion about the summarization"
   ]
  },
  {
   "cell_type": "markdown",
   "metadata": {},
   "source": [
    "the coronavirus vaccine developed by the university of Oxford is highly effective at stopping people developing Covid-19 symptoms. interim data suggests 70% protection, but the researchers say the figure may be as high as 90% by tweaking the dose. the vaccine is far cheaper, and is easier to store and get to every corner of the world than the other two. \n",
    "\n",
    "\n",
    "I think that is the best summarization of the article that I found online. That is from max_length=100, min_length=10, length_penalty=1.0, num_beams=4.\n",
    "\n",
    "\n",
    "   The max_length will limit the length of the summarazation, we can see from our example, if we set the max_length to 20 and min_length is 10, the summarazation is not even a sentence, whihc is not we expected. The min_length impact on the legth of summarazation too, like I tested min_length to be 80 and max_length is 100, the rusult will be longer than we expected. The length_penalty also impacted on the result if we set it too zero, we can see from our example the result became shorter than we want and with messy code like lots of 'pad'. Also, if we increase the number_penalty to 10, the result will be longer than number_penalty is 1.0, and addition part is not a sentence. The num_beams will influence our result accuracy. However, I think the text I used is too simple or short, so when the num_beams is 3 have same rusult as 10. That is same for other 3 paramters, if we used differnent length of text, the result will be different. but for the text I choose, I think max_length=100, min_length=10, length_penalty=1.0, num_beams=4 could get the best result I want to see.\n",
    "   \n",
    "   "
   ]
  },
  {
   "cell_type": "markdown",
   "metadata": {},
   "source": [
    " By the way, We can see from our result, like I just double those 4 parameters to be max_length=200, min_length=20, length_penalty=2.0, num_beams=8, the result is same as max_length=100, min_length=10, length_penalty=1.0, num_beams=4. That is kind of reason \n",
    "    why I choose max_length=100, min_length=10, length_penalty=1.0, num_beams=4 is the best summarazation result."
   ]
  },
  {
   "cell_type": "markdown",
   "metadata": {},
   "source": [
    "## Translation\n",
    "\n",
    "Try translating the first paragraph of your news story into German.  Use `num_return_sequences=5` and translate the German back to English using [translate.google.com](https://translate.google.com/).  Experiment with at least three values for the above four parameters.  Using the google translations, describe which German translation is best, and which parameter values led to its generation."
   ]
  },
  {
   "cell_type": "code",
   "execution_count": 77,
   "metadata": {},
   "outputs": [
    {
     "name": "stdout",
     "output_type": "stream",
     "text": [
      "\n",
      "Result 1\n",
      "<pad> Der von der Universität Oxford entwickelte Koronavirus-Impfstoff ist hochwirksam, um die Entwicklung von Covid-19-Symptomen zu stoppen, zeigt eine große Studie. Zwischenzeitliche Daten deuten auf einen Schutz von 70 % hin, aber die Forscher sagen, die Zahl könnte durch eine <unk> nderung der Dosis sogar bis zu 90 % betragen. Die Ergebnisse werden als Triumph angesehen, aber nachdem Impfstoffe von Pfizer und Moderna einen Schutz von 95 % aufwiesen.</s>\n",
      "\n",
      "Result 2\n",
      "<pad> Der von der Universität Oxford entwickelte Koronavirus-Impfstoff ist hochwirksam, um die Entwicklung von Covid-19-Symptomen zu stoppen, zeigt eine große Studie. Zwischenzeitliche Daten deuten auf einen Schutz von 70 % hin, aber die Forscher sagen, die Zahl könnte durch eine <unk> nderung der Dosis sogar bis zu 90 % betragen. Die Ergebnisse werden als Triumph angesehen, kommen jedoch nachdem Impfstoffe von Pfizer und Moderna 95 % des Schutzes</s>\n",
      "\n",
      "Result 3\n",
      "<pad> Der von der Universität Oxford entwickelte Koronavirus-Impfstoff ist hochwirksam, um die Entwicklung von Covid-19-Symptomen zu stoppen, zeigt eine große Studie. Zwischenzeitliche Daten deuten auf einen Schutz von 70 % hin, aber die Forscher sagen, die Zahl könnte durch eine <unk> nderung der Dosis sogar bis zu 90 % betragen. Die Ergebnisse werden als Triumph angesehen, aber nachdem Impfstoffe von Pfizer und Moderna einen Schutz von 95 % erwiesen</s>\n",
      "\n",
      "Result 4\n",
      "<pad> Der von der Universität Oxford entwickelte Koronavirus-Impfstoff ist hochwirksam, um die Entwicklung von Covid-19-Symptomen zu stoppen, zeigt eine große Studie. Zwischenzeitliche Daten deuten auf einen Schutz von 70 % hin, aber die Forscher sagen, die Zahl könnte durch eine <unk> nderung der Dosis sogar bis zu 90 % betragen. Die Ergebnisse werden als Triumph angesehen, aber kommen nachdem Impfstoffe von Pfizer und Moderna 95 % Schutz zeigten.</s> <pad>\n",
      "\n",
      "Result 5\n",
      "<pad> Der von der Universität Oxford entwickelte Koronavirus-Impfstoff ist hochwirksam, um die Entwicklung von Covid-19-Symptomen zu stoppen, zeigt eine große Studie. Zwischenzeitliche Daten deuten auf einen Schutz von 70 % hin, aber die Forscher sagen, die Zahl könnte durch eine <unk> nderung der Dosis sogar bis zu 90 % betragen. Die Ergebnisse werden als Triumph angesehen, aber nachdem Impfstoffe von Pfizer und Moderna einen Schutz von 95 % gezeigt hatten.</s>\n"
     ]
    }
   ],
   "source": [
    "text2 = \"\"\"\n",
    "The coronavirus vaccine developed by the University of Oxford is highly effective at stopping people \n",
    "developing Covid-19 symptoms, a large trial shows.\n",
    "Interim data suggests 70% protection, but the researchers \n",
    "say the figure may be as high as 90% by tweaking the dose.\n",
    "The results will be seen as a triumph, but come after Pfizer and Moderna vaccines showed 95% protection.\n",
    "\"\"\"\n",
    "\n",
    "inputs = tokenizer.encode('translate English to German: ' + text2, return_tensors='pt',\n",
    "                          max_length=512, truncation=True)\n",
    "outputs = model.generate(inputs, max_length=1500, min_length=20, length_penalty=1.0, num_beams=10,\n",
    "                         num_return_sequences=5)\n",
    "\n",
    "for i in range(outputs.shape[0]):\n",
    "    print('\\nResult', i + 1)\n",
    "    print(tokenizer.decode(outputs[i]))"
   ]
  },
  {
   "cell_type": "code",
   "execution_count": 78,
   "metadata": {},
   "outputs": [
    {
     "name": "stdout",
     "output_type": "stream",
     "text": [
      "\n",
      "Result 1\n",
      "<pad> Der von der Universität Oxford entwickelte Koronavirus-Impfstoff ist hochwirksam, um die Entwicklung von Covid-19-Symptomen\n",
      "\n",
      "Result 2\n",
      "<pad> Der von der University of Oxford entwickelte Koronavirus-Impfstoff hält Menschen, die Covid-19-Symptome entwickeln,\n",
      "\n",
      "Result 3\n",
      "<pad> Der von der Universität Oxford entwickelte Koronavirus-Impfstoff hält Menschen, die Covid-19-Symptome entwickeln, sehr\n",
      "\n",
      "Result 4\n",
      "<pad> Eine große Studie zeigt, dass der von der Universität Oxford entwickelte Koronavirus-Impfstoff die Entwicklung von Covid-19\n",
      "\n",
      "Result 5\n",
      "<pad> Eine große Studie zeigt, dass der von der Universität Oxford entwickelte Koronavirus-Impfstoff bei der Verhinderung\n",
      "\n",
      "\n",
      "Result 1\n",
      "<pad> Der von der Universität Oxford entwickelte Koronavirus-Impfstoff ist hochwirksam, um die Entwicklung von Covid-19-Symptomen zu stoppen, zeigt eine große Studie. Zwischenzeitliche Daten deuten auf einen Schutz von 70 % hin, aber die Forscher sagen, die Zahl könnte durch eine <unk> nderung der Dosis sogar bis zu 90 % betragen. Die Ergebnisse werden als Triumph angesehen, aber nachdem Impfstoffe von Pfizer und Moderna einen Schutz von 95 % aufwiesen.</s>\n",
      "\n",
      "Result 2\n",
      "<pad> Der von der Universität Oxford entwickelte Koronavirus-Impfstoff ist hochwirksam, um die Entwicklung von Covid-19-Symptomen zu stoppen, zeigt eine große Studie. Zwischenzeitliche Daten deuten auf einen Schutz von 70 % hin, aber die Forscher sagen, die Zahl könnte durch eine <unk> nderung der Dosis sogar bis zu 90 % betragen. Die Ergebnisse werden als Triumph angesehen, kommen jedoch nachdem Impfstoffe von Pfizer und Moderna 95 % des Schutzes</s>\n",
      "\n",
      "Result 3\n",
      "<pad> Der von der Universität Oxford entwickelte Koronavirus-Impfstoff ist hochwirksam, um die Entwicklung von Covid-19-Symptomen zu stoppen, zeigt eine große Studie. Zwischenzeitliche Daten deuten auf einen Schutz von 70 % hin, aber die Forscher sagen, die Zahl könnte durch eine <unk> nderung der Dosis sogar bis zu 90 % betragen. Die Ergebnisse werden als Triumph angesehen, aber nachdem Impfstoffe von Pfizer und Moderna einen Schutz von 95 % erwiesen</s>\n",
      "\n",
      "Result 4\n",
      "<pad> Der von der Universität Oxford entwickelte Koronavirus-Impfstoff ist hochwirksam, um die Entwicklung von Covid-19-Symptomen zu stoppen, zeigt eine große Studie. Zwischenzeitliche Daten deuten auf einen Schutz von 70 % hin, aber die Forscher sagen, die Zahl könnte durch eine <unk> nderung der Dosis sogar bis zu 90 % betragen. Die Ergebnisse werden als Triumph angesehen, aber kommen nachdem Impfstoffe von Pfizer und Moderna 95 % Schutz zeigten.</s> <pad>\n",
      "\n",
      "Result 5\n",
      "<pad> Der von der Universität Oxford entwickelte Koronavirus-Impfstoff ist hochwirksam, um die Entwicklung von Covid-19-Symptomen zu stoppen, zeigt eine große Studie. Zwischenzeitliche Daten deuten auf einen Schutz von 70 % hin, aber die Forscher sagen, die Zahl könnte durch eine <unk> nderung der Dosis sogar bis zu 90 % betragen. Die Ergebnisse werden als Triumph angesehen, aber nachdem Impfstoffe von Pfizer und Moderna einen Schutz von 95 % gezeigt hatten.</s>\n",
      "\n",
      "\n",
      "Result 1\n",
      "<pad> Der von der Universität Oxford entwickelte Koronavirus-Impfstoff ist hochwirksam, um die Entwicklung von Covid-19-Symptomen zu stoppen, zeigt eine große Studie. Zwischenzeitliche Daten deuten auf einen Schutz von 70 % hin, aber die Forscher sagen, die Zahl könnte durch eine <unk> nderung der Dosis sogar bis zu 90 % betragen. Die Ergebnisse werden als Triumph angesehen, aber nachdem Impfstoffe von Pfizer und Moderna einen Schutz von 95 % aufwiesen.</s>\n",
      "\n",
      "Result 2\n",
      "<pad> Der von der Universität Oxford entwickelte Koronavirus-Impfstoff ist hochwirksam, um die Entwicklung von Covid-19-Symptomen zu stoppen, zeigt eine große Studie. Zwischenzeitliche Daten deuten auf einen Schutz von 70 % hin, aber die Forscher sagen, die Zahl könnte durch eine <unk> nderung der Dosis sogar bis zu 90 % betragen. Die Ergebnisse werden als Triumph angesehen, kommen jedoch nachdem Impfstoffe von Pfizer und Moderna 95 % des Schutzes</s>\n",
      "\n",
      "Result 3\n",
      "<pad> Der von der Universität Oxford entwickelte Koronavirus-Impfstoff ist hochwirksam, um die Entwicklung von Covid-19-Symptomen zu stoppen, zeigt eine große Studie. Zwischenzeitliche Daten deuten auf einen Schutz von 70 % hin, aber die Forscher sagen, die Zahl könnte durch eine <unk> nderung der Dosis sogar bis zu 90 % betragen. Die Ergebnisse werden als Triumph angesehen, aber nachdem Impfstoffe von Pfizer und Moderna einen Schutz von 95 % erwiesen</s>\n",
      "\n",
      "Result 4\n",
      "<pad> Der von der Universität Oxford entwickelte Koronavirus-Impfstoff ist hochwirksam, um die Entwicklung von Covid-19-Symptomen zu stoppen, zeigt eine große Studie. Zwischenzeitliche Daten deuten auf einen Schutz von 70 % hin, aber die Forscher sagen, die Zahl könnte durch eine <unk> nderung der Dosis sogar bis zu 90 % betragen. Die Ergebnisse werden als Triumph angesehen, aber kommen nachdem Impfstoffe von Pfizer und Moderna 95 % Schutz zeigten.</s> <pad>\n",
      "\n",
      "Result 5\n",
      "<pad> Der von der Universität Oxford entwickelte Koronavirus-Impfstoff ist hochwirksam, um die Entwicklung von Covid-19-Symptomen zu stoppen, zeigt eine große Studie. Zwischenzeitliche Daten deuten auf einen Schutz von 70 % hin, aber die Forscher sagen, die Zahl könnte durch eine <unk> nderung der Dosis sogar bis zu 90 % betragen. Die Ergebnisse werden als Triumph angesehen, aber nachdem Impfstoffe von Pfizer und Moderna einen Schutz von 95 % gezeigt hatten.</s>\n"
     ]
    }
   ],
   "source": [
    "\n",
    "inputs = tokenizer.encode('translate English to German: ' + text2, return_tensors='pt',\n",
    "                          max_length=512, truncation=True)\n",
    "outputs = model.generate(inputs, max_length=30, min_length=20, length_penalty=1.0, num_beams=10,\n",
    "                         num_return_sequences=5)\n",
    "\n",
    "for i in range(outputs.shape[0]):\n",
    "    print('\\nResult', i + 1)\n",
    "    print(tokenizer.decode(outputs[i]))\n",
    "    \n",
    "outputs = model.generate(inputs, max_length=150, min_length=20, length_penalty=1.0, num_beams=10,\n",
    "                         num_return_sequences=5)\n",
    "print()\n",
    "\n",
    "for i in range(outputs.shape[0]):\n",
    "    print('\\nResult', i + 1)\n",
    "    print(tokenizer.decode(outputs[i]))\n",
    "\n",
    "outputs = model.generate(inputs, max_length=3000, min_length=20, length_penalty=1.0, num_beams=10,\n",
    "                         num_return_sequences=5)\n",
    "print()\n",
    "for i in range(outputs.shape[0]):\n",
    "    print('\\nResult', i + 1)\n",
    "    print(tokenizer.decode(outputs[i]))    "
   ]
  },
  {
   "cell_type": "code",
   "execution_count": 80,
   "metadata": {},
   "outputs": [
    {
     "name": "stdout",
     "output_type": "stream",
     "text": [
      "\n",
      "Result 1\n",
      "<pad> Der von der Universität Oxford entwickelte Koronavirus-Impfstoff ist hochwirksam, um die Entwicklung von Covid-19-Symptomen zu stoppen, zeigt eine große Studie. Zwischenzeitliche Daten deuten auf einen Schutz von 70 % hin, aber die Forscher sagen, die Zahl könnte durch eine <unk> nderung der Dosis sogar bis zu 90 % betragen. Die Ergebnisse werden als Triumph angesehen, aber nachdem Impfstoffe von Pfizer und Moderna einen Schutz von 95 % aufwiesen.</s>\n",
      "\n",
      "Result 2\n",
      "<pad> Der von der Universität Oxford entwickelte Koronavirus-Impfstoff ist hochwirksam, um die Entwicklung von Covid-19-Symptomen zu stoppen, zeigt eine große Studie. Zwischenzeitliche Daten deuten auf einen Schutz von 70 % hin, aber die Forscher sagen, die Zahl könnte durch eine <unk> nderung der Dosis sogar bis zu 90 % betragen. Die Ergebnisse werden als Triumph angesehen, kommen jedoch nachdem Impfstoffe von Pfizer und Moderna 95 % des Schutzes</s>\n",
      "\n",
      "Result 3\n",
      "<pad> Der von der Universität Oxford entwickelte Koronavirus-Impfstoff ist hochwirksam, um die Entwicklung von Covid-19-Symptomen zu stoppen, zeigt eine große Studie. Zwischenzeitliche Daten deuten auf einen Schutz von 70 % hin, aber die Forscher sagen, die Zahl könnte durch eine <unk> nderung der Dosis sogar bis zu 90 % betragen. Die Ergebnisse werden als Triumph angesehen, aber nachdem Impfstoffe von Pfizer und Moderna einen Schutz von 95 % erwiesen</s>\n",
      "\n",
      "Result 4\n",
      "<pad> Der von der Universität Oxford entwickelte Koronavirus-Impfstoff ist hochwirksam, um die Entwicklung von Covid-19-Symptomen zu stoppen, zeigt eine große Studie. Zwischenzeitliche Daten deuten auf einen Schutz von 70 % hin, aber die Forscher sagen, die Zahl könnte durch eine <unk> nderung der Dosis sogar bis zu 90 % betragen. Die Ergebnisse werden als Triumph angesehen, aber kommen nachdem Impfstoffe von Pfizer und Moderna 95 % Schutz zeigten.</s> <pad>\n",
      "\n",
      "Result 5\n",
      "<pad> Der von der Universität Oxford entwickelte Koronavirus-Impfstoff ist hochwirksam, um die Entwicklung von Covid-19-Symptomen zu stoppen, zeigt eine große Studie. Zwischenzeitliche Daten deuten auf einen Schutz von 70 % hin, aber die Forscher sagen, die Zahl könnte durch eine <unk> nderung der Dosis sogar bis zu 90 % betragen. Die Ergebnisse werden als Triumph angesehen, aber nachdem Impfstoffe von Pfizer und Moderna einen Schutz von 95 % gezeigt hatten.</s>\n",
      "\n",
      "\n",
      "Result 1\n",
      "<pad> Der von der Universität Oxford entwickelte Koronavirus-Impfstoff ist hochwirksam, um die Entwicklung von Covid-19-Symptomen zu stoppen, zeigt eine große Studie. Zwischenzeitliche Daten deuten auf einen Schutz von 70 % hin, aber die Forscher sagen, die Zahl könnte durch eine <unk> nderung der Dosis sogar bis zu 90 % betragen. Die Ergebnisse werden als Triumph angesehen, aber nachdem Impfstoffe von Pfizer und Moderna einen Schutz von 95 % aufwiesen...­­­­­­­­­­­­­­</s> <pad>\n",
      "\n",
      "Result 2\n",
      "<pad> Der von der Universität Oxford entwickelte Koronavirus-Impfstoff ist hochwirksam, um die Entwicklung von Covid-19-Symptomen zu stoppen, zeigt eine große Studie. Zwischenzeitliche Daten deuten auf einen Schutz von 70 % hin, aber die Forscher sagen, die Zahl könnte durch eine <unk> nderung der Dosis sogar bis zu 90 % betragen. Die Ergebnisse werden als Triumph angesehen, aber nachdem Impfstoffe von Pfizer und Moderna einen Schutz von 95 % aufwiesen...­­­­­­­­­­­­­-</s> <pad>\n",
      "\n",
      "Result 3\n",
      "<pad> Der von der Universität Oxford entwickelte Koronavirus-Impfstoff ist hochwirksam, um die Entwicklung von Covid-19-Symptomen zu stoppen, zeigt eine große Studie. Zwischenzeitliche Daten deuten auf einen Schutz von 70 % hin, aber die Forscher sagen, die Zahl könnte durch eine <unk> nderung der Dosis sogar bis zu 90 % betragen. Die Ergebnisse werden als Triumph angesehen, aber nachdem Impfstoffe von Pfizer und Moderna einen Schutz von 95 % aufwiesen...­­­­­­­­­­­­­ </s> <pad>\n",
      "\n",
      "Result 4\n",
      "<pad> Der von der Universität Oxford entwickelte Koronavirus-Impfstoff ist hochwirksam, um die Entwicklung von Covid-19-Symptomen zu stoppen, zeigt eine große Studie. Zwischenzeitliche Daten deuten auf einen Schutz von 70 % hin, aber die Forscher sagen, die Zahl könnte durch eine <unk> nderung der Dosis sogar bis zu 90 % betragen. Die Ergebnisse werden als Triumph angesehen, aber nachdem Impfstoffe von Pfizer und Moderna einen Schutz von 95 % aufwiesen...­­­­­­­­­­­­­­­</s>\n",
      "\n",
      "Result 5\n",
      "<pad> Der von der Universität Oxford entwickelte Koronavirus-Impfstoff ist hochwirksam, um die Entwicklung von Covid-19-Symptomen zu stoppen, zeigt eine große Studie. Zwischenzeitliche Daten deuten auf einen Schutz von 70 % hin, aber die Forscher sagen, die Zahl könnte durch eine <unk> nderung der Dosis sogar bis zu 90 % betragen. Die Ergebnisse werden als Triumph angesehen, aber nachdem Impfstoffe von Pfizer und Moderna einen Schutz von 95 % aufwiesen...­­­­­­­­­­­­­.</s> <pad>\n",
      "\n",
      "\n",
      "Result 1\n",
      "<pad> Der von der Universität Oxford entwickelte Koronavirus-Impfstoff ist hochwirksam, um die Entwicklung von Covid-19-Symptomen zu stoppen, zeigt eine große Studie. Zwischenzeitliche Daten deuten auf einen Schutz von 70 % hin, aber die Forscher sagen, die Zahl könnte durch eine <unk> nderung der Dosis sogar bis zu 90 % betragen. Die Ergebnisse werden als Triumph angesehen, aber nachdem Impfstoffe von Pfizer und Moderna einen Schutz von 95 % aufwiesen.</s>\n",
      "\n",
      "Result 2\n",
      "<pad> Der von der Universität Oxford entwickelte Koronavirus-Impfstoff ist hochwirksam, um die Entwicklung von Covid-19-Symptomen zu stoppen, zeigt eine große Studie. Zwischenzeitliche Daten deuten auf einen Schutz von 70 % hin, aber die Forscher sagen, die Zahl könnte durch eine <unk> nderung der Dosis sogar bis zu 90 % betragen. Die Ergebnisse werden als Triumph angesehen, kommen jedoch nachdem Impfstoffe von Pfizer und Moderna 95 % des Schutzes</s>\n",
      "\n",
      "Result 3\n",
      "<pad> Der von der Universität Oxford entwickelte Koronavirus-Impfstoff ist hochwirksam, um die Entwicklung von Covid-19-Symptomen zu stoppen, zeigt eine große Studie. Zwischenzeitliche Daten deuten auf einen Schutz von 70 % hin, aber die Forscher sagen, die Zahl könnte durch eine <unk> nderung der Dosis sogar bis zu 90 % betragen. Die Ergebnisse werden als Triumph angesehen, aber nachdem Impfstoffe von Pfizer und Moderna einen Schutz von 95 % erwiesen</s>\n",
      "\n",
      "Result 4\n",
      "<pad> Der von der Universität Oxford entwickelte Koronavirus-Impfstoff ist hochwirksam, um die Entwicklung von Covid-19-Symptomen zu stoppen, zeigt eine große Studie. Zwischenzeitliche Daten deuten auf einen Schutz von 70 % hin, aber die Forscher sagen, die Zahl könnte durch eine <unk> nderung der Dosis sogar bis zu 90 % betragen. Die Ergebnisse werden als Triumph angesehen, aber kommen nachdem Impfstoffe von Pfizer und Moderna 95 % Schutz zeigten.</s> <pad>\n",
      "\n",
      "Result 5\n",
      "<pad> Der von der Universität Oxford entwickelte Koronavirus-Impfstoff ist hochwirksam, um die Entwicklung von Covid-19-Symptomen zu stoppen, zeigt eine große Studie. Zwischenzeitliche Daten deuten auf einen Schutz von 70 % hin, aber die Forscher sagen, die Zahl könnte durch eine <unk> nderung der Dosis sogar bis zu 90 % betragen. Die Ergebnisse werden als Triumph angesehen, aber nachdem Impfstoffe von Pfizer und Moderna einen Schutz von 95 % gezeigt hatten.</s>\n"
     ]
    }
   ],
   "source": [
    "\n",
    "\n",
    "inputs = tokenizer.encode('translate English to German: ' + text2, return_tensors='pt',\n",
    "                          max_length=512, truncation=True)\n",
    "outputs = model.generate(inputs, max_length=150, min_length=10, length_penalty=1.0, num_beams=10,\n",
    "                         num_return_sequences=5)\n",
    "\n",
    "for i in range(outputs.shape[0]):\n",
    "    print('\\nResult', i + 1)\n",
    "    print(tokenizer.decode(outputs[i]))\n",
    "    \n",
    "outputs = model.generate(inputs, max_length=150, min_length=130, length_penalty=1.0, num_beams=10,\n",
    "                         num_return_sequences=5)\n",
    "print()\n",
    "\n",
    "for i in range(outputs.shape[0]):\n",
    "    print('\\nResult', i + 1)\n",
    "    print(tokenizer.decode(outputs[i]))\n",
    "\n",
    "outputs = model.generate(inputs, max_length=150, min_length=50, length_penalty=1.0, num_beams=10,\n",
    "                         num_return_sequences=5)\n",
    "print()\n",
    "for i in range(outputs.shape[0]):\n",
    "    print('\\nResult', i + 1)\n",
    "    print(tokenizer.decode(outputs[i]))"
   ]
  },
  {
   "cell_type": "code",
   "execution_count": 82,
   "metadata": {},
   "outputs": [
    {
     "name": "stdout",
     "output_type": "stream",
     "text": [
      "\n",
      "Result 1\n",
      "<pad> Der von der Universität Oxford entwickelte Koronavirus-Impfstoff ist hochwirksam, um die Entwicklung von Covid-19-Symptomen zu stoppen, zeigt eine große Studie. Zwischenzeitliche Daten deuten auf einen Schutz von 70 % hin, aber die Forscher sagen, die Zahl könnte durch eine <unk> nderung der Dosis sogar bis zu 90 % betragen. Die Ergebnisse werden als Triumph angesehen, aber nachdem Impfstoffe von Pfizer und Moderna einen Schutz von 95 % aufwiesen.</s>\n",
      "\n",
      "Result 2\n",
      "<pad> Der von der Universität Oxford entwickelte Koronavirus-Impfstoff ist hochwirksam, um die Entwicklung von Covid-19-Symptomen zu stoppen, zeigt eine große Studie. Zwischenzeitliche Daten deuten auf einen Schutz von 70 % hin, aber die Forscher sagen, die Zahl könnte durch eine <unk> nderung der Dosis sogar bis zu 90 % betragen. Die Ergebnisse werden als Triumph angesehen, kommen jedoch nachdem Impfstoffe von Pfizer und Moderna 95 % des Schutzes</s>\n",
      "\n",
      "Result 3\n",
      "<pad> Der von der Universität Oxford entwickelte Koronavirus-Impfstoff ist hochwirksam, um die Entwicklung von Covid-19-Symptomen zu stoppen, zeigt eine große Studie. Zwischenzeitliche Daten deuten auf einen Schutz von 70 % hin, aber die Forscher sagen, die Zahl könnte durch eine <unk> nderung der Dosis sogar bis zu 90 % betragen. Die Ergebnisse werden als Triumph angesehen, aber nachdem Impfstoffe von Pfizer und Moderna einen Schutz von 95 % erwiesen</s>\n",
      "\n",
      "Result 4\n",
      "<pad> Der von der Universität Oxford entwickelte Koronavirus-Impfstoff ist hochwirksam, um die Entwicklung von Covid-19-Symptomen zu stoppen, zeigt eine große Studie. Zwischenzeitliche Daten deuten auf einen Schutz von 70 % hin, aber die Forscher sagen, die Zahl könnte durch eine <unk> nderung der Dosis sogar bis zu 90 % betragen. Die Ergebnisse werden als Triumph angesehen, aber nachdem Impfstoffe von Pfizer und Moderna einen Schutz von 95 % gezeigt hatten.</s>\n",
      "\n",
      "Result 5\n",
      "<pad> Der von der Universität Oxford entwickelte Koronavirus-Impfstoff ist hochwirksam, um die Entwicklung von Covid-19-Symptomen zu stoppen, zeigt eine große Studie. Zwischenzeitliche Daten deuten auf einen Schutz von 70 % hin, aber die Forscher sagen, die Zahl könnte durch eine <unk> nderung der Dosis sogar bis zu 90 % betragen. Die Ergebnisse werden als Triumph angesehen, kommen jedoch nachdem Impfstoffe von Pfizer und Moderna 95 % Schutz aufwiesen.</s>\n",
      "\n",
      "\n",
      "Result 1\n",
      "<pad> Der von der Universität Oxford entwickelte Koronavirus-Impfstoff ist hochwirksam, um die Entwicklung von Covid-19-Symptomen zu stoppen, zeigt eine große Studie. Zwischenzeitliche Daten deuten auf einen Schutz von 70 % hin, aber die Forscher sagen, die Zahl könnte durch eine <unk> nderung der Dosis sogar bis zu 90 % betragen. Die Ergebnisse werden als Triumph angesehen, aber nachdem Impfstoffe von Pfizer und Moderna einen Schutz von 95 % aufwiesen.</s>\n",
      "\n",
      "Result 2\n",
      "<pad> Der von der Universität Oxford entwickelte Koronavirus-Impfstoff ist hochwirksam, um die Entwicklung von Covid-19-Symptomen zu stoppen, zeigt eine große Studie. Zwischenzeitliche Daten deuten auf einen Schutz von 70 % hin, aber die Forscher sagen, die Zahl könnte durch eine <unk> nderung der Dosis sogar bis zu 90 % betragen. Die Ergebnisse werden als Triumph angesehen, kommen jedoch nachdem Impfstoffe von Pfizer und Moderna 95 % des Schutzes</s>\n",
      "\n",
      "Result 3\n",
      "<pad> Der von der Universität Oxford entwickelte Koronavirus-Impfstoff ist hochwirksam, um die Entwicklung von Covid-19-Symptomen zu stoppen, zeigt eine große Studie. Zwischenzeitliche Daten deuten auf einen Schutz von 70 % hin, aber die Forscher sagen, die Zahl könnte durch eine <unk> nderung der Dosis sogar bis zu 90 % betragen. Die Ergebnisse werden als Triumph angesehen, aber nachdem Impfstoffe von Pfizer und Moderna einen Schutz von 95 % erwiesen</s>\n",
      "\n",
      "Result 4\n",
      "<pad> Der von der Universität Oxford entwickelte Koronavirus-Impfstoff ist hochwirksam, um die Entwicklung von Covid-19-Symptomen zu stoppen, zeigt eine große Studie. Zwischenzeitliche Daten deuten auf einen Schutz von 70 % hin, aber die Forscher sagen, die Zahl könnte durch eine <unk> nderung der Dosis sogar bis zu 90 % betragen. Die Ergebnisse werden als Triumph angesehen, aber nachdem Impfstoffe von Pfizer und Moderna einen Schutz von 95 % gezeigt hatten.</s>\n",
      "\n",
      "Result 5\n",
      "<pad> Der von der Universität Oxford entwickelte Koronavirus-Impfstoff ist hochwirksam, um die Entwicklung von Covid-19-Symptomen zu stoppen, zeigt eine große Studie. Zwischenzeitliche Daten deuten auf einen Schutz von 70 % hin, aber die Forscher sagen, die Zahl könnte durch eine <unk> nderung der Dosis sogar bis zu 90 % betragen. Die Ergebnisse werden als Triumph angesehen, kommen jedoch nachdem Impfstoffe von Pfizer und Moderna 95 % Schutz aufwiesen.</s>\n",
      "\n",
      "\n",
      "Result 1\n",
      "<pad> Der von der Universität Oxford entwickelte Koronavirus-Impfstoff ist hochwirksam, um die Entwicklung von Covid-19-Symptomen zu stoppen, zeigt eine große Studie. Zwischenzeitliche Daten deuten auf einen Schutz von 70 % hin, aber die Forscher sagen, die Zahl könnte durch eine <unk> nderung der Dosis sogar bis zu 90 % betragen. Die Ergebnisse werden als Triumph angesehen, aber nachdem Impfstoffe von Pfizer und Moderna einen Schutz von 95 % aufwiesen.</s>\n",
      "\n",
      "Result 2\n",
      "<pad> Der von der Universität Oxford entwickelte Koronavirus-Impfstoff ist hochwirksam, um die Entwicklung von Covid-19-Symptomen zu stoppen, zeigt eine große Studie. Zwischenzeitliche Daten deuten auf einen Schutz von 70 % hin, aber die Forscher sagen, die Zahl könnte durch eine <unk> nderung der Dosis sogar bis zu 90 % betragen. Die Ergebnisse werden als Triumph angesehen, kommen jedoch nachdem Impfstoffe von Pfizer und Moderna 95 % des Schutzes</s>\n",
      "\n",
      "Result 3\n",
      "<pad> Der von der Universität Oxford entwickelte Koronavirus-Impfstoff ist hochwirksam, um die Entwicklung von Covid-19-Symptomen zu stoppen, zeigt eine große Studie. Zwischenzeitliche Daten deuten auf einen Schutz von 70 % hin, aber die Forscher sagen, die Zahl könnte durch eine <unk> nderung der Dosis sogar bis zu 90 % betragen. Die Ergebnisse werden als Triumph angesehen, aber kommen nachdem Impfstoffe von Pfizer und Moderna 95 % Schutz zeigten.</s> <pad>\n",
      "\n",
      "Result 4\n",
      "<pad> Der von der Universität Oxford entwickelte Koronavirus-Impfstoff ist hochwirksam, um die Entwicklung von Covid-19-Symptomen zu stoppen, zeigt eine große Studie. Zwischenzeitliche Daten deuten auf einen Schutz von 70 % hin, aber die Forscher sagen, die Zahl könnte durch eine <unk> nderung der Dosis sogar bis zu 90 % betragen. Die Ergebnisse werden als Triumph angesehen, aber kommen nachdem Impfstoffe von Pfizer und Moderna 95 % Schutz aufwiesen.</s> <pad>\n",
      "\n",
      "Result 5\n",
      "<pad> Der von der Universität Oxford entwickelte Koronavirus-Impfstoff ist hochwirksam, um die Entwicklung von Covid-19-Symptomen zu stoppen, zeigt eine große Studie. Zwischenzeitliche Daten deuten auf einen Schutz von 70 % hin, aber die Forscher sagen, die Zahl könnte durch eine <unk> nderung der Dosis sogar bis zu 90 % betragen. Die Ergebnisse werden als Triumph angesehen, aber nachdem Impfstoffe von Pfizer und Moderna einen Schutz von 95 % erwiesen</s>\n"
     ]
    }
   ],
   "source": [
    "inputs = tokenizer.encode('translate English to German: ' + text2, return_tensors='pt',\n",
    "                          max_length=512, truncation=True)\n",
    "outputs = model.generate(inputs, max_length=150, min_length=10, length_penalty=10.0, num_beams=10,\n",
    "                         num_return_sequences=5)\n",
    "\n",
    "for i in range(outputs.shape[0]):\n",
    "    print('\\nResult', i + 1)\n",
    "    print(tokenizer.decode(outputs[i]))\n",
    "    \n",
    "outputs = model.generate(inputs, max_length=150, min_length=10, length_penalty=3.0, num_beams=10,\n",
    "                         num_return_sequences=5)\n",
    "print()\n",
    "\n",
    "for i in range(outputs.shape[0]):\n",
    "    print('\\nResult', i + 1)\n",
    "    print(tokenizer.decode(outputs[i]))\n",
    "\n",
    "outputs = model.generate(inputs, max_length=150, min_length=10, length_penalty=0.0, num_beams=10,\n",
    "                         num_return_sequences=5)\n",
    "print()\n",
    "for i in range(outputs.shape[0]):\n",
    "    print('\\nResult', i + 1)\n",
    "    print(tokenizer.decode(outputs[i]))"
   ]
  },
  {
   "cell_type": "code",
   "execution_count": 110,
   "metadata": {},
   "outputs": [
    {
     "name": "stdout",
     "output_type": "stream",
     "text": [
      "\n",
      "Result 1\n",
      "<pad> Der von der Universität Oxford entwickelte Koronavirus-Impfstoff ist hochwirksam, wenn es darum geht, Menschen, die an Covid-19-Symptomen erkranken, zu stoppen, so eine große Studie. Zwischenzeitliche Daten deuten auf einen Schutz von 70 % hin, aber die Forscher sagen, die Zahl könnte durch eine <unk> nderung der Dosis sogar bis zu 90 % betragen. Die Ergebnisse werden als Triumph angesehen, kommen jedoch nachdem Impfstoffe</s>\n",
      "\n",
      "Result 2\n",
      "<pad> Der von der Universität Oxford entwickelte Koronavirus-Impfstoff ist hochwirksam, wenn es darum geht, Menschen, die an Covid-19-Symptomen erkranken, zu stoppen, so eine große Studie. Zwischenzeitliche Daten deuten auf einen Schutz von 70 % hin, aber die Forscher sagen, die Zahl könnte durch eine <unk> nderung der Dosis sogar bis zu 90 % betragen. Die Ergebnisse werden als Triumph angesehen, aber nachdem Impfstoffe von P</s>\n",
      "\n",
      "Result 3\n",
      "<pad> Der von der Universität Oxford entwickelte Koronavirus-Impfstoff ist hochwirksam, wenn es darum geht, Menschen, die an Covid-19-Symptomen erkranken, zu stoppen, so eine große Studie. Zwischenzeitliche Daten deuten auf einen Schutz von 70 % hin, aber die Forscher sagen, die Zahl könnte durch eine <unk> nderung der Dosis sogar bis zu 90 % betragen. Die Ergebnisse werden als Triumph angesehen, aber kommen nachdem Impfstoffe von</s>\n",
      "\n",
      "Result 4\n",
      "<pad> Der von der Universität Oxford entwickelte Koronavirus-Impfstoff ist hochwirksam, wenn es darum geht, Menschen, die an Covid-19-Symptomen erkranken, zu stoppen, so eine große Studie. Zwischenzeitliche Daten deuten auf einen Schutz von 70 % hin, aber die Forscher sagen, die Zahl könnte durch eine Korrektur der Dosis sogar bis zu 90 % betragen. Die Ergebnisse werden als Triumph angesehen, kommen jedoch nachdem Impf</s>\n",
      "\n",
      "Result 5\n",
      "<pad> Der von der Universität Oxford entwickelte Koronavirus-Impfstoff ist hochwirksam, wenn es darum geht, Menschen, die an Covid-19-Symptomen erkranken, zu stoppen, so eine große Studie. Zwischenzeitliche Daten deuten auf einen Schutz von 70 % hin, aber die Forscher sagen, die Zahl könnte durch eine <unk> nderung der Dosis sogar bis zu 90 % betragen. Die Ergebnisse werden als Triumph angesehen, kommen aber nachdem Impfstoffe von</s>\n",
      "\n",
      "\n",
      "Result 1\n",
      "<pad> Der von der Universität Oxford entwickelte Koronavirus-Impfstoff ist hochwirksam, wenn es darum geht, die Entwicklung von Covid-19-Symptomen zu stoppen, zeigt eine große Studie. Zwischenzeitliche Daten deuten auf einen Schutz von 70 % hin, aber die Forscher sagen, die Zahl könnte durch eine <unk> nderung der Dosis sogar bis zu 90 % betragen. Die Ergebnisse werden als Triumph angesehen, kommen jedoch nachdem Impfstoffe von Pfizer und Moderna</s>\n",
      "\n",
      "Result 2\n",
      "<pad> Der von der Universität Oxford entwickelte Koronavirus-Impfstoff ist hochwirksam, wenn es darum geht, die Entwicklung von Covid-19-Symptomen zu stoppen, zeigt eine große Studie. Zwischenzeitliche Daten deuten auf einen Schutz von 70 % hin, aber die Forscher sagen, die Zahl könnte durch eine <unk> nderung der Dosis sogar bis zu 90 % betragen. Die Ergebnisse werden als Triumph angesehen, aber kommen nachdem Impfstoffe von Pfizer und Moderna 95</s>\n",
      "\n",
      "Result 3\n",
      "<pad> Der von der Universität Oxford entwickelte Koronavirus-Impfstoff ist hochwirksam, wenn es darum geht, Menschen, die Covid-19-Symptome entwickeln, zu stoppen, so eine große Studie. Zwischenzeitliche Daten deuten auf einen Schutz von 70 % hin, aber die Forscher sagen, die Zahl könnte durch eine <unk> nderung der Dosis sogar bis zu 90 % betragen. Die Ergebnisse werden als Triumph angesehen, aber nachdem Impfstoffe von Pfizer und Moderna</s>\n",
      "\n",
      "Result 4\n",
      "<pad> Der von der Universität Oxford entwickelte Koronavirus-Impfstoff ist hochwirksam, wenn es darum geht, die Entwicklung von Covid-19-Symptomen zu stoppen, zeigt eine große Studie. Zwischenzeitliche Daten deuten auf einen Schutz von 70 % hin, aber die Forscher sagen, die Zahl könnte durch eine <unk> nderung der Dosis sogar bis zu 90 % betragen. Die Ergebnisse werden als Triumph angesehen, kommen aber nachdem Impfstoffe von Pfizer und Moderna 95</s>\n",
      "\n",
      "Result 5\n",
      "<pad> Der von der Universität Oxford entwickelte Koronavirus-Impfstoff ist hochwirksam, wenn es darum geht, Menschen, die Covid-19-Symptome entwickeln, zu stoppen, so eine große Studie. Zwischenzeitliche Daten deuten auf einen Schutz von 70 % hin, aber die Forscher sagen, die Zahl könnte durch eine <unk> nderung der Dosis sogar bis zu 90 % betragen. Die Ergebnisse werden als Triumph angesehen, kommen jedoch nachdem Impfstoffe von Pfizer und</s>\n",
      "\n",
      "\n",
      "Result 1\n",
      "<pad> Eine große Studie zeigt, dass der von der Universität Oxford entwickelte Koronavirus-Impfstoff bei der Verhinderung von Covid-19-Symptomen sehr wirksam ist. Zwischenzeitliche Daten deuten auf einen Schutz von 70 % hin, aber die Forscher sagen, die Zahl könnte durch eine <unk> nderung der Dosis sogar bis zu 90 % betragen. Die Ergebnisse werden als Triumph angesehen, aber nachdem Impfstoffe von Pfizer und Moderna einen Schutz von 95 % aufwiesen</s>\n",
      "\n",
      "Result 2\n",
      "<pad> Eine große Studie zeigt, dass der von der Universität Oxford entwickelte Koronavirus-Impfstoff bei der Verhinderung von Covid-19-Symptomen sehr wirksam ist. Zwischenzeitliche Daten deuten auf einen Schutz von 70 % hin, aber die Forscher sagen, die Zahl könnte durch eine <unk> nderung der Dosis sogar bis zu 90 % betragen. Die Ergebnisse werden als Triumph angesehen, aber nachdem Impfstoffe von Pfizer und Moderna einen Schutz von 95 % er</s>\n",
      "\n",
      "Result 3\n",
      "<pad> Eine große Studie zeigt, dass der von der Universität Oxford entwickelte Koronavirus-Impfstoff bei der Verhinderung von Covid-19-Symptomen sehr wirksam ist. Zwischenzeitliche Daten deuten auf einen Schutz von 70 % hin, aber die Forscher sagen, die Zahl könnte durch eine <unk> nderung der Dosis sogar bis zu 90 % betragen. Die Ergebnisse werden als Triumph angesehen, kommen jedoch nachdem Impfstoffe von Pfizer und Moderna 95 % des Schutze</s>\n",
      "\n",
      "Result 4\n",
      "<pad> Eine große Studie zeigt, dass der von der Universität Oxford entwickelte Koronavirus-Impfstoff bei der Verhinderung von Covid-19-Symptomen sehr wirksam ist. Zwischenzeitliche Daten deuten auf einen Schutz von 70 % hin, aber die Forscher sagen, die Zahl könnte durch eine <unk> nderung der Dosis sogar bis zu 90 % betragen. Die Ergebnisse werden als Triumph angesehen, aber nachdem Impfstoffe von Pfizer und Moderna einen Schutz von 95 % gezeigt hatten</s>\n",
      "\n",
      "Result 5\n",
      "<pad> Eine große Studie zeigt, dass der von der Universität Oxford entwickelte Koronavirus-Impfstoff bei der Verhinderung von Covid-19-Symptomen sehr wirksam ist. Zwischenzeitliche Daten deuten auf einen Schutz von 70 % hin, aber die Forscher sagen, die Zahl könnte durch eine <unk> nderung der Dosis sogar bis zu 90 % betragen. Die Ergebnisse werden als Triumph angesehen, aber nachdem Impfstoffe von Pfizer und Moderna einen Schutz von 95 % gezeigt haben</s>\n"
     ]
    }
   ],
   "source": [
    "inputs = tokenizer.encode('translate English to German: ' + text2, return_tensors='pt',\n",
    "                          max_length=512, truncation=True)\n",
    "outputs = model.generate(inputs, max_length=150, min_length=10, length_penalty=1.0, num_beams=20,\n",
    "                         num_return_sequences=5)\n",
    "\n",
    "for i in range(outputs.shape[0]):\n",
    "    print('\\nResult', i + 1)\n",
    "    print(tokenizer.decode(outputs[i]))\n",
    "    \n",
    "outputs = model.generate(inputs, max_length=150, min_length=10, length_penalty=1.0, num_beams=15,\n",
    "                         num_return_sequences=5)\n",
    "print()\n",
    "\n",
    "for i in range(outputs.shape[0]):\n",
    "    print('\\nResult', i + 1)\n",
    "    print(tokenizer.decode(outputs[i]))\n",
    "\n",
    "outputs = model.generate(inputs, max_length=150, min_length=10, length_penalty=1.0, num_beams=5,\n",
    "                         num_return_sequences=5)\n",
    "print()\n",
    "for i in range(outputs.shape[0]):\n",
    "    print('\\nResult', i + 1)\n",
    "    print(tokenizer.decode(outputs[i]))"
   ]
  },
  {
   "cell_type": "markdown",
   "metadata": {},
   "source": [
    "## Discussion about translation result\n",
    "\n",
    "\n",
    "\n",
    "According to the result, the translation from max_length=150, min_length=10, length_penalty=1.0, num_beams=5, that is the best:\n",
    "\n",
    "Eine große Studie zeigt, dass der von der Universität Oxford entwickelte Koronavirus-Impfstoff bei der Verhinderung von Covid-19-Symptomen sehr wirksam ist. Zwischenzeitliche Daten deuten auf einen Schutz von 70 % hin, aber die Forscher sagen, die Zahl könnte durch eine <unk> nderung der Dosis sogar bis zu 90 % betragen. Die Ergebnisse werden als Triumph angesehen, aber nachdem Impfstoffe von Pfizer und Moderna einen Schutz von 95 % aufwiesen\n",
    "    \n",
    "Use Goggle translate back to English is:\n",
    "    A large study shows that the coronavirus vaccine developed by Oxford University is very effective in preventing Covid-19 symptoms. Interim data suggest 70% protection, but researchers say the number could go as high as 90% by changing the dose. The results are viewed as a triumph, but after Pfizer and Moderna vaccines showed 95% protection\n",
    "    \n",
    "    \n",
    "That is really close to the initial version. Firstly, I changed max_length to 30,150,3000, and I found 150 is enough for this paragrph, if we use max_length=10, the result will be too short. Secondly, I changed min_length to 10,130,50 and keep max_length as 150 . The result told me that min_length don't affect the translation too much. Then I tried three differences value for length_penalty, the results are very similar. Actually, I can't even find any difference, so I think that paramater doesn't affect the result of translation. Then I changed num_beams to 20,15,5 and use max_length=150, min_length=10, length_penalty=1.0, whcih I conclude from previous experiments. The results from those three values are different. The translations from num_beams 20 and 15 are a little bit inaccurate and miss some information. According to this, I can say the num_beams led to its generation, and max_length affect a little bit.\n"
   ]
  },
  {
   "cell_type": "markdown",
   "metadata": {},
   "source": [
    "## Grammar Checker\n",
    "\n",
    "Write a for loop that checks the grammatical correctness of each sentence in a list of sentences.  Apply it to the first paragraph of your news article.  Describe the results.\n",
    "\n",
    "Now modify at least three of the sentences in your paragraph to make the sentences grammatically incorrect and repeat the analysis of all sentences.  Describe the results. Are your grammatically incorrect sentences correctly identified?"
   ]
  },
  {
   "cell_type": "code",
   "execution_count": 102,
   "metadata": {},
   "outputs": [
    {
     "name": "stdout",
     "output_type": "stream",
     "text": [
      "['The coronavirus vaccine developed by the University of Oxford is highly effective at stopping people \\ndeveloping Covid-19 symptoms, a large trial shows', '\\nInterim data suggests 70% protection, but the researchers \\nsay the figure may be as high as 90% by tweaking the dose', '\\nThe results will be seen as a triumph, but come after Pfizer and Moderna vaccines showed 95% protection', '']\n",
      "<pad> acceptable</s>\n",
      "<pad> acceptable</s>\n",
      "<pad> acceptable</s>\n"
     ]
    }
   ],
   "source": [
    "sentence = \"\"\"The coronavirus vaccine developed by the University of Oxford is highly effective at stopping people \n",
    "developing Covid-19 symptoms, a large trial shows.\n",
    "Interim data suggests 70% protection, but the researchers \n",
    "say the figure may be as high as 90% by tweaking the dose.\n",
    "The results will be seen as a triumph, but come after Pfizer and Moderna vaccines showed 95% protection.\"\"\"\n",
    "\n",
    "text3 = sentence.split(\".\")\n",
    "print(text3)\n",
    "for i in range(len(text3)-1):\n",
    "    inputs = tokenizer.encode('cola sentence: ' + text3[i], return_tensors='pt')\n",
    "    outputs = model.generate(inputs)\n",
    "    print(tokenizer.decode(outputs[0]))"
   ]
  },
  {
   "cell_type": "markdown",
   "metadata": {},
   "source": [
    "# Discussion about result\n",
    "\n",
    "Result told as that 3 sentences in the first paragraph of the article that I found don't have grammar error. The for loop run 3 times and show all is acceptable."
   ]
  },
  {
   "cell_type": "code",
   "execution_count": 109,
   "metadata": {},
   "outputs": [
    {
     "name": "stdout",
     "output_type": "stream",
     "text": [
      "['The coronavirus vaccine developed by the University of Oxford is highly effective is at stopping people \\ndeveloping Covid-19 symptoms, a large trial shows', '\\nInterim data suggests 70% protection, but the researchers \\nis to say the figure may be as high as 90% by tweaking the dose', '\\nThe results will be seen as a triumph, but is will come after Pfizer and Moderna vaccines showed 95% protection', '']\n",
      "<pad> unacceptable</s>\n",
      "<pad> unacceptable</s>\n",
      "<pad> unacceptable</s>\n"
     ]
    }
   ],
   "source": [
    "sentence = \"\"\"The coronavirus vaccine developed by the University of Oxford is highly effective is at stopping people \n",
    "developing Covid-19 symptoms, a large trial shows.\n",
    "Interim data suggests 70% protection, but the researchers \n",
    "is to say the figure may be as high as 90% by tweaking the dose.\n",
    "The results will be seen as a triumph, but is will come after Pfizer and Moderna vaccines showed 95% protection.\"\"\"\n",
    "\n",
    "text3 = sentence.split(\".\")\n",
    "print(text3)\n",
    "\n",
    "for i in range(len(text3)-1):\n",
    "    inputs = tokenizer.encode('cola sentence: ' + text3[i], return_tensors='pt')\n",
    "    outputs = model.generate(inputs)\n",
    "    print(tokenizer.decode(outputs[0]))"
   ]
  },
  {
   "cell_type": "markdown",
   "metadata": {},
   "source": [
    "# Discussion about result\n",
    "\n",
    "The result show 3 unaccepatbles, which are correct as I changed three sentences to be incorrect. Grammatically incorrect sentences correctly identified."
   ]
  },
  {
   "cell_type": "markdown",
   "metadata": {},
   "source": [
    "# Extra Credit\n",
    "\n",
    "Read some of the on-line documentation and examples that describe how to fine-tune the T5 model to do better English to German and German to English translations.  Try fine-tuning the T5 model we use here on example translations.  Does it perform better?\n",
    "\n",
    "Warning: This will take a lot of time to figure out.  First try to find examples on-line of training to fine-tune the model."
   ]
  }
 ],
 "metadata": {
  "kernelspec": {
   "display_name": "Python 3",
   "language": "python",
   "name": "python3"
  },
  "language_info": {
   "codemirror_mode": {
    "name": "ipython",
    "version": 3
   },
   "file_extension": ".py",
   "mimetype": "text/x-python",
   "name": "python",
   "nbconvert_exporter": "python",
   "pygments_lexer": "ipython3",
   "version": "3.8.3"
  }
 },
 "nbformat": 4,
 "nbformat_minor": 4
}
