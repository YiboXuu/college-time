{
 "cells": [
  {
   "cell_type": "markdown",
   "metadata": {},
   "source": [
    "# Reinforcement Learning Solution to the Towers of Hanoi Puzzle"
   ]
  },
  {
   "cell_type": "markdown",
   "metadata": {},
   "source": [
    "Yibo Xu"
   ]
  },
  {
   "cell_type": "markdown",
   "metadata": {},
   "source": [
    "For this assignment, you will use reinforcement learning to solve the [Towers of Hanoi](https://en.wikipedia.org/wiki/Tower_of_Hanoi) puzzle with three pegs and five disks.\n",
    "\n",
    "To accomplish this, you must modify the code discussed in lecture for learning to play Tic-Tac-Toe.  Modify the code  so that it learns to solve the five-disk, three-peg\n",
    "Towers of Hanoi Puzzle.  In some ways, this will be simpler than the\n",
    "Tic-Tac-Toe code.  \n",
    "\n",
    "Steps required to do this include the following:\n",
    "\n",
    "  - Represent the state and move, and use it as a tuple as a key to the Q dictionary.\n",
    "  - Make sure only valid moves are tried from each state.\n",
    "  - Assign reinforcement of $1$ to each move, even for the move that results in the goal state.\n",
    "\n",
    "Make a plot of the number of steps required to reach the goal for each\n",
    "trial.  Each trial starts from the same initial state.  Decay epsilon\n",
    "as in the Tic-Tac-Toe code."
   ]
  },
  {
   "cell_type": "markdown",
   "metadata": {},
   "source": [
    "## Requirements"
   ]
  },
  {
   "cell_type": "markdown",
   "metadata": {},
   "source": [
    "First, how should we represent the state of this puzzle?  We need to keep track of which disks are on which pegs. Name the disks 1, 2, 3, 4, and 5, with 1 being the smallest disk and 5 being the largest. The set of disks on a peg can be represented as a list of integers.  Then the state can be a list of three lists.\n",
    "\n",
    "For example, the starting state with all disks being on the left peg would be `[[1, 2, 3, 4, 5], [], []]`.  After moving disk 1 to peg 2, we have `[[2, 3, 4, 5], [1], []]`.\n",
    "\n",
    "To represent that move we just made, we can use a list of two peg numbers, like `[1, 2]`, representing a move of the top disk on peg 1 to peg 2."
   ]
  },
  {
   "cell_type": "markdown",
   "metadata": {},
   "source": [
    "Now on to some functions. Define at least the following functions. Examples showing required output appear below.\n",
    "\n",
    "   - `print_state(state)`: prints the state in the form shown below\n",
    "   - `get_valid_moves(state)`: returns list of moves that are valid from `state`\n",
    "   - `make_move(state, move)`: returns new (copy of) state after move has been applied.\n",
    "   - `train_Q(n_repetitions, learning_rate, epsilon_decay_factor, get_valid_moves, make_move)`: train the Q function for number of repetitions, decaying epsilon at start of each repetition. Returns Q and list or array of number of steps to reach goal for each repetition.\n",
    "   - `test_Q(Q, max_steps, get_valid_moves, make_move)`: without updating Q, use Q to find greedy action each step until goal is found. Return path of states.\n",
    "\n",
    "A function that you might choose to implement is\n",
    "\n",
    "   - `state_move_tuple(state, move)`: returns tuple of state and move.  \n",
    "    \n",
    "This is useful for converting state and move to a key to be used for the Q dictionary.\n",
    "\n",
    "Show the code and results for testing each function.  Then experiment with various values of `n_repetitions`, `learning_rate`, and `epsilon_decay_factor` to find values that work reasonably well, meaning that eventually the minimum solution path of 31 steps is found consistently.\n",
    "\n",
    "Make a plot of the number of steps in the solution path versus number of repetitions. The plot should clearly show the number of steps in the solution path eventually reaching the minimum of 31 steps, though the decrease will not be monotonic.  Also plot a horizontal, dashed line at a height (value on  y axis) of 31 to show the optimal path length.\n",
    "\n",
    "Use at least a total of 15 sentences to describe the following results:\n",
    "- Add markdown cells in which you describe the Q learning algorithm and your implementation of Q learning as applied to the Towers of Hanoi problem.\n",
    "- Add code cells to examine several Q values from the start state with different moves and discuss if the Q values  make sense. \n",
    "- Also add code cells to examine several Q values from one or two states that are two steps away from the goal and discuss if these Q values make sense."
   ]
  },
  {
   "cell_type": "code",
   "execution_count": 15,
   "metadata": {},
   "outputs": [],
   "source": [
    "import copy as cp\n",
    "import numpy as np\n",
    "import random"
   ]
  },
  {
   "cell_type": "code",
   "execution_count": 89,
   "metadata": {},
   "outputs": [],
   "source": [
    "def print_state(state):\n",
    "    printState = cp.deepcopy(state)\n",
    "    for s in printState:\n",
    "        while len(s) < 5:\n",
    "            s.insert(0, \" \")\n",
    "    \n",
    "    for i in range(5):\n",
    "        print(printState[0][i], end = \" \")\n",
    "        print(printState[1][i], end = \" \")\n",
    "        print(printState[2][i], end = \" \")\n",
    "        print(\"\")\n",
    "    print(\"-----\")    "
   ]
  },
  {
   "cell_type": "code",
   "execution_count": 90,
   "metadata": {},
   "outputs": [],
   "source": [
    "def state_move_tuple(state, move):\n",
    "    state = cp.deepcopy(state)\n",
    "    for i in range(0,3):\n",
    "        state[i] = tuple(state[i])\n",
    "    return (tuple(state), tuple(move))\n"
   ]
  },
  {
   "cell_type": "code",
   "execution_count": 91,
   "metadata": {},
   "outputs": [
    {
     "name": "stdout",
     "output_type": "stream",
     "text": [
      "1     \n",
      "2     \n",
      "3     \n",
      "4     \n",
      "5     \n",
      "-----\n"
     ]
    }
   ],
   "source": [
    "state = [[1, 2, 3, 4, 5], [], []]\n",
    "print_state(state)"
   ]
  },
  {
   "cell_type": "code",
   "execution_count": 92,
   "metadata": {},
   "outputs": [
    {
     "data": {
      "text/plain": [
       "(((1, 2, 3, 4, 5), (), ()), (1, 2))"
      ]
     },
     "execution_count": 92,
     "metadata": {},
     "output_type": "execute_result"
    }
   ],
   "source": [
    "move =[1, 2]  # Move top (smallest) disk from first peg to second peg\n",
    "\n",
    "state_move_tuple(state, move)"
   ]
  },
  {
   "cell_type": "code",
   "execution_count": 93,
   "metadata": {},
   "outputs": [],
   "source": [
    "def get_valid_moves(state):\n",
    "    results = []\n",
    "    for i in range(0,3):\n",
    "        for j in range(0,3):\n",
    "            if i != j:\n",
    "                if len(state[i]) != 0: \n",
    "                    if len(state[j]) == 0: \n",
    "                        results.append([i+1,j+1])\n",
    "                    elif state[j][0] > state[i][0]: \n",
    "                        results.append([i+1,j+1])\n",
    "    return results\n",
    "   "
   ]
  },
  {
   "cell_type": "code",
   "execution_count": 94,
   "metadata": {},
   "outputs": [],
   "source": [
    "def make_move(state, move):\n",
    "    state = cp.deepcopy(state)\n",
    "    state[move[1]-1].insert(0,state[move[0]-1].pop(0))\n",
    "    return state"
   ]
  },
  {
   "cell_type": "code",
   "execution_count": 95,
   "metadata": {},
   "outputs": [
    {
     "data": {
      "text/plain": [
       "[[2, 3, 4, 5], [1], []]"
      ]
     },
     "execution_count": 95,
     "metadata": {},
     "output_type": "execute_result"
    }
   ],
   "source": [
    "new_state = make_move(state, move)\n",
    "new_state"
   ]
  },
  {
   "cell_type": "code",
   "execution_count": 96,
   "metadata": {},
   "outputs": [
    {
     "data": {
      "text/plain": [
       "[[1, 3], [2, 1], [2, 3]]"
      ]
     },
     "execution_count": 96,
     "metadata": {},
     "output_type": "execute_result"
    }
   ],
   "source": [
    "get_valid_moves(new_state)"
   ]
  },
  {
   "cell_type": "code",
   "execution_count": 97,
   "metadata": {},
   "outputs": [
    {
     "name": "stdout",
     "output_type": "stream",
     "text": [
      "      \n",
      "2     \n",
      "3     \n",
      "4     \n",
      "5 1   \n",
      "-----\n"
     ]
    }
   ],
   "source": [
    "print_state(new_state)"
   ]
  },
  {
   "cell_type": "code",
   "execution_count": 155,
   "metadata": {},
   "outputs": [],
   "source": [
    "import numpy as np\n",
    "def epsilonGreedy(epsilon, Q, state):\n",
    "    moveList = get_valid_moves(state)\n",
    "    if np.random.uniform() < epsilon:\n",
    "        choice = np.random.choice(range(len(moveList)))\n",
    "        return moveList[choice]\n",
    "    else:\n",
    "        statesAndMovesTuples = [state_move_tuple(state, move) for move in moveList]\n",
    "        Qs = np.array([Q.get(tup, 0) for tup in statesAndMovesTuples])\n",
    "        return moveList[np.argmin(Qs)]"
   ]
  },
  {
   "cell_type": "code",
   "execution_count": 156,
   "metadata": {},
   "outputs": [],
   "source": [
    "def train_Q(nRepetitions, learningRate, epsilonDecayFactor, validMovesF, makeMoveF, showMoves = False):\n",
    "    Q = {}\n",
    "    numberSteps = []\n",
    "    epsilon = 1.0\n",
    "    for trial in range(nRepetitions):\n",
    "        epsilon *= epsilonDecayFactor\n",
    "        step = 0\n",
    "        state = [[1,2,3,4,5],[],[]] \n",
    "        done = False\n",
    "        \n",
    "        while not done:\n",
    "            step += 1 \n",
    "            move = epsilonGreedy(epsilon, Q, state)\n",
    "            newState = makeMoveF(state, move)\n",
    "            Tup = state_move_tuple(state, move)\n",
    "            newTup = state_move_tuple(newState, move)\n",
    "            #print(step, newTup)\n",
    "            if Tup not in Q:\n",
    "                Q[Tup] = 0 #initiallizes unseen Qs\n",
    "            \n",
    "            if newState == [[],[],[1,2,3,4,5]]: #this means we found the solution.\n",
    "                if showMoves:\n",
    "                    print(\"Found solution in \" + str(step))\n",
    "                Q[Tup] = 1\n",
    "                Q[newTup] = 0\n",
    "                done = True\n",
    "                numberSteps.append(step)\n",
    "            \n",
    "            if step > 1: \n",
    "                Q[(state_move_tuple(stateOld, moveOld))] += learningRate * (1 + Q[Tup] -\n",
    "                                                                         Q[state_move_tuple(stateOld, moveOld)])\n",
    "            \n",
    "            #set old variables\n",
    "            stateOld, moveOld = state, move\n",
    "            state = newState\n",
    "    return Q, numberSteps"
   ]
  },
  {
   "cell_type": "code",
   "execution_count": 157,
   "metadata": {},
   "outputs": [],
   "source": [
    "def test_Q(Q, maxSteps, validMovesF, makeMoveF):\n",
    "    state = [[1,2,3,4,5],[],[]]\n",
    "    path = []\n",
    "    path.append(state)\n",
    "    for i in range(maxSteps):\n",
    "        state = make_move(state, epsilonGreedy(0, Q, state)) # 0 ensures we always take greedy Q\n",
    "        path.append(state)\n",
    "        if state == [[],[],[1,2,3,4,5]]:\n",
    "            return path"
   ]
  },
  {
   "cell_type": "code",
   "execution_count": 158,
   "metadata": {},
   "outputs": [],
   "source": [
    "Q, steps_to_goal = train_Q(200, 0.5, 0.7, get_valid_moves, make_move)"
   ]
  },
  {
   "cell_type": "markdown",
   "metadata": {},
   "source": [
    "# Examples"
   ]
  },
  {
   "cell_type": "code",
   "execution_count": null,
   "metadata": {},
   "outputs": [],
   "source": []
  },
  {
   "cell_type": "code",
   "execution_count": 159,
   "metadata": {},
   "outputs": [
    {
     "name": "stdout",
     "output_type": "stream",
     "text": [
      "1     \n",
      "2     \n",
      "3     \n",
      "4     \n",
      "5     \n",
      "-----\n"
     ]
    }
   ],
   "source": [
    "state = [[1, 2, 3, 4, 5], [], []]\n",
    "print_state(state)"
   ]
  },
  {
   "cell_type": "code",
   "execution_count": 160,
   "metadata": {},
   "outputs": [
    {
     "data": {
      "text/plain": [
       "(((1, 2, 3, 4, 5), (), ()), (1, 2))"
      ]
     },
     "execution_count": 160,
     "metadata": {},
     "output_type": "execute_result"
    }
   ],
   "source": [
    "move =[1, 2]  # Move top (smallest) disk from first peg to second peg\n",
    "\n",
    "state_move_tuple(state, move)"
   ]
  },
  {
   "cell_type": "code",
   "execution_count": 161,
   "metadata": {},
   "outputs": [
    {
     "data": {
      "text/plain": [
       "[[2, 3, 4, 5], [1], []]"
      ]
     },
     "execution_count": 161,
     "metadata": {},
     "output_type": "execute_result"
    }
   ],
   "source": [
    "new_state = make_move(state, move)\n",
    "new_state"
   ]
  },
  {
   "cell_type": "code",
   "execution_count": 162,
   "metadata": {},
   "outputs": [
    {
     "data": {
      "text/plain": [
       "[[1, 3], [2, 1], [2, 3]]"
      ]
     },
     "execution_count": 162,
     "metadata": {},
     "output_type": "execute_result"
    }
   ],
   "source": [
    "get_valid_moves(new_state)"
   ]
  },
  {
   "cell_type": "code",
   "execution_count": 163,
   "metadata": {},
   "outputs": [
    {
     "name": "stdout",
     "output_type": "stream",
     "text": [
      "      \n",
      "2     \n",
      "3     \n",
      "4     \n",
      "5 1   \n",
      "-----\n"
     ]
    }
   ],
   "source": [
    "print_state(new_state)"
   ]
  },
  {
   "cell_type": "code",
   "execution_count": 164,
   "metadata": {},
   "outputs": [
    {
     "data": {
      "text/plain": [
       "[1055,\n",
       " 1035,\n",
       " 3201,\n",
       " 1454,\n",
       " 246,\n",
       " 731,\n",
       " 594,\n",
       " 202,\n",
       " 731,\n",
       " 594,\n",
       " 155,\n",
       " 233,\n",
       " 263,\n",
       " 202,\n",
       " 518,\n",
       " 184,\n",
       " 597,\n",
       " 150,\n",
       " 142,\n",
       " 273,\n",
       " 270,\n",
       " 387,\n",
       " 160,\n",
       " 270,\n",
       " 132,\n",
       " 135,\n",
       " 425,\n",
       " 143,\n",
       " 192,\n",
       " 160,\n",
       " 609,\n",
       " 181,\n",
       " 438,\n",
       " 110,\n",
       " 143,\n",
       " 378,\n",
       " 255,\n",
       " 101,\n",
       " 177,\n",
       " 339,\n",
       " 103,\n",
       " 70,\n",
       " 194,\n",
       " 493,\n",
       " 122,\n",
       " 121,\n",
       " 299,\n",
       " 89,\n",
       " 150,\n",
       " 391,\n",
       " 76,\n",
       " 138,\n",
       " 271,\n",
       " 49,\n",
       " 152,\n",
       " 97,\n",
       " 97,\n",
       " 392,\n",
       " 114,\n",
       " 86,\n",
       " 228,\n",
       " 85,\n",
       " 421,\n",
       " 44,\n",
       " 117,\n",
       " 219,\n",
       " 91,\n",
       " 153,\n",
       " 36,\n",
       " 74,\n",
       " 142,\n",
       " 261,\n",
       " 64,\n",
       " 74,\n",
       " 57,\n",
       " 280,\n",
       " 46,\n",
       " 93,\n",
       " 98,\n",
       " 232,\n",
       " 97,\n",
       " 50,\n",
       " 205,\n",
       " 177,\n",
       " 42,\n",
       " 68,\n",
       " 56,\n",
       " 102,\n",
       " 334,\n",
       " 66,\n",
       " 134,\n",
       " 70,\n",
       " 42,\n",
       " 68,\n",
       " 87,\n",
       " 123,\n",
       " 45,\n",
       " 36,\n",
       " 68,\n",
       " 61,\n",
       " 52,\n",
       " 116,\n",
       " 46,\n",
       " 46,\n",
       " 195,\n",
       " 95,\n",
       " 38,\n",
       " 40,\n",
       " 42,\n",
       " 134,\n",
       " 48,\n",
       " 34,\n",
       " 35,\n",
       " 162,\n",
       " 82,\n",
       " 59,\n",
       " 32,\n",
       " 41,\n",
       " 65,\n",
       " 94,\n",
       " 97,\n",
       " 39,\n",
       " 32,\n",
       " 35,\n",
       " 41,\n",
       " 61,\n",
       " 259,\n",
       " 41,\n",
       " 93,\n",
       " 31,\n",
       " 31,\n",
       " 47,\n",
       " 36,\n",
       " 34,\n",
       " 40,\n",
       " 33,\n",
       " 32,\n",
       " 34,\n",
       " 31,\n",
       " 169,\n",
       " 31,\n",
       " 31,\n",
       " 68,\n",
       " 31,\n",
       " 31,\n",
       " 146,\n",
       " 31,\n",
       " 31,\n",
       " 288,\n",
       " 32,\n",
       " 31,\n",
       " 31,\n",
       " 31,\n",
       " 31,\n",
       " 31,\n",
       " 31,\n",
       " 31,\n",
       " 31,\n",
       " 31,\n",
       " 31,\n",
       " 31,\n",
       " 31,\n",
       " 31,\n",
       " 31,\n",
       " 31,\n",
       " 31,\n",
       " 31,\n",
       " 31,\n",
       " 31,\n",
       " 31,\n",
       " 31,\n",
       " 31,\n",
       " 31,\n",
       " 31,\n",
       " 31,\n",
       " 31,\n",
       " 31,\n",
       " 31,\n",
       " 31,\n",
       " 31,\n",
       " 31,\n",
       " 31,\n",
       " 31,\n",
       " 31,\n",
       " 31,\n",
       " 31,\n",
       " 31,\n",
       " 31,\n",
       " 31,\n",
       " 31,\n",
       " 31,\n",
       " 31,\n",
       " 31,\n",
       " 31,\n",
       " 31,\n",
       " 31,\n",
       " 31,\n",
       " 31,\n",
       " 31,\n",
       " 31]"
      ]
     },
     "execution_count": 164,
     "metadata": {},
     "output_type": "execute_result"
    }
   ],
   "source": [
    "steps_to_goal"
   ]
  },
  {
   "cell_type": "code",
   "execution_count": 165,
   "metadata": {},
   "outputs": [],
   "source": [
    "path = test_Q(Q, 100, get_valid_moves, make_move)"
   ]
  },
  {
   "cell_type": "code",
   "execution_count": 166,
   "metadata": {},
   "outputs": [
    {
     "data": {
      "text/plain": [
       "[[[1, 2, 3, 4, 5], [], []],\n",
       " [[2, 3, 4, 5], [], [1]],\n",
       " [[3, 4, 5], [2], [1]],\n",
       " [[3, 4, 5], [1, 2], []],\n",
       " [[4, 5], [1, 2], [3]],\n",
       " [[1, 4, 5], [2], [3]],\n",
       " [[1, 4, 5], [], [2, 3]],\n",
       " [[4, 5], [], [1, 2, 3]],\n",
       " [[5], [4], [1, 2, 3]],\n",
       " [[5], [1, 4], [2, 3]],\n",
       " [[2, 5], [1, 4], [3]],\n",
       " [[1, 2, 5], [4], [3]],\n",
       " [[1, 2, 5], [3, 4], []],\n",
       " [[2, 5], [3, 4], [1]],\n",
       " [[5], [2, 3, 4], [1]],\n",
       " [[5], [1, 2, 3, 4], []],\n",
       " [[], [1, 2, 3, 4], [5]],\n",
       " [[1], [2, 3, 4], [5]],\n",
       " [[1], [3, 4], [2, 5]],\n",
       " [[], [3, 4], [1, 2, 5]],\n",
       " [[3], [4], [1, 2, 5]],\n",
       " [[3], [1, 4], [2, 5]],\n",
       " [[2, 3], [1, 4], [5]],\n",
       " [[1, 2, 3], [4], [5]],\n",
       " [[1, 2, 3], [], [4, 5]],\n",
       " [[2, 3], [], [1, 4, 5]],\n",
       " [[3], [2], [1, 4, 5]],\n",
       " [[3], [1, 2], [4, 5]],\n",
       " [[], [1, 2], [3, 4, 5]],\n",
       " [[1], [2], [3, 4, 5]],\n",
       " [[1], [], [2, 3, 4, 5]],\n",
       " [[], [], [1, 2, 3, 4, 5]]]"
      ]
     },
     "execution_count": 166,
     "metadata": {},
     "output_type": "execute_result"
    }
   ],
   "source": [
    "path"
   ]
  },
  {
   "cell_type": "code",
   "execution_count": 167,
   "metadata": {
    "scrolled": true
   },
   "outputs": [
    {
     "name": "stdout",
     "output_type": "stream",
     "text": [
      "1     \n",
      "2     \n",
      "3     \n",
      "4     \n",
      "5     \n",
      "-----\n",
      "\n",
      "      \n",
      "2     \n",
      "3     \n",
      "4     \n",
      "5   1 \n",
      "-----\n",
      "\n",
      "      \n",
      "      \n",
      "3     \n",
      "4     \n",
      "5 2 1 \n",
      "-----\n",
      "\n",
      "      \n",
      "      \n",
      "3     \n",
      "4 1   \n",
      "5 2   \n",
      "-----\n",
      "\n",
      "      \n",
      "      \n",
      "      \n",
      "4 1   \n",
      "5 2 3 \n",
      "-----\n",
      "\n",
      "      \n",
      "      \n",
      "1     \n",
      "4     \n",
      "5 2 3 \n",
      "-----\n",
      "\n",
      "      \n",
      "      \n",
      "1     \n",
      "4   2 \n",
      "5   3 \n",
      "-----\n",
      "\n",
      "      \n",
      "      \n",
      "    1 \n",
      "4   2 \n",
      "5   3 \n",
      "-----\n",
      "\n",
      "      \n",
      "      \n",
      "    1 \n",
      "    2 \n",
      "5 4 3 \n",
      "-----\n",
      "\n",
      "      \n",
      "      \n",
      "      \n",
      "  1 2 \n",
      "5 4 3 \n",
      "-----\n",
      "\n",
      "      \n",
      "      \n",
      "      \n",
      "2 1   \n",
      "5 4 3 \n",
      "-----\n",
      "\n",
      "      \n",
      "      \n",
      "1     \n",
      "2     \n",
      "5 4 3 \n",
      "-----\n",
      "\n",
      "      \n",
      "      \n",
      "1     \n",
      "2 3   \n",
      "5 4   \n",
      "-----\n",
      "\n",
      "      \n",
      "      \n",
      "      \n",
      "2 3   \n",
      "5 4 1 \n",
      "-----\n",
      "\n",
      "      \n",
      "      \n",
      "  2   \n",
      "  3   \n",
      "5 4 1 \n",
      "-----\n",
      "\n",
      "      \n",
      "  1   \n",
      "  2   \n",
      "  3   \n",
      "5 4   \n",
      "-----\n",
      "\n",
      "      \n",
      "  1   \n",
      "  2   \n",
      "  3   \n",
      "  4 5 \n",
      "-----\n",
      "\n",
      "      \n",
      "      \n",
      "  2   \n",
      "  3   \n",
      "1 4 5 \n",
      "-----\n",
      "\n",
      "      \n",
      "      \n",
      "      \n",
      "  3 2 \n",
      "1 4 5 \n",
      "-----\n",
      "\n",
      "      \n",
      "      \n",
      "    1 \n",
      "  3 2 \n",
      "  4 5 \n",
      "-----\n",
      "\n",
      "      \n",
      "      \n",
      "    1 \n",
      "    2 \n",
      "3 4 5 \n",
      "-----\n",
      "\n",
      "      \n",
      "      \n",
      "      \n",
      "  1 2 \n",
      "3 4 5 \n",
      "-----\n",
      "\n",
      "      \n",
      "      \n",
      "      \n",
      "2 1   \n",
      "3 4 5 \n",
      "-----\n",
      "\n",
      "      \n",
      "      \n",
      "1     \n",
      "2     \n",
      "3 4 5 \n",
      "-----\n",
      "\n",
      "      \n",
      "      \n",
      "1     \n",
      "2   4 \n",
      "3   5 \n",
      "-----\n",
      "\n",
      "      \n",
      "      \n",
      "    1 \n",
      "2   4 \n",
      "3   5 \n",
      "-----\n",
      "\n",
      "      \n",
      "      \n",
      "    1 \n",
      "    4 \n",
      "3 2 5 \n",
      "-----\n",
      "\n",
      "      \n",
      "      \n",
      "      \n",
      "  1 4 \n",
      "3 2 5 \n",
      "-----\n",
      "\n",
      "      \n",
      "      \n",
      "    3 \n",
      "  1 4 \n",
      "  2 5 \n",
      "-----\n",
      "\n",
      "      \n",
      "      \n",
      "    3 \n",
      "    4 \n",
      "1 2 5 \n",
      "-----\n",
      "\n",
      "      \n",
      "    2 \n",
      "    3 \n",
      "    4 \n",
      "1   5 \n",
      "-----\n",
      "\n",
      "    1 \n",
      "    2 \n",
      "    3 \n",
      "    4 \n",
      "    5 \n",
      "-----\n",
      "\n"
     ]
    }
   ],
   "source": [
    "for s in path:\n",
    "    print_state(s)\n",
    "    print()"
   ]
  },
  {
   "cell_type": "code",
   "execution_count": 168,
   "metadata": {},
   "outputs": [
    {
     "data": {
      "text/plain": [
       "Text(0.5, 1.0, 'Number of Steps vs Number of Repetitions')"
      ]
     },
     "execution_count": 168,
     "metadata": {},
     "output_type": "execute_result"
    },
    {
     "data": {
      "image/png": "[encoded data removed]",
      "text/plain": [
       "<Figure size 1152x360 with 1 Axes>"
      ]
     },
     "metadata": {
      "needs_background": "light"
     },
     "output_type": "display_data"
    }
   ],
   "source": [
    "import matplotlib.pyplot as plt\n",
    "%matplotlib inline\n",
    "\n",
    "plt.figure(figsize=(16,5))\n",
    "x = list(range(1, len(steps_to_goal) + 1)) # x has to be the same size as y\n",
    "plt.subplot(1,1,1)     \n",
    "plt.plot(x, steps_to_goal)\n",
    "plt.hlines(y=7, xmin=0.0, xmax=50.0, color='r', linestyle='dashed')\n",
    "plt.xlabel('No of Repetitions')\n",
    "plt.ylabel('Number of Steps in Solution Path')\n",
    "plt.title('Number of Steps vs Number of Repetitions')"
   ]
  },
  {
   "cell_type": "markdown",
   "metadata": {},
   "source": [
    "## Experiment 1"
   ]
  },
  {
   "cell_type": "markdown",
   "metadata": {},
   "source": [
    "First we'll try different epsilon_decay_factor. This uses a loop that tries each each value .1, .2 ... .9 for epsilon."
   ]
  },
  {
   "cell_type": "code",
   "execution_count": 169,
   "metadata": {},
   "outputs": [
    {
     "data": {
      "image/png": "[encoded data removed]",
      "text/plain": [
       "<Figure size 864x864 with 9 Axes>"
      ]
     },
     "metadata": {
      "needs_background": "light"
     },
     "output_type": "display_data"
    }
   ],
   "source": [
    "import numpy as np\n",
    "import matplotlib.pyplot as plt\n",
    "%matplotlib inline\n",
    "\n",
    "def plotStep(stepsToGoal):\n",
    "    plt.plot(range(1, len(stepsToGoal) + 1), stepsToGoal)\n",
    "    plt.hlines(y = 7, xmin = 1, xmax = len(stepsToGoal), linestyle = \"--\", color = \"red\")\n",
    "results = []\n",
    "\n",
    "for epsilon_decay_factor in np.linspace(0.1, 0.9, 9 ):\n",
    "    results.append(train_Q(200, 0.5, epsilon_decay_factor, get_valid_moves, make_move))\n",
    "fig = plt.figure(figsize = (12, 12))\n",
    "for i in range(1,10):\n",
    "    fig.add_subplot(3,3,i)\n",
    "    plotStep(results[i - 1][1])\n",
    "    plt.title(\"epsilon of .\" + str(i))"
   ]
  },
  {
   "cell_type": "markdown",
   "metadata": {},
   "source": [
    "Then, the learning rate"
   ]
  },
  {
   "cell_type": "code",
   "execution_count": 170,
   "metadata": {},
   "outputs": [
    {
     "data": {
      "image/png": "[encoded data removed]",
      "text/plain": [
       "<Figure size 864x864 with 9 Axes>"
      ]
     },
     "metadata": {
      "needs_background": "light"
     },
     "output_type": "display_data"
    }
   ],
   "source": [
    "results = []\n",
    "\n",
    "for learning_rate in np.linspace(0.1, 0.9, 9 ):\n",
    "    results.append(train_Q(200, learning_rate, 0.7, get_valid_moves, make_move))\n",
    "fig = plt.figure(figsize = (12, 12))\n",
    "for i in range(1,10):\n",
    "    fig.add_subplot(3,3,i)\n",
    "    plotStep(results[i - 1][1])\n",
    "    plt.title(\"learningRate of .\" + str(i))"
   ]
  },
  {
   "cell_type": "markdown",
   "metadata": {},
   "source": [
    "Q-learning is a model-free reinforcement learning algorithm to learn quality of actions telling an agent what action to take under what circumstances."
   ]
  },
  {
   "cell_type": "markdown",
   "metadata": {},
   "source": [
    "According to the experiment that we do above, I found that for n_repetitions =200, learning_rate=0.9, and epsilon_decay_factor = 0.2, work reasonably well, meaning that eventually the minimum solution path of 31 steps is found consistently. Although a lower epsilon value will make epsilonGreedy more likely to choose the greedy choice, the way epsilonGreedy deals with unseen Qs leads epsilonGreedy to choose the unseen choice."
   ]
  },
  {
   "cell_type": "code",
   "execution_count": 179,
   "metadata": {},
   "outputs": [
    {
     "name": "stdout",
     "output_type": "stream",
     "text": [
      "      \n",
      "      \n",
      "1     \n",
      "2     \n",
      "3 4 5 \n",
      "-----\n",
      "we got\n",
      "(((1, 2, 3), (4,), (5,)), (1, 2)) 8.988336697308114\n",
      "(((1, 2, 3), (4,), (5,)), (1, 3)) 8.325659037567675\n",
      "(((1, 2, 3), (4,), (5,)), (2, 3)) 8.0\n"
     ]
    }
   ],
   "source": [
    "state2 = [[1, 2, 3], [4], [5]]\n",
    "move2 = get_valid_moves(state2)\n",
    "print_state(state2)\n",
    "print(\"we got\")\n",
    "for i in range(len(move2)):\n",
    "    print(state_move_tuple(state2,move2[i]),Q.get(state_move_tuple(state2,move2[i])))"
   ]
  },
  {
   "cell_type": "markdown",
   "metadata": {},
   "source": [
    "That Q value make sense as we know we have minimum solution path of 8 steps from state [[1, 2, 3], [4], [5]], which we can know from above path. The Q we got here is around that number."
   ]
  },
  {
   "cell_type": "code",
   "execution_count": 178,
   "metadata": {},
   "outputs": [
    {
     "name": "stdout",
     "output_type": "stream",
     "text": [
      "1     \n",
      "2     \n",
      "3     \n",
      "4     \n",
      "5     \n",
      "-----\n",
      "we got\n",
      "(((1, 2, 3, 4, 5), (), ()), (1, 2)) 31.076008047094906\n",
      "(((1, 2, 3, 4, 5), (), ()), (1, 3)) 30.99999999999489\n"
     ]
    }
   ],
   "source": [
    "state2 = [[1, 2, 3, 4, 5], [], []]\n",
    "move2 = get_valid_moves(state2)\n",
    "print_state(state2)\n",
    "print(\"we got\")\n",
    "for i in range(len(move2)):\n",
    "    print(state_move_tuple(state2,move2[i]),Q.get(state_move_tuple(state2,move2[i])))    "
   ]
  },
  {
   "cell_type": "markdown",
   "metadata": {},
   "source": [
    "That q make sense as we know we have minimum solution path of 31 steps from state [[1, 2, 3, 4, 5], [], []]. The q is around that number. According to this, Q value make sense."
   ]
  },
  {
   "cell_type": "code",
   "execution_count": 184,
   "metadata": {},
   "outputs": [
    {
     "name": "stdout",
     "output_type": "stream",
     "text": [
      "      \n",
      "      \n",
      "    3 \n",
      "    4 \n",
      "1 2 5 \n",
      "-----\n",
      "we got\n",
      "(((1,), (2,), (3, 4, 5)), (1, 2)) 2.4375\n",
      "(((1,), (2,), (3, 4, 5)), (1, 3)) 2.5859375\n",
      "(((1,), (2,), (3, 4, 5)), (2, 3)) 2.0\n"
     ]
    }
   ],
   "source": [
    "state2 = [[1], [2], [3, 4, 5]]\n",
    "move2 = get_valid_moves(state2)\n",
    "print_state(state2)\n",
    "print(\"we got\")\n",
    "for i in range(len(move2)):\n",
    "    print(state_move_tuple(state2,move2[i]),Q.get(state_move_tuple(state2,move2[i])))   "
   ]
  },
  {
   "cell_type": "markdown",
   "metadata": {},
   "source": [
    "That state, [[1], [2], [3, 4, 5]] ,are two steps away from the goal. That can be proved by the Q values, that is 2.0. According to this, Q values make sense here."
   ]
  },
  {
   "cell_type": "markdown",
   "metadata": {},
   "source": [
    "## Extra Credit"
   ]
  },
  {
   "cell_type": "code",
   "execution_count": 215,
   "metadata": {},
   "outputs": [
    {
     "name": "stdout",
     "output_type": "stream",
     "text": [
      "      \n",
      "1     \n",
      "2     \n",
      "3     \n",
      "4     \n",
      "-----\n",
      "[[1, 2], [1, 3]]\n",
      "\n",
      "      \n",
      "      \n",
      "      \n",
      "    3 \n",
      "1 2 4 \n",
      "-----\n",
      "[[1, 2], [1, 3], [2, 3]]\n"
     ]
    }
   ],
   "source": [
    "state = [[1, 2, 3, 4], [], []]\n",
    "print_state(state)\n",
    "print(get_valid_moves(state))\n",
    "\n",
    "print()\n",
    "\n",
    "state2 = [[1], [2], [3, 4]]\n",
    "print_state(state2)\n",
    "print(get_valid_moves(state2))"
   ]
  },
  {
   "cell_type": "code",
   "execution_count": 216,
   "metadata": {},
   "outputs": [],
   "source": [
    "n_repetitions = 200\n",
    "learning_rate = 0.5\n",
    "epsilon_decay_factor = 0.9"
   ]
  },
  {
   "cell_type": "code",
   "execution_count": 217,
   "metadata": {},
   "outputs": [],
   "source": [
    "def train_4Q(nRepetitions, learningRate, epsilonDecayFactor, validMovesF, makeMoveF, showMoves = False):\n",
    "    Q = {}\n",
    "    numberSteps = []\n",
    "    epsilon = 1.0\n",
    "    for trial in range(nRepetitions):\n",
    "        epsilon *= epsilonDecayFactor\n",
    "        step = 0\n",
    "        state = [[1,2,3,4],[],[]] \n",
    "        done = False\n",
    "        \n",
    "        while not done:\n",
    "            step += 1 \n",
    "            move = epsilonGreedy(epsilon, Q, state)\n",
    "            newState = makeMoveF(state, move)\n",
    "            Tup = state_move_tuple(state, move)\n",
    "            newTup = state_move_tuple(newState, move)\n",
    "            #print(step, newTup)\n",
    "            if Tup not in Q:\n",
    "                Q[Tup] = 0 #initiallizes unseen Qs\n",
    "            \n",
    "            if newState == [[],[],[1,2,3,4]]: #this means we found the solution.\n",
    "                if showMoves:\n",
    "                    print(\"Found solution in \" + str(step))\n",
    "                Q[Tup] = 1\n",
    "                Q[newTup] = 0\n",
    "                done = True\n",
    "                numberSteps.append(step)\n",
    "            \n",
    "            if step > 1: \n",
    "                Q[(state_move_tuple(stateOld, moveOld))] += learningRate * (1 + Q[Tup] -\n",
    "                                                                         Q[state_move_tuple(stateOld, moveOld)])\n",
    "            \n",
    "            #set old variables\n",
    "            stateOld, moveOld = state, move\n",
    "            state = newState\n",
    "    return Q, numberSteps\n",
    "\n",
    "Q, steps_to_goal = train_4Q(200, 0.5, 0.7, get_valid_moves, make_move)"
   ]
  },
  {
   "cell_type": "code",
   "execution_count": 218,
   "metadata": {},
   "outputs": [
    {
     "name": "stdout",
     "output_type": "stream",
     "text": [
      "It took 16 steps to get the goal\n"
     ]
    },
    {
     "data": {
      "text/plain": [
       "[[[1, 2, 3, 4], [], []],\n",
       " [[2, 3, 4], [1], []],\n",
       " [[3, 4], [1], [2]],\n",
       " [[3, 4], [], [1, 2]],\n",
       " [[4], [3], [1, 2]],\n",
       " [[1, 4], [3], [2]],\n",
       " [[1, 4], [2, 3], []],\n",
       " [[4], [1, 2, 3], []],\n",
       " [[], [1, 2, 3], [4]],\n",
       " [[], [2, 3], [1, 4]],\n",
       " [[2], [3], [1, 4]],\n",
       " [[1, 2], [3], [4]],\n",
       " [[1, 2], [], [3, 4]],\n",
       " [[2], [1], [3, 4]],\n",
       " [[], [1], [2, 3, 4]],\n",
       " [[], [], [1, 2, 3, 4]]]"
      ]
     },
     "execution_count": 218,
     "metadata": {},
     "output_type": "execute_result"
    }
   ],
   "source": [
    "def test_4Q(Q, maxSteps, validMovesF, makeMoveF):\n",
    "    state = [[1,2,3,4],[],[]]\n",
    "    path = []\n",
    "    path.append(state)\n",
    "    for i in range(maxSteps):\n",
    "        state = make_move(state, epsilonGreedy(0, Q, state)) # 0 ensures we always take greedy Q\n",
    "        path.append(state)\n",
    "        if state == [[],[],[1,2,3,4]]:\n",
    "            return path\n",
    "\n",
    "path = test_4Q(Q, 100, get_valid_moves, make_move)\n",
    "print(\"It took\", len(path), \"steps to get the goal\")\n",
    "path"
   ]
  },
  {
   "cell_type": "code",
   "execution_count": 219,
   "metadata": {},
   "outputs": [
    {
     "name": "stdout",
     "output_type": "stream",
     "text": [
      "      \n",
      "1     \n",
      "2     \n",
      "3     \n",
      "4     \n",
      "-----\n",
      "\n",
      "      \n",
      "      \n",
      "2     \n",
      "3     \n",
      "4 1   \n",
      "-----\n",
      "\n",
      "      \n",
      "      \n",
      "      \n",
      "3     \n",
      "4 1 2 \n",
      "-----\n",
      "\n",
      "      \n",
      "      \n",
      "      \n",
      "3   1 \n",
      "4   2 \n",
      "-----\n",
      "\n",
      "      \n",
      "      \n",
      "      \n",
      "    1 \n",
      "4 3 2 \n",
      "-----\n",
      "\n",
      "      \n",
      "      \n",
      "      \n",
      "1     \n",
      "4 3 2 \n",
      "-----\n",
      "\n",
      "      \n",
      "      \n",
      "      \n",
      "1 2   \n",
      "4 3   \n",
      "-----\n",
      "\n",
      "      \n",
      "      \n",
      "  1   \n",
      "  2   \n",
      "4 3   \n",
      "-----\n",
      "\n",
      "      \n",
      "      \n",
      "  1   \n",
      "  2   \n",
      "  3 4 \n",
      "-----\n",
      "\n",
      "      \n",
      "      \n",
      "      \n",
      "  2 1 \n",
      "  3 4 \n",
      "-----\n",
      "\n",
      "      \n",
      "      \n",
      "      \n",
      "    1 \n",
      "2 3 4 \n",
      "-----\n",
      "\n",
      "      \n",
      "      \n",
      "      \n",
      "1     \n",
      "2 3 4 \n",
      "-----\n",
      "\n",
      "      \n",
      "      \n",
      "      \n",
      "1   3 \n",
      "2   4 \n",
      "-----\n",
      "\n",
      "      \n",
      "      \n",
      "      \n",
      "    3 \n",
      "2 1 4 \n",
      "-----\n",
      "\n",
      "      \n",
      "      \n",
      "    2 \n",
      "    3 \n",
      "  1 4 \n",
      "-----\n",
      "\n",
      "      \n",
      "    1 \n",
      "    2 \n",
      "    3 \n",
      "    4 \n",
      "-----\n",
      "\n"
     ]
    }
   ],
   "source": [
    "for s in path:\n",
    "    print_state(s)\n",
    "    print()"
   ]
  },
  {
   "cell_type": "markdown",
   "metadata": {},
   "source": [
    "## Grading"
   ]
  },
  {
   "cell_type": "markdown",
   "metadata": {
    "collapsed": true
   },
   "source": [
    "Download and extract `A4grader.py` from [A4grader.tar](http://www.cs.colostate.edu/~anderson/cs440/notebooks/A4grader.tar)."
   ]
  },
  {
   "cell_type": "code",
   "execution_count": 220,
   "metadata": {},
   "outputs": [
    {
     "name": "stdout",
     "output_type": "stream",
     "text": [
      "\n",
      "======================= Code Execution =======================\n",
      "\n",
      "['YiboXu-A4.ipynb']\n",
      "Extracting python code from notebook named 'YiboXu-A4.ipynb' and storing in notebookcode.py\n",
      "Removing all statements that are not function or class defs or import statements.\n",
      "\n",
      "Testing\n",
      "\n",
      "  state = [[1], [2,3], [4, 5]]\n",
      "  moves = get_valid_moves(state)\n",
      "\n",
      "\n",
      "--- 5/5 points. Correctly returned [[1, 2], [1, 3], [2, 3]]\n",
      "\n",
      "Testing\n",
      "\n",
      "    state = [[], [], [1, 2, 3, 4, 5]]\n",
      "    moves = get_valid_moves(state)\n",
      "\n",
      "\n",
      "--- 5/5 points. Correctly returned [[3, 1], [3, 2]]\n",
      "\n",
      "Testing\n",
      "\n",
      "    state = [[], [], [1, 2, 3, 4, 5]]\n",
      "    new_state = make_move(state, [3, 1])\n",
      "\n",
      "\n",
      "--- 5/5 points. Correctly returned [[1], [], [2, 3, 4, 5]]\n",
      "\n",
      "Testing\n",
      "\n",
      "    state = [[1, 2], [3], [4, 5]]\n",
      "    new_state = make_move(state, [1, 3])\n",
      "\n",
      "\n",
      "--- 5/5 points. Correctly returned [[2], [3], [1, 4, 5]]\n",
      "\n",
      "Testing\n",
      "\n",
      "    Q, steps = train_Q(1000, 0.5, 0.7, get_valid_moves, make_move)\n",
      "\n",
      "\n",
      "--- 10/10 points. Correctly returned list of steps that has 1000 elements.\n",
      "\n",
      "--- 10/10 points. Correctly returned a Q dictionary with at least 700 elements.\n",
      "\n",
      "Testing\n",
      "\n",
      "    path = test_Q(Q, 20, get_valid_moves, make_move)\n",
      "\n",
      "\n",
      "--- 20/20 points. Correctly returned path with fewer than 40 states.\n",
      "\n",
      "======================================================================\n",
      "hw4 Execution Grade is 60 / 60\n",
      "======================================================================\n",
      "\n",
      "                \n",
      "___ / 10 points. Correct plot of the number of steps in the solution path versus the\n",
      "                 number of repetitions.\n",
      "\n",
      "___ / 10 points. Add markdown cells in which you describe the Q learning algorithm\n",
      "                 and your implementation of Q learning as applied to the \n",
      "                 Towers of Hanoi problem.\n",
      "\n",
      "___ / 10 points. Add code cells to examine several Q values from the start state\n",
      "                 with different moves and discuss if the Q values make sense.\n",
      "\n",
      "___ / 10 points. Also add code cells to examine several Q values from one or two states\n",
      "                 that are two steps away from the goal and discuss if these Q values make sense.\n",
      "\n",
      "\n",
      "======================================================================\n",
      "hw4 Additional Grade is __ / 40\n",
      "======================================================================\n",
      "\n",
      "======================================================================\n",
      "hw4 FINAL GRADE is  _  / 100\n",
      "======================================================================\n",
      "\n",
      "Extra Credit: Earn one point of extra credit for your code for solving\n",
      "the Towers of Hanoi puzzle with four pegs and five disks and the experiments\n",
      "and discussion of results.\n",
      "\n",
      "hw4 EXTRA CREDIT is 0 / 1\n"
     ]
    },
    {
     "data": {
      "text/plain": [
       "<Figure size 432x288 with 0 Axes>"
      ]
     },
     "metadata": {},
     "output_type": "display_data"
    }
   ],
   "source": [
    "%run -i A4grader.py"
   ]
  },
  {
   "cell_type": "markdown",
   "metadata": {},
   "source": [
    "## Extra Credit"
   ]
  },
  {
   "cell_type": "markdown",
   "metadata": {},
   "source": [
    "Modify your code to solve the Towers of Hanoi puzzle with four pegs and five disks.  Name your functions\n",
    "\n",
    "    - print_state_4pegs\n",
    "    - get_valid_moves_4pegs\n",
    "    - make_move_4pegs\n",
    "\n",
    "Find values for number of repetitions, learning rate, and epsilon decay factor for which train_Q learns a Q function that test_Q can use to find the shortest solution path.  Include the output from the successful calls to train_Q and test_Q."
   ]
  },
  {
   "cell_type": "code",
   "execution_count": null,
   "metadata": {},
   "outputs": [],
   "source": []
  }
 ],
 "metadata": {
  "jupytext": {
   "formats": "ipynb,py:light"
  },
  "kernelspec": {
   "display_name": "Python 3",
   "language": "python",
   "name": "python3"
  },
  "language_info": {
   "codemirror_mode": {
    "name": "ipython",
    "version": 3
   },
   "file_extension": ".py",
   "mimetype": "text/x-python",
   "name": "python",
   "nbconvert_exporter": "python",
   "pygments_lexer": "ipython3",
   "version": "3.7.4"
  },
  "toc": {
   "base_numbering": 1,
   "nav_menu": {},
   "number_sections": true,
   "sideBar": true,
   "skip_h1_title": false,
   "title_cell": "Table of Contents",
   "title_sidebar": "Contents",
   "toc_cell": false,
   "toc_position": {},
   "toc_section_display": true,
   "toc_window_display": false
  }
 },
 "nbformat": 4,
 "nbformat_minor": 2
}
