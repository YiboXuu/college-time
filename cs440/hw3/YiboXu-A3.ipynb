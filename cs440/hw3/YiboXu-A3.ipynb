{
 "cells": [
  {
   "cell_type": "markdown",
   "metadata": {
    "toc": true
   },
   "source": [
    "<h1>Table of Contents<span class=\"tocSkip\"></span></h1>\n",
    "<div class=\"toc\"><ul class=\"toc-item\"><li><span><a href=\"#A3:-A*,-IDS,-and-Effective-Branching-Factor\" data-toc-modified-id=\"A3:-A*,-IDS,-and-Effective-Branching-Factor-1\"><span class=\"toc-item-num\">1&nbsp;&nbsp;</span>A3: A*, IDS, and Effective Branching Factor</a></span><ul class=\"toc-item\"><li><span><a href=\"#Heuristic-Functions\" data-toc-modified-id=\"Heuristic-Functions-1.1\"><span class=\"toc-item-num\">1.1&nbsp;&nbsp;</span>Heuristic Functions</a></span></li><li><span><a href=\"#Comparison\" data-toc-modified-id=\"Comparison-1.2\"><span class=\"toc-item-num\">1.2&nbsp;&nbsp;</span>Comparison</a></span></li><li><span><a href=\"#Grading\" data-toc-modified-id=\"Grading-1.3\"><span class=\"toc-item-num\">1.3&nbsp;&nbsp;</span>Grading</a></span></li><li><span><a href=\"#Extra-Credit\" data-toc-modified-id=\"Extra-Credit-1.4\"><span class=\"toc-item-num\">1.4&nbsp;&nbsp;</span>Extra Credit</a></span></li></ul></li></ul></div>"
   ]
  },
  {
   "cell_type": "markdown",
   "metadata": {},
   "source": [
    "Yibo Xu"
   ]
  },
  {
   "cell_type": "markdown",
   "metadata": {},
   "source": [
    "# A3: A\\*, IDS, and Effective Branching Factor"
   ]
  },
  {
   "cell_type": "markdown",
   "metadata": {},
   "source": [
    "For this assignment, implement the Recursive Best-First Search\n",
    "implementation of the A\\* algorithm given in class.  Name this function `Astar_search`.  Also in this notebook include your `iterative_deepening_search` functions.\n",
    "Define a new function named `effective_branching_factor` that returns an estimate of the effective\n",
    "branching factor for a search algorithm applied to a search problem.\n",
    "\n",
    "So, the required functions are\n",
    "\n",
    "   - `Astar_search(start_state, actions_f, take_action_f, goal_test_f, h_f)`\n",
    "   - `iterative_deepening_search(start_state, goal_state, actions_f, take_action_f, max_depth)`\n",
    "   - `effective_branching_factor(n_nodes, depth, precision=0.01)`, returns the effective branching factor, given the number of nodes expanded and depth reached during a search.\n",
    "\n",
    "Apply `iterative_deepening_search` and `Astar_search` to several eight-tile sliding puzzle\n",
    "problems. For this you must include your implementations of these functions from Assignment 2. Here we are renaming these functions to not include `_f`, just for simplicity.\n",
    "\n",
    "  * `actions_8p(state)`: returns a list of up to four valid actions that can be applied in `state`. With each action include a step cost of 1. For example, if all four actions are possible from this state, return [('left', 1), ('right', 1), ('up', 1), ('down', 1)].\n",
    "  * `take_action_8p(state, action)`: return the state that results from applying `action` in `state` and the cost of the one step,\n",
    "  \n",
    "plus the following function for the eight-tile puzzle:\n",
    "\n",
    "  * `goal_test_8p(state, goal)`\n",
    "  \n",
    "Compare their results by displaying\n",
    "solution path depth, number of nodes \n",
    "generated, and the effective branching factor, and discuss the results.  Do this by defining the following function that prints the table as shown in the example below.\n",
    "\n",
    "   - `run_experiment(goal_state_1, goal_state_2, goal_state_3, [h1, h2, h3])`\n",
    "   \n",
    "Define this function so it takes any number of $h$ functions in the list that is the fourth argument."
   ]
  },
  {
   "cell_type": "code",
   "execution_count": 1,
   "metadata": {},
   "outputs": [],
   "source": [
    "import copy\n",
    "import math\n",
    "\n",
    "\n",
    "def effective_branching_factor(nodes, depth, precision=0.01):\n",
    "    if (depth==0):\n",
    "        return 1\n",
    "\n",
    "    first = 1\n",
    "    last = nodes\n",
    "    found = False\n",
    "    midpoint = 0\n",
    "\n",
    "\n",
    "    while first <= last and not found:\n",
    "        midpoint = (first + last) / 2\n",
    "        if(midpoint!=1):\n",
    "            calc=(1-midpoint**(depth+1))/(1-midpoint)\n",
    "        else:\n",
    "            calc=1\n",
    "        if abs(calc - nodes) < precision:\n",
    "            found = True\n",
    "        else:\n",
    "            if nodes < calc:\n",
    "                last = midpoint\n",
    "                \n",
    "            else:\n",
    "                first = midpoint\n",
    "                \n",
    "\n",
    "    return midpoint"
   ]
  },
  {
   "cell_type": "code",
   "execution_count": 2,
   "metadata": {},
   "outputs": [],
   "source": [
    "def depth_limited_search(state, goalState, actionsF, takeActionF, depthLimit, cost=0):\n",
    "    global Nodes\n",
    "    global Depth\n",
    "    if(state == goalState):\n",
    "        return []\n",
    "    if(depthLimit==0):\n",
    "        return 'cutoff'\n",
    "    cutoffOccurred = False\n",
    "    for action in actionsF(state):\n",
    "        Nodes+=1\n",
    "        childState = takeActionF(state, action)\n",
    "        cost+=childState[1]\n",
    "        result = depth_limited_search(childState[0], goalState, actionsF, takeActionF, depthLimit-1)\n",
    "        if(result=='cutoff'):\n",
    "            cutoffOccurred = True\n",
    "        elif(result!='failure'):\n",
    "            result.insert(0, childState[0])\n",
    "            return result\n",
    "    if(cutoffOccurred):\n",
    "        return 'cutoff'\n",
    "    else:\n",
    "        return 'failure'\n",
    "\n",
    "\n",
    "\n",
    "def iterative_deepening_search(startState, goalState, actionsF, takeActionF, maxDepth):\n",
    "    global Nodes\n",
    "    global Depth\n",
    "    for depth in range(maxDepth):\n",
    "        Depth=depth\n",
    "        result = depth_limited_search(startState, goalState, actionsF, takeActionF, depth)\n",
    "        if(result=='failure'):\n",
    "            return 'failure'\n",
    "        if(result!='cutoff'):\n",
    "            result.insert(0, startState)\n",
    "            return result\n",
    "        \n",
    "    return 'cutoff'\n",
    "      \n",
    "    "
   ]
  },
  {
   "cell_type": "code",
   "execution_count": 3,
   "metadata": {},
   "outputs": [],
   "source": [
    "class Node:\n",
    "\n",
    "    def __init__(self, state, f=0, g=0, h=0):\n",
    "        self.state = state\n",
    "        self.f = f\n",
    "        self.g = g\n",
    "        self.h = h\n",
    "\n",
    "    def __repr__(self):\n",
    "        return f'Node({self.state}, f={self.f}, g={self.g}, h={self.h})'\n",
    "\n",
    "\n",
    "    \n",
    "def Astar_search(start_state, actions_f, take_action_f, goal_test_f, heuristic_f):\n",
    "    global Nodes\n",
    "    global prevBest\n",
    "    prevBest=None\n",
    "    Nodes=0\n",
    "    \n",
    "    h = heuristic_f(start_state)\n",
    "    start_node = Node(state=start_state, f=0 + h, g=0, h=h)\n",
    "    return a_star_search_helper(start_node, actions_f, take_action_f, \n",
    "                                goal_test_f, heuristic_f, float('inf'))\n",
    "\n",
    "def a_star_search_helper(parent_node, actions_f, take_action_f, \n",
    "                         goal_test_f, heuristic_f, f_max):\n",
    "    \n",
    "    global Depth\n",
    "    global Nodes\n",
    "    global prevBest\n",
    "\n",
    "    if goal_test_f(parent_node.state):\n",
    "        return ([parent_node.state], parent_node.g)\n",
    "    \n",
    "    ## Construct list of children nodes with f, g, and h values\n",
    "    actions = actions_f(parent_node.state)\n",
    "    if not actions:\n",
    "        return ('failure', float('inf'))\n",
    "    \n",
    "    children = []\n",
    "    for action in actions:\n",
    "        Nodes+=1\n",
    "        (child_state, step_cost) = take_action_f(parent_node.state, action)\n",
    "        h = heuristic_f(child_state)\n",
    "        g = parent_node.g + step_cost\n",
    "        f = max(h + g, parent_node.f)\n",
    "        child_node = Node(state=child_state, f=f, g=g, h=h)\n",
    "        children.append(child_node)\n",
    "        \n",
    "    while True:\n",
    "        # find best child\n",
    "        children.sort(key = lambda n: n.f) # sort by f value\n",
    "        best_child = children[0]\n",
    "        if best_child.f > f_max:\n",
    "            return ('failure', best_child.f)\n",
    "        # next lowest f value\n",
    "        alternative_f = children[1].f if len(children) > 1 else float('inf')\n",
    "        # expand best child, reassign its f value to be returned value\n",
    "        Depth=min(f_max,alternative_f)\n",
    "        result, best_child.f = a_star_search_helper(best_child, actions_f,\n",
    "                                                    take_action_f, goal_test_f,\n",
    "                                                    heuristic_f,\n",
    "                                                    min(f_max,alternative_f))\n",
    "        if result != 'failure':                    #        g\n",
    "            result.insert(0, parent_node.state)    #       / \n",
    "            return (result, best_child.f)  "
   ]
  },
  {
   "cell_type": "markdown",
   "metadata": {},
   "source": [
    "## 8 puzzle functions "
   ]
  },
  {
   "cell_type": "code",
   "execution_count": 4,
   "metadata": {},
   "outputs": [],
   "source": [
    "def find_blank_8p(state):\n",
    "    row = state.index(0)//3\n",
    "    col = state.index(0)%3\n",
    "    return (row,col)\n",
    "\n",
    "def actions_8p(start_state):\n",
    "    actions = []\n",
    "    index = find_blank_8p(start_state)\n",
    "\n",
    "    if index[1] > 0:\n",
    "        actions.append(('left',1))\n",
    "    if index[1] < 2:\n",
    "        actions.append(('right',1))\n",
    "    if index[0] > 0:\n",
    "        actions.append(('up',1))\n",
    "    if index[0] < 2:\n",
    "        actions.append(('down',1))\n",
    "\n",
    "    return actions"
   ]
  },
  {
   "cell_type": "code",
   "execution_count": 5,
   "metadata": {},
   "outputs": [],
   "source": [
    "import copy\n",
    "\n",
    "def take_action_8p(state, action):\n",
    "    left = ('left',1)\n",
    "    right= ('right',1)\n",
    "    up   = ('up',1)\n",
    "    down = ('down',1)\n",
    "    here = state.index(0) #Index of blank\n",
    "    there = state.index(0) #Index of spot to move blank\n",
    "    if(action == left):\n",
    "        there -= 1\n",
    "    elif(action == right):\n",
    "        there += 1\n",
    "    elif(action == up):\n",
    "        there -= 3\n",
    "    elif(action == down):\n",
    "        there += 3\n",
    "\n",
    "    stateCopy = copy.copy(state)\n",
    "    stateCopy[here], stateCopy[there] = stateCopy[there], stateCopy[here]\n",
    "    return (stateCopy,1)\n",
    "\n",
    "\n",
    "def goal_test_8p(state, goal):\n",
    "    return state == goal"
   ]
  },
  {
   "cell_type": "markdown",
   "metadata": {},
   "source": [
    "## Heuristic Functions\n",
    "\n",
    "For `Astar_search` use the following two heuristic functions, plus one more of your own design, for a total of three heuristic functions.\n",
    "\n",
    "  * `h1_8p(state, goal)`: $h(state, goal) = 0$, for all states $state$ and all goal states $goal$,\n",
    "  * `h2_8p(state, goal)`: $h(state, goal) = m$, where $m$ is the Manhattan distance that the blank is from its goal position,\n",
    "  * `h3_8p(state, goal)`: $h(state, goal) = e$, where e is the educlidean distance from blank to its goal position."
   ]
  },
  {
   "cell_type": "code",
   "execution_count": 6,
   "metadata": {},
   "outputs": [],
   "source": [
    "def h1_8p(state, goal):\n",
    "    return 0\n",
    "\n",
    "def h2_8p(state,goal):\n",
    "    startBlank = find_blank_8p(state)        # Get the blank index in the start state\n",
    "    goalBlank = find_blank_8p(goal)          # Get the blank index in the goal state\n",
    "    manhattanDistance = abs(startBlank[0]-goalBlank[0])+abs(startBlank[1]-goalBlank[1])\n",
    "    return manhattanDistance\n",
    "\n",
    "def h3_8p(state,goal):\n",
    "    statePosition = find_blank_8p(state)\n",
    "    goalPosition = find_blank_8p(goal)\n",
    "    return math.sqrt(abs(statePosition[0]-goalPosition[0])**2+abs(statePosition[1]-goalPosition[1])**2)\n"
   ]
  },
  {
   "cell_type": "markdown",
   "metadata": {},
   "source": [
    "## Comparison"
   ]
  },
  {
   "cell_type": "markdown",
   "metadata": {},
   "source": [
    "Apply all four algorithms (`iterative_deepening_search` plus `Astar_search` with the three heuristic\n",
    "functions) to three eight-tile puzzle problems with start state\n",
    "\n",
    "$$\n",
    "\\begin{array}{ccc}\n",
    "1 & 2 & 3\\\\\n",
    "4 & 0 & 5\\\\\n",
    "6 & 7 & 8\n",
    "\\end{array}\n",
    "$$\n",
    "\n",
    "and these three goal states.\n",
    "\n",
    "$$\n",
    "\\begin{array}{ccccccccccc}\n",
    "1 & 2 & 3  & ~~~~ & 1 & 2 & 3  &  ~~~~ & 1 & 0 &  3\\\\\n",
    "4 & 0 & 5  & & 4 & 5 & 8  & & 4 & 5 & 8\\\\\n",
    "6 & 7 & 8 &  & 6 & 0 & 7  & & 2 & 6 & 7\n",
    "\\end{array}\n",
    "$$"
   ]
  },
  {
   "cell_type": "markdown",
   "metadata": {},
   "source": [
    "Print a well-formatted table like the following.  Try to match this\n",
    "format. If you have time, you might consider learning a bit about the `DataFrame` class in the `pandas` package.  When displayed in jupyter notebooks, `pandas.DataFrame` objects are nicely formatted in html.\n",
    "\n",
    "           [1, 2, 3, 4, 0, 5, 6, 7, 8]    [1, 2, 3, 4, 5, 8, 6, 0, 7]    [1, 0, 3, 4, 5, 8, 2, 6, 7] \n",
    "    Algorithm    Depth  Nodes  EBF              Depth  Nodes  EBF              Depth  Nodes  EBF          \n",
    "         IDS       0      0  0.000                3     43  3.086               11 225850  2.954         \n",
    "        A*h1       0      0  0.000                3    116  4.488               11 643246  3.263         \n",
    "        A*h2       0      0  0.000                3     51  3.297               11 100046  2.733         \n",
    "\n",
    "Of course you will have one more line for `h3`."
   ]
  },
  {
   "cell_type": "code",
   "execution_count": 7,
   "metadata": {},
   "outputs": [
    {
     "name": "stdout",
     "output_type": "stream",
     "text": [
      "[1, 2, 3, 4, 0, 5, 6, 7, 8]\n",
      "Algorithm Depth Nodes EBF  Duration (sec)\n",
      "      IDS     0     0   1        0.000005\n",
      "     A*H1     0     0   1        0.000037\n",
      "     A*H2     0     0   1        0.000015\n",
      "     A*H3     0     0   1        0.000018\n",
      "\n",
      "\n",
      "[1, 2, 3, 4, 5, 8, 6, 0, 7]\n",
      "Algorithm Depth Nodes       EBF  Duration (sec)\n",
      "      IDS     3    43  3.086029        0.000113\n",
      "     A*H1     3   116  4.487587        0.000541\n",
      "     A*H2     3    51  3.296829        0.000333\n",
      "     A*H3     3    22  2.356720        0.000191\n",
      "\n",
      "\n",
      "[1, 0, 3, 4, 5, 8, 2, 6, 7]\n",
      "Algorithm Depth   Nodes       EBF  Duration (sec)\n",
      "      IDS    11  225850  2.953883        0.730610\n",
      "     A*H1    11  643246  3.262756        3.726864\n",
      "     A*H2    11  100046  2.732593        0.738366\n",
      "     A*H3    11  367417  3.093927        2.870863\n",
      "\n",
      "\n"
     ]
    }
   ],
   "source": [
    "import pandas as pd\n",
    "import time\n",
    "\n",
    "\n",
    "def runExperiment(goalState1, goalState2, goalState3, h):\n",
    "    \"\"\"set global variables to find nodes and depth of each search.  for each goal, create a new pandas dataframe and\n",
    "    execute ebf and time methods to add to dataframe along with nodes and depth.  \n",
    "    \"\"\"\n",
    "    global Depth\n",
    "    global Nodes\n",
    "    Depth=0\n",
    "    Nodes=0\n",
    "    \n",
    "    h1_8p = h[0]\n",
    "    h2_8p = h[1]\n",
    "    h3_8p = h[2]\n",
    "    \n",
    "    for goal in [goalState1,goalState2,goalState3]:\n",
    "        results=pd.DataFrame(columns=['Algorithm','Depth', 'Nodes', 'EBF','Duration (sec)'])\n",
    "        print(goal)\n",
    "        Nodes = 0\n",
    "        Depth = 0\n",
    "        start_time = time.time()\n",
    "        solutionPath = iterative_deepening_search(startState, goal, actions_8p, take_action_8p, 100)\n",
    "        end_time = time.time()\n",
    "\n",
    "        results.loc[-1] = [\"IDS\", Depth,Nodes,effective_branching_factor(Nodes,Depth),end_time-start_time]\n",
    "        results.index = results.index + 1\n",
    "        \n",
    "        start_time = time.time()\n",
    "        solutionPath =Astar_search(startState, actions_8p, take_action_8p, lambda s: goal_test_8p(s, goal),lambda s: h1_8p(s, goal))\n",
    "        end_time = time.time()        \n",
    "        results.loc[-1] = [\"A*H1\", Depth,Nodes,effective_branching_factor(Nodes,Depth),end_time-start_time]\n",
    "        results.index = results.index + 1   \n",
    "\n",
    "        start_time = time.time()\n",
    "        solutionPath = Astar_search(startState, actions_8p, take_action_8p, lambda s: goal_test_8p(s, goal),lambda s: h2_8p(s, goal))\n",
    "        end_time = time.time()        \n",
    "        results.loc[-1] = [\"A*H2\", Depth,Nodes,effective_branching_factor(Nodes,Depth),end_time-start_time]\n",
    "        results.index = results.index + 1   \n",
    "        \n",
    "        start_time = time.time()\n",
    "        solutionPath =Astar_search(startState, actions_8p, take_action_8p, lambda s: goal_test_8p(s, goal),lambda s: h3_8p(s, goal))\n",
    "        end_time = time.time()\n",
    "        results.loc[-1] = [\"A*H3\", Depth,Nodes,effective_branching_factor(Nodes,Depth),end_time-start_time]\n",
    "        results.index = results.index + 1   \n",
    "        \n",
    "        print(results.to_string(index=False))\n",
    "        print()\n",
    "        print()\n",
    "\n",
    "    \n",
    "startState = [1, 2, 3, 4, 0, 5, 6, 7, 8]\n",
    "goalState1 = [1, 2, 3, 4, 0, 5, 6, 7, 8]\n",
    "goalState2 = [1, 2, 3, 4, 5, 8, 6, 0, 7]\n",
    "goalState3 = [1, 0, 3, 4, 5, 8, 2, 6, 7]\n",
    "runExperiment(goalState1, goalState2, goalState3, [h1_8p, h2_8p, h3_8p])\n"
   ]
  },
  {
   "cell_type": "markdown",
   "metadata": {},
   "source": [
    "## Description \n",
    "\n",
    "\n",
    "At least 6 meaningful sentences describing your third heuristic function.\n",
    "                  Describe what it calculates and argue why you think it is admissible.\n",
    "\n",
    "Answer:\n",
    "In my third heuristic function that calculate the Euclidean distance, that used math function like d = sqrt((x1-x2)^2+(y1-y2)^2) for caculating distance between 2 spot in 2 dimensions. Euclidean distance is like a crow flies. \n",
    " That will do a straight line between two spots. As we know a heuristic function is admissible if it never overestimates the distance to the goal vertex, so the function I implement should be admissible because the straight line can never overestimate the distance. Also, we can check the result that we got from running Astar search, we  see that answer is very close to h2 and h1, which prove our heuristic function is admissible.\n",
    "\n",
    "\n",
    "\n",
    "\n",
    "\n",
    "\n",
    "\n",
    "\n",
    "\n",
    "\n",
    "\n",
    "\n",
    "\n",
    "\n",
    "\n"
   ]
  },
  {
   "cell_type": "markdown",
   "metadata": {},
   "source": [
    "## Description"
   ]
  },
  {
   "cell_type": "markdown",
   "metadata": {},
   "source": [
    "At least 6 more sentences that discuss the similarities and differences in your\n",
    "   results for each search method and heuristic function.\n",
    "                  \n",
    "answer:\n",
    " In the second goal, the heuristic that I came up with explores almost 3 times less nodes than the 2nd best (A*H2). For goal number 3, A*H2 explores almost 21 times less nodes than the 2nd best algorithm (Ids). Given the growing difference between ids and the other algorithms with larger depth, it shows that a better heuristic can drastically improve runtimes. Such as A*H2, the nodes reduced many times along with the growing depth. However, that remind me the heuristic should fit the situation, the h3 I implement is not fit well in this situation as nodes suddenly increasing in goal 3.\n",
    "\n",
    "In general though, it appears that even a relatively simple heuristic can outperform a standard iterative deepening search as the problem gets larger. For the 2nd goal, A*h2 does slightly greater than IDS. But with goal 3, A*h2 suddenly outperforms IDS by over a factor of 4 times. Even the heuristic that I implemented works better than Ids.\n",
    "\n",
    "These results lead me to firmly believe that A* algorithms are absolutely the way to go when it comes to path searching. This is of course assuming the heuristic paired with A* isn't as \"dumb\" as A*h1 that always returns 0.\n",
    "                  \n",
    "                  "
   ]
  },
  {
   "cell_type": "markdown",
   "metadata": {},
   "source": [
    "。\n"
   ]
  },
  {
   "cell_type": "markdown",
   "metadata": {},
   "source": [
    "。"
   ]
  },
  {
   "cell_type": "markdown",
   "metadata": {},
   "source": [
    "First, some example output for the effective_branching_factor function.  During execution, this example shows debugging output which is the low and high values passed into a recursive helper function."
   ]
  },
  {
   "cell_type": "code",
   "execution_count": 10,
   "metadata": {},
   "outputs": [
    {
     "data": {
      "text/plain": [
       "1.661376953125"
      ]
     },
     "execution_count": 10,
     "metadata": {},
     "output_type": "execute_result"
    }
   ],
   "source": [
    "effective_branching_factor(10, 3)"
   ]
  },
  {
   "cell_type": "markdown",
   "metadata": {},
   "source": [
    "\n",
    "The smallest argument values should be a depth of 0, and 1 node."
   ]
  },
  {
   "cell_type": "code",
   "execution_count": 11,
   "metadata": {},
   "outputs": [
    {
     "data": {
      "text/plain": [
       "1"
      ]
     },
     "execution_count": 11,
     "metadata": {},
     "output_type": "execute_result"
    }
   ],
   "source": [
    "effective_branching_factor(1, 0)"
   ]
  },
  {
   "cell_type": "code",
   "execution_count": 12,
   "metadata": {},
   "outputs": [
    {
     "data": {
      "text/plain": [
       "1.0078125"
      ]
     },
     "execution_count": 12,
     "metadata": {},
     "output_type": "execute_result"
    }
   ],
   "source": [
    "effective_branching_factor(2, 1)\n"
   ]
  },
  {
   "cell_type": "code",
   "execution_count": 13,
   "metadata": {},
   "outputs": [
    {
     "data": {
      "text/plain": [
       "1.0000009536743164"
      ]
     },
     "execution_count": 13,
     "metadata": {},
     "output_type": "execute_result"
    }
   ],
   "source": [
    "effective_branching_factor(2, 1, precision=0.000001)"
   ]
  },
  {
   "cell_type": "code",
   "execution_count": 14,
   "metadata": {},
   "outputs": [
    {
     "data": {
      "text/plain": [
       "11.275596931956898"
      ]
     },
     "execution_count": 14,
     "metadata": {},
     "output_type": "execute_result"
    }
   ],
   "source": [
    "effective_branching_factor(200000, 5)"
   ]
  },
  {
   "cell_type": "code",
   "execution_count": 15,
   "metadata": {},
   "outputs": [
    {
     "data": {
      "text/plain": [
       "1.2348192492705223"
      ]
     },
     "execution_count": 15,
     "metadata": {},
     "output_type": "execute_result"
    }
   ],
   "source": [
    "effective_branching_factor(200000, 50)"
   ]
  },
  {
   "cell_type": "markdown",
   "metadata": {},
   "source": [
    "Here is a simple example using our usual simple graph search."
   ]
  },
  {
   "cell_type": "code",
   "execution_count": 16,
   "metadata": {},
   "outputs": [],
   "source": [
    "def actions_simple(state):\n",
    "    succs = {'a': ['b', 'c'], 'b':['a'], 'c':['h'], 'h':['i'], 'i':['j', 'k', 'l'], 'k':['z']}\n",
    "    return [(s, 1) for s in succs.get(state, [])]\n",
    "\n",
    "def take_action_simple(state, action):\n",
    "    return action\n",
    "\n",
    "def goal_test_simple(state, goal):\n",
    "    return state == goal\n",
    "\n",
    "def h_simple(state, goal):\n",
    "    return 1"
   ]
  },
  {
   "cell_type": "code",
   "execution_count": 17,
   "metadata": {},
   "outputs": [
    {
     "data": {
      "text/plain": [
       "[('b', 1), ('c', 1)]"
      ]
     },
     "execution_count": 17,
     "metadata": {},
     "output_type": "execute_result"
    }
   ],
   "source": [
    "actions = actions_simple('a')\n",
    "actions"
   ]
  },
  {
   "cell_type": "code",
   "execution_count": 18,
   "metadata": {},
   "outputs": [
    {
     "data": {
      "text/plain": [
       "('b', 1)"
      ]
     },
     "execution_count": 18,
     "metadata": {},
     "output_type": "execute_result"
    }
   ],
   "source": [
    "take_action_simple('a', actions[0])"
   ]
  },
  {
   "cell_type": "code",
   "execution_count": 19,
   "metadata": {},
   "outputs": [
    {
     "data": {
      "text/plain": [
       "True"
      ]
     },
     "execution_count": 19,
     "metadata": {},
     "output_type": "execute_result"
    }
   ],
   "source": [
    "goal_test_simple('a', 'a')"
   ]
  },
  {
   "cell_type": "code",
   "execution_count": 20,
   "metadata": {},
   "outputs": [
    {
     "data": {
      "text/plain": [
       "1"
      ]
     },
     "execution_count": 20,
     "metadata": {},
     "output_type": "execute_result"
    }
   ],
   "source": [
    "h_simple('a', 'z')"
   ]
  },
  {
   "cell_type": "code",
   "execution_count": 21,
   "metadata": {},
   "outputs": [
    {
     "data": {
      "text/plain": [
       "['a', 'c', 'h', 'i', 'k', 'z']"
      ]
     },
     "execution_count": 21,
     "metadata": {},
     "output_type": "execute_result"
    }
   ],
   "source": [
    "iterative_deepening_search('a', 'z', actions_simple, take_action_simple, 10)"
   ]
  },
  {
   "cell_type": "code",
   "execution_count": 22,
   "metadata": {},
   "outputs": [
    {
     "data": {
      "text/plain": [
       "(['a', 'c', 'h', 'i', 'k', 'z'], 5)"
      ]
     },
     "execution_count": 22,
     "metadata": {},
     "output_type": "execute_result"
    }
   ],
   "source": [
    "Astar_search('a',actions_simple, take_action_simple,\n",
    "            lambda s: goal_test_simple(s, 'z'),\n",
    "            lambda s: h_simple(s, 'z'))"
   ]
  },
  {
   "cell_type": "markdown",
   "metadata": {},
   "source": [
    "## Grading"
   ]
  },
  {
   "cell_type": "markdown",
   "metadata": {},
   "source": [
    "Download [A3grader.tar](http://www.cs.colostate.edu/~anderson/cs440/notebooks/A3grader.tar) and extract A3grader.py from it."
   ]
  },
  {
   "cell_type": "code",
   "execution_count": 23,
   "metadata": {},
   "outputs": [
    {
     "name": "stdout",
     "output_type": "stream",
     "text": [
      "\n",
      "======================= Code Execution =======================\n",
      "\n",
      "Extracting python code from notebook named 'YiboXu-A3.ipynb' and storing in notebookcode.py\n",
      "Removing all statements that are not function or class defs or import statements.\n",
      "CRITICAL ERROR: Function named 'run_experiment' is not defined\n",
      "  Check the spelling and capitalization of the function name.\n",
      "\n",
      "Testing actions_8p([1, 2, 3, 4, 5, 6, 7, 0, 8])\n",
      "\n",
      "--- 5/5 points. Your actions_8p correctly returned [('left', 1), ('right', 1), ('up', 1)]\n",
      "\n",
      "Testing take_action_8p([1, 2, 3, 4, 5, 6, 7, 0, 8], (up, 1))\n",
      "\n",
      "--- 5/5 points. Your take actions_8p correctly returned ([1, 2, 3, 4, 0, 6, 7, 5, 8], 1)\n",
      "\n",
      "Testing goal_test_8p([1, 2, 3, 4, 5, 6, 7, 0, 8], [1, 2, 3, 4, 5, 6, 7, 0, 8])\n",
      "\n",
      "--- 5/5 points. Your goal_test_8p correctly True\n",
      "\n",
      "Testing Astar_search(1, 2, 3, 4, 5, 6, 7, 0, 8],\n",
      "                     actions_8p, take_action_8p,\n",
      "                     lambda s: goal_test_8p(s, [0, 2, 3, 1, 4,  6, 7, 5, 8]),\n",
      "                     lambda s: h1_8p(s, [0, 2, 3, 1, 4,  6, 7, 5, 8]))\n",
      "\n",
      "--- 20/20 points. Your search correctly returned ([[1, 2, 3, 4, 5, 6, 7, 0, 8], [1, 2, 3, 4, 0, 6, 7, 5, 8], [1, 2, 3, 0, 4, 6, 7, 5, 8], [0, 2, 3, 1, 4, 6, 7, 5, 8]], 3)\n",
      "\n",
      "Testing iterative_deepening_search([1, 2, 3, 4, 5, 6, 7, 0, 8], \n",
      "                                 [0, 2, 3, 1, 4,  6, 7, 5, 8],\n",
      "                                 actions_8p, take_action_8p, 10)\n",
      "\n",
      "--- 15/15 points. Your search correctly returned [[1, 2, 3, 4, 5, 6, 7, 0, 8], [1, 2, 3, 4, 0, 6, 7, 5, 8], [1, 2, 3, 0, 4, 6, 7, 5, 8], [0, 2, 3, 1, 4, 6, 7, 5, 8]]\n",
      "\n",
      "Testing iterative_deepening_search([5, 2, 8, 0, 1, 4, 3, 7, 6], \n",
      "                                 [0, 2, 3, 1, 4,  6, 7, 5, 8],\n",
      "                                 actions_8p, take_action_8p, 10)\n",
      "\n",
      "--- 15/15 points. Your search correctly returned cutoff\n",
      "\n",
      "Testing effective_branching_factor(200, 6, 0.1)\n",
      "\n",
      "--- 15/15 points. Your call to effective_branching_factor correctly returned 2.185373306274414\n",
      "\n",
      "======================================================================\n",
      "hw3 Execution Grade is 80 / 80\n",
      "======================================================================\n",
      "\n",
      "___ / 10 points.  At least 6 meaningful sentences describing your third heuristic function.\n",
      "                  Describe what it calculates and argue why you think it is admissible.\n",
      "\n",
      "___ / 10 points.  At least 6 more sentences that discuss the similarities and differences in your\n",
      "                  results for each search method and heuristic function.\n",
      "\n",
      "======================================================================\n",
      "hw3 Additional Grade is __ / 20\n",
      "======================================================================\n",
      "\n",
      "======================================================================\n",
      "hw3 FINAL GRADE is  _  / 100\n",
      "======================================================================\n",
      "\n",
      "Extra Credit: Earn one point of extra credit for adding the computation time to your results table\n",
      "and a discussion of the timing results.\n",
      "\n",
      "hw3 EXTRA CREDIT is 0 / 1\n"
     ]
    }
   ],
   "source": [
    "%run -i A3grader.py"
   ]
  },
  {
   "cell_type": "markdown",
   "metadata": {},
   "source": [
    "## Extra Credit"
   ]
  },
  {
   "cell_type": "markdown",
   "metadata": {},
   "source": [
    "Add a third column for each result (from running `runExperiment`) that is the number of seconds each search required.  You may get the total run time when running a function by doing\n",
    "\n",
    "     import time\n",
    "    \n",
    "     start_time = time.time()\n",
    "    \n",
    "     < do some python stuff >\n",
    "    \n",
    "     end_time = time.time()\n",
    "     print('This took', end_time - start_time, 'seconds.')\n"
   ]
  }
 ],
 "metadata": {
  "anaconda-cloud": {},
  "jupytext": {
   "formats": "ipynb,py:light"
  },
  "kernelspec": {
   "display_name": "Python 3",
   "language": "python",
   "name": "python3"
  },
  "language_info": {
   "codemirror_mode": {
    "name": "ipython",
    "version": 3
   },
   "file_extension": ".py",
   "mimetype": "text/x-python",
   "name": "python",
   "nbconvert_exporter": "python",
   "pygments_lexer": "ipython3",
   "version": "3.7.4"
  },
  "toc": {
   "base_numbering": 1,
   "nav_menu": {},
   "number_sections": true,
   "sideBar": true,
   "skip_h1_title": false,
   "title_cell": "Table of Contents",
   "title_sidebar": "Contents",
   "toc_cell": true,
   "toc_position": {},
   "toc_section_display": true,
   "toc_window_display": false
  }
 },
 "nbformat": 4,
 "nbformat_minor": 2
}
