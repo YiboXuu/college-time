{
 "cells": [
  {
   "cell_type": "markdown",
   "metadata": {
    "toc": true
   },
   "source": [
    "<h1>Table of Contents<span class=\"tocSkip\"></span></h1>\n",
    "<div class=\"toc\"><ul class=\"toc-item\"><li><span><a href=\"#Assignment-2:-Iterative-Deepening-Search\" data-toc-modified-id=\"Assignment-2:-Iterative-Deepening-Search-1\"><span class=\"toc-item-num\">1&nbsp;&nbsp;</span>Assignment 2: Iterative-Deepening Search</a></span><ul class=\"toc-item\"><li><span><a href=\"#Overview\" data-toc-modified-id=\"Overview-1.1\"><span class=\"toc-item-num\">1.1&nbsp;&nbsp;</span>Overview</a></span></li><li><span><a href=\"#Required-Code\" data-toc-modified-id=\"Required-Code-1.2\"><span class=\"toc-item-num\">1.2&nbsp;&nbsp;</span>Required Code</a></span></li><li><span><a href=\"#Grading-and-Check-in\" data-toc-modified-id=\"Grading-and-Check-in-1.3\"><span class=\"toc-item-num\">1.3&nbsp;&nbsp;</span>Grading and Check in</a></span></li><li><span><a href=\"#Extra-Credit\" data-toc-modified-id=\"Extra-Credit-1.4\"><span class=\"toc-item-num\">1.4&nbsp;&nbsp;</span>Extra Credit</a></span></li></ul></li></ul></div>"
   ]
  },
  {
   "cell_type": "markdown",
   "metadata": {},
   "source": [
    "# Assignment 2: Iterative-Deepening Search\n",
    "\n",
    "* *A2.1: New A2grader.tar and modified explanation of one of the `depth_limited_search` results.*"
   ]
  },
  {
   "cell_type": "markdown",
   "metadata": {},
   "source": [
    "Yibo Xu"
   ]
  },
  {
   "cell_type": "markdown",
   "metadata": {},
   "source": [
    "## Overview"
   ]
  },
  {
   "cell_type": "markdown",
   "metadata": {},
   "source": [
    "Implement  the iterative-deepening search algorithm as discussed in our lecture notes and as shown in figures 3.17 and 3.18 in our text book. Apply it to the 8-puzzle and a second puzzle of your choice. "
   ]
  },
  {
   "cell_type": "markdown",
   "metadata": {},
   "source": [
    "## Code and description"
   ]
  },
  {
   "cell_type": "markdown",
   "metadata": {},
   "source": [
    "Iterative deeping depth-first search is a state space search strategy that can found the result by using depth first search repeately with increasing depth limits. According to this, that search have qualities of both depth search and breadth search. That will try to find the goal by searching all the nodes in the tree as the same order as depth-first search. If the answer is not found, that moves to a higher depth-limit in the search tree until reach the maximum search spaces or find the answer. The iterative_deeping_search method are the main function that we can use to iterate over the depth-limit search up until reach the maxiumum search space, which we define in input as lepth-limit.The depth-limited search function that generates the children of a state and calls itself recursively on each of the child states.\n",
    "\n",
    "\n",
    "\n",
    "At least four sentences describing the solutions found for the 8 puzzle:\n",
    "\n",
    "We can see the graph by using print_state_8p method. Firstly, we find the blank in 8-puzzle by using find_8_blank method. Then we use action_f_8p method to get the action that we can do for the puzzle. For example, we can imagine there is a wall around the 8 puzzles, so every action we do that can not cross the wall, then we follow the order like left, right, up, down. We will finish those actions in take_action_f_8p method, like 'up' then we have to switch the blank with up puzzle.\n",
    "\n",
    "At least six sentences describing the second search problem, your implementation of state, and the solutions found:\n",
    "\n",
    "That is very similar as the 8 puzzle as I choose to do the 15 puzzle. I used col/4 and row/4 to find the black in 15 puzzle as that is 16 nodes. Also, I just list the 4 nodes 4 times to print it out. For the action_f_15p, I just imagine there is a wall aroung the 16 puzzle, so we can't cross the wall. Such as if 0 is at the leftmost, so we can't do left action anymore, that is same as up ,down, right. According to this, I will list the action that we can do in the order of left,right,up,down in this method. In the take_f_action_15p method, we just switch the blank node with the node according to our action. For example, if we want to do up action, then we can switch the blank node with up node by minus 4 because there is 4 col in 1 row. Then we can see the answer by print_path_15p as that will call print_state_15p repeatly until get the right answer, and the answer will follow the Iterative deeping depth-first search method.\n",
    "\n",
    "\n"
   ]
  },
  {
   "cell_type": "code",
   "execution_count": 1,
   "metadata": {},
   "outputs": [],
   "source": [
    "import copy\n",
    "\n",
    "def find_blank_8p(state):\n",
    "    row = state.index(0)//3\n",
    "    col = state.index(0)%3\n",
    "    return (row,col)\n",
    "\n",
    "def print_state_8p(start_state):\n",
    "    zero = start_state.index(0)\n",
    "    start_state[zero] = \"-\"\n",
    "    \n",
    "    col = 0\n",
    "    for x in range(3):\n",
    "            print(start_state[col],start_state[col+1],start_state[col+2])\n",
    "            col+=3\n",
    "    start_state[start_state.index(\"-\")] = 0\n",
    "    \n",
    "def actions_f_8p(start_state):\n",
    "    actions = []\n",
    "    index = find_blank_8p(start_state)\n",
    "\n",
    "    if index[1] > 0:\n",
    "        actions.append('left')\n",
    "    if index[1] < 2:\n",
    "        actions.append('right')\n",
    "    if index[0] > 0:\n",
    "        actions.append('up')\n",
    "    if index[0] < 2:\n",
    "        actions.append('down')\n",
    "\n",
    "    return actions\n",
    "\n",
    "\n",
    "def take_action_f_8p(state, action):\n",
    "    if action not in actions_f_8p(state):\n",
    "        print(\"erroe action\")\n",
    "\n",
    "    here = state.index(0) #Index of blank\n",
    "    there = state.index(0) #Index of spot to move blank\n",
    "    if(action == 'left'):\n",
    "        there -= 1\n",
    "    elif(action == 'right'):\n",
    "        there += 1\n",
    "    elif(action == 'up'):\n",
    "        there -= 3\n",
    "    elif(action == 'down'):\n",
    "        there += 3\n",
    "\n",
    "    stateCopy = copy.copy(state)\n",
    "    stateCopy[here], stateCopy[there] = stateCopy[there], stateCopy[here]\n",
    "    return stateCopy"
   ]
  },
  {
   "cell_type": "code",
   "execution_count": 2,
   "metadata": {},
   "outputs": [],
   "source": [
    "def print_path_8p(start_state, goal_state, path):\n",
    "    print(\"Path from\")\n",
    "    print_state_8p(start_state)\n",
    "    print(\"to\")\n",
    "    print_state_8p(goal_state)\n",
    "    print(\"is \"+ str(len(path)) +\" nodes long:\" )\n",
    "\n",
    "    space = ''\n",
    "    for state in path:\n",
    "        print(' ',space,' ')\n",
    "        print_state_8p(state)\n",
    "        print()\n",
    "        space+=' '\n",
    "       \n"
   ]
  },
  {
   "cell_type": "code",
   "execution_count": 11,
   "metadata": {},
   "outputs": [],
   "source": [
    "def iterative_deepening_search(start_state, goal_state, actions_f, take_action_f, max_depth):\n",
    "    for depth in range(max_depth):\n",
    "        result = depth_limited_search(start_state, goal_state, actions_f, take_action_f, depth)\n",
    "        if result == 'failure':\n",
    "            return 'failure'\n",
    "        if result != 'cutoff':\n",
    "            result.insert(0,start_state)   \n",
    "            return result\n",
    "    return 'cutoff'\n",
    "    \n",
    "    \n",
    "\n",
    "def depth_limited_search(start_state, goal_state, actions_f, take_action_f, depth_limit):\n",
    "    if start_state == goal_state:\n",
    "        return []\n",
    "    elif depth_limit == 0:\n",
    "        return  'cutoff'\n",
    "    else:   \n",
    "        cutoff_occurred = False\n",
    "        for action in actions_f(start_state):\n",
    "            child_state = take_action_f(start_state, action)\n",
    "            result = depth_limited_search(child_state, goal_state, actions_f, take_action_f, depth_limit - 1)\n",
    "            if result is 'cutoff':\n",
    "                cutoff_occurred = True\n",
    "            elif result != 'failure':\n",
    "                result.insert(0,child_state)\n",
    "                return result\n",
    "        if cutoff_occurred:\n",
    "            return 'cutoff'\n",
    "        else:\n",
    "            return 'failure'"
   ]
  },
  {
   "cell_type": "markdown",
   "metadata": {},
   "source": [
    "Here are some example results."
   ]
  },
  {
   "cell_type": "code",
   "execution_count": 12,
   "metadata": {},
   "outputs": [],
   "source": [
    "start_state = [1, 0, 3, 4, 2, 5, 6, 7, 8]"
   ]
  },
  {
   "cell_type": "code",
   "execution_count": 13,
   "metadata": {},
   "outputs": [
    {
     "name": "stdout",
     "output_type": "stream",
     "text": [
      "1 - 3\n",
      "4 2 5\n",
      "6 7 8\n"
     ]
    }
   ],
   "source": [
    "print_state_8p(start_state)"
   ]
  },
  {
   "cell_type": "code",
   "execution_count": 14,
   "metadata": {},
   "outputs": [
    {
     "data": {
      "text/plain": [
       "(0, 1)"
      ]
     },
     "execution_count": 14,
     "metadata": {},
     "output_type": "execute_result"
    }
   ],
   "source": [
    "find_blank_8p(start_state)"
   ]
  },
  {
   "cell_type": "code",
   "execution_count": 15,
   "metadata": {},
   "outputs": [
    {
     "data": {
      "text/plain": [
       "['left', 'right', 'down']"
      ]
     },
     "execution_count": 15,
     "metadata": {},
     "output_type": "execute_result"
    }
   ],
   "source": [
    "actions_f_8p(start_state)"
   ]
  },
  {
   "cell_type": "code",
   "execution_count": 16,
   "metadata": {},
   "outputs": [
    {
     "data": {
      "text/plain": [
       "[1, 2, 3, 4, 0, 5, 6, 7, 8]"
      ]
     },
     "execution_count": 16,
     "metadata": {},
     "output_type": "execute_result"
    }
   ],
   "source": [
    "take_action_f_8p(start_state, 'down')"
   ]
  },
  {
   "cell_type": "code",
   "execution_count": 17,
   "metadata": {},
   "outputs": [
    {
     "name": "stdout",
     "output_type": "stream",
     "text": [
      "1 2 3\n",
      "4 - 5\n",
      "6 7 8\n"
     ]
    }
   ],
   "source": [
    "print_state_8p(take_action_f_8p(start_state, 'down'))"
   ]
  },
  {
   "cell_type": "code",
   "execution_count": 18,
   "metadata": {},
   "outputs": [],
   "source": [
    "goal_state = take_action_f_8p(start_state, 'down')"
   ]
  },
  {
   "cell_type": "code",
   "execution_count": 19,
   "metadata": {},
   "outputs": [],
   "source": [
    "new_state = take_action_f_8p(start_state, 'down')"
   ]
  },
  {
   "cell_type": "code",
   "execution_count": 20,
   "metadata": {},
   "outputs": [
    {
     "data": {
      "text/plain": [
       "True"
      ]
     },
     "execution_count": 20,
     "metadata": {},
     "output_type": "execute_result"
    }
   ],
   "source": [
    "new_state == goal_state"
   ]
  },
  {
   "cell_type": "code",
   "execution_count": 21,
   "metadata": {},
   "outputs": [
    {
     "data": {
      "text/plain": [
       "[1, 0, 3, 4, 2, 5, 6, 7, 8]"
      ]
     },
     "execution_count": 21,
     "metadata": {},
     "output_type": "execute_result"
    }
   ],
   "source": [
    "start_state"
   ]
  },
  {
   "cell_type": "code",
   "execution_count": 22,
   "metadata": {
    "scrolled": true
   },
   "outputs": [
    {
     "data": {
      "text/plain": [
       "[[1, 2, 3, 4, 0, 5, 6, 7, 8]]"
      ]
     },
     "execution_count": 22,
     "metadata": {},
     "output_type": "execute_result"
    }
   ],
   "source": [
    "path = depth_limited_search(start_state, goal_state, actions_f_8p, take_action_f_8p, 1)\n",
    "path"
   ]
  },
  {
   "cell_type": "markdown",
   "metadata": {},
   "source": [
    "Notice that `depth_limited_search` result is missing the start state.  This is inserted by `iterative_deepening_search`."
   ]
  },
  {
   "cell_type": "code",
   "execution_count": 23,
   "metadata": {
    "scrolled": true
   },
   "outputs": [
    {
     "data": {
      "text/plain": [
       "[[1, 2, 3, 4, 0, 5, 6, 7, 8]]"
      ]
     },
     "execution_count": 23,
     "metadata": {},
     "output_type": "execute_result"
    }
   ],
   "source": [
    "path = depth_limited_search(start_state, goal_state, actions_f_8p, take_action_f_8p, 2)\n",
    "path"
   ]
  },
  {
   "cell_type": "code",
   "execution_count": 24,
   "metadata": {
    "scrolled": true
   },
   "outputs": [
    {
     "data": {
      "text/plain": [
       "[[0, 1, 3, 4, 2, 5, 6, 7, 8],\n",
       " [1, 0, 3, 4, 2, 5, 6, 7, 8],\n",
       " [1, 2, 3, 4, 0, 5, 6, 7, 8]]"
      ]
     },
     "execution_count": 24,
     "metadata": {},
     "output_type": "execute_result"
    }
   ],
   "source": [
    "path = depth_limited_search(start_state, goal_state, actions_f_8p, take_action_f_8p, 3)\n",
    "path"
   ]
  },
  {
   "cell_type": "markdown",
   "metadata": {},
   "source": [
    "Here `depth_limited_search` returns more than the solution path.  This is due to how we implement `depth_limited_search`.  This only happens when we don't find the shortest path.  Of course, when called from `iterative_deepening_search` we do find the shortest path."
   ]
  },
  {
   "cell_type": "code",
   "execution_count": 25,
   "metadata": {
    "scrolled": true
   },
   "outputs": [
    {
     "data": {
      "text/plain": [
       "[[1, 0, 3, 4, 2, 5, 6, 7, 8], [1, 2, 3, 4, 0, 5, 6, 7, 8]]"
      ]
     },
     "execution_count": 25,
     "metadata": {},
     "output_type": "execute_result"
    }
   ],
   "source": [
    "path = iterative_deepening_search(start_state, goal_state, actions_f_8p, take_action_f_8p, 4)\n",
    "path"
   ]
  },
  {
   "cell_type": "markdown",
   "metadata": {},
   "source": [
    "Also notice that the successor states are lists, not tuples.  This is okay, because the search functions for this assignment do not make use of python dictionaries."
   ]
  },
  {
   "cell_type": "code",
   "execution_count": 26,
   "metadata": {},
   "outputs": [
    {
     "data": {
      "text/plain": [
       "'cutoff'"
      ]
     },
     "execution_count": 26,
     "metadata": {},
     "output_type": "execute_result"
    }
   ],
   "source": [
    "start_state = [4, 7, 2, 1, 6, 5, 0, 3, 8]\n",
    "path = iterative_deepening_search(start_state, goal_state, actions_f_8p, take_action_f_8p, 3)\n",
    "path"
   ]
  },
  {
   "cell_type": "code",
   "execution_count": 27,
   "metadata": {},
   "outputs": [
    {
     "data": {
      "text/plain": [
       "'cutoff'"
      ]
     },
     "execution_count": 27,
     "metadata": {},
     "output_type": "execute_result"
    }
   ],
   "source": [
    "start_state = [4, 7, 2, 1, 6, 5, 0, 3, 8]\n",
    "path = iterative_deepening_search(start_state, goal_state, actions_f_8p, take_action_f_8p, 5)\n",
    "path"
   ]
  },
  {
   "cell_type": "markdown",
   "metadata": {},
   "source": [
    "Humm...maybe we can't reach the goal state from this state.  We need a way to randomly generate a valid start state."
   ]
  },
  {
   "cell_type": "code",
   "execution_count": 28,
   "metadata": {},
   "outputs": [],
   "source": [
    "import random"
   ]
  },
  {
   "cell_type": "code",
   "execution_count": 29,
   "metadata": {},
   "outputs": [
    {
     "data": {
      "text/plain": [
       "'right'"
      ]
     },
     "execution_count": 29,
     "metadata": {},
     "output_type": "execute_result"
    }
   ],
   "source": [
    "random.choice(['left', 'right', 'down', 'up'])"
   ]
  },
  {
   "cell_type": "code",
   "execution_count": 30,
   "metadata": {},
   "outputs": [],
   "source": [
    "def random_start_state(goal_state, actions_f, take_action_f, n_steps):\n",
    "    state = goal_state\n",
    "    for i in range(n_steps):\n",
    "        state = take_action_f(state, random.choice(list(actions_f(state))))  # list required because actions_f is generator\n",
    "    return state"
   ]
  },
  {
   "cell_type": "code",
   "execution_count": 31,
   "metadata": {},
   "outputs": [
    {
     "data": {
      "text/plain": [
       "[4, 1, 3, 2, 0, 5, 6, 7, 8]"
      ]
     },
     "execution_count": 31,
     "metadata": {},
     "output_type": "execute_result"
    }
   ],
   "source": [
    "goal_state = [1, 2, 3, 4, 0, 5, 6, 7, 8]\n",
    "random_start_state(goal_state, actions_f_8p, take_action_f_8p, 10)"
   ]
  },
  {
   "cell_type": "code",
   "execution_count": 32,
   "metadata": {},
   "outputs": [
    {
     "data": {
      "text/plain": [
       "[4, 1, 0, 5, 6, 3, 2, 7, 8]"
      ]
     },
     "execution_count": 32,
     "metadata": {},
     "output_type": "execute_result"
    }
   ],
   "source": [
    "start_state = random_start_state(goal_state, actions_f_8p, take_action_f_8p, 50)\n",
    "start_state"
   ]
  },
  {
   "cell_type": "code",
   "execution_count": 33,
   "metadata": {},
   "outputs": [
    {
     "data": {
      "text/plain": [
       "[[4, 1, 0, 5, 6, 3, 2, 7, 8],\n",
       " [4, 1, 3, 5, 6, 0, 2, 7, 8],\n",
       " [4, 1, 3, 5, 6, 8, 2, 7, 0],\n",
       " [4, 1, 3, 5, 6, 8, 2, 0, 7],\n",
       " [4, 1, 3, 5, 0, 8, 2, 6, 7],\n",
       " [4, 1, 3, 0, 5, 8, 2, 6, 7],\n",
       " [4, 1, 3, 2, 5, 8, 0, 6, 7],\n",
       " [4, 1, 3, 2, 5, 8, 6, 0, 7],\n",
       " [4, 1, 3, 2, 5, 8, 6, 7, 0],\n",
       " [4, 1, 3, 2, 5, 0, 6, 7, 8],\n",
       " [4, 1, 3, 2, 0, 5, 6, 7, 8],\n",
       " [4, 1, 3, 0, 2, 5, 6, 7, 8],\n",
       " [0, 1, 3, 4, 2, 5, 6, 7, 8],\n",
       " [1, 0, 3, 4, 2, 5, 6, 7, 8],\n",
       " [1, 2, 3, 4, 0, 5, 6, 7, 8]]"
      ]
     },
     "execution_count": 33,
     "metadata": {},
     "output_type": "execute_result"
    }
   ],
   "source": [
    "path = iterative_deepening_search(start_state, goal_state, actions_f_8p, take_action_f_8p, 20)\n",
    "path"
   ]
  },
  {
   "cell_type": "markdown",
   "metadata": {},
   "source": [
    "Let's print out the state sequence in a readable form."
   ]
  },
  {
   "cell_type": "code",
   "execution_count": 34,
   "metadata": {},
   "outputs": [
    {
     "name": "stdout",
     "output_type": "stream",
     "text": [
      "4 1 -\n",
      "5 6 3\n",
      "2 7 8\n",
      "\n",
      "4 1 3\n",
      "5 6 -\n",
      "2 7 8\n",
      "\n",
      "4 1 3\n",
      "5 6 8\n",
      "2 7 -\n",
      "\n",
      "4 1 3\n",
      "5 6 8\n",
      "2 - 7\n",
      "\n",
      "4 1 3\n",
      "5 - 8\n",
      "2 6 7\n",
      "\n",
      "4 1 3\n",
      "- 5 8\n",
      "2 6 7\n",
      "\n",
      "4 1 3\n",
      "2 5 8\n",
      "- 6 7\n",
      "\n",
      "4 1 3\n",
      "2 5 8\n",
      "6 - 7\n",
      "\n",
      "4 1 3\n",
      "2 5 8\n",
      "6 7 -\n",
      "\n",
      "4 1 3\n",
      "2 5 -\n",
      "6 7 8\n",
      "\n",
      "4 1 3\n",
      "2 - 5\n",
      "6 7 8\n",
      "\n",
      "4 1 3\n",
      "- 2 5\n",
      "6 7 8\n",
      "\n",
      "- 1 3\n",
      "4 2 5\n",
      "6 7 8\n",
      "\n",
      "1 - 3\n",
      "4 2 5\n",
      "6 7 8\n",
      "\n",
      "1 2 3\n",
      "4 - 5\n",
      "6 7 8\n",
      "\n"
     ]
    }
   ],
   "source": [
    "for p in path:\n",
    "    print_state_8p(p)\n",
    "    print()"
   ]
  },
  {
   "cell_type": "markdown",
   "metadata": {},
   "source": [
    "Here is one way to format the search problem and solution in a readable form."
   ]
  },
  {
   "cell_type": "code",
   "execution_count": 35,
   "metadata": {},
   "outputs": [
    {
     "name": "stdout",
     "output_type": "stream",
     "text": [
      "Path from\n",
      "4 1 -\n",
      "5 6 3\n",
      "2 7 8\n",
      "to\n",
      "1 2 3\n",
      "4 - 5\n",
      "6 7 8\n",
      "is 15 nodes long:\n",
      "    \n",
      "4 1 -\n",
      "5 6 3\n",
      "2 7 8\n",
      "\n",
      "     \n",
      "4 1 3\n",
      "5 6 -\n",
      "2 7 8\n",
      "\n",
      "      \n",
      "4 1 3\n",
      "5 6 8\n",
      "2 7 -\n",
      "\n",
      "       \n",
      "4 1 3\n",
      "5 6 8\n",
      "2 - 7\n",
      "\n",
      "        \n",
      "4 1 3\n",
      "5 - 8\n",
      "2 6 7\n",
      "\n",
      "         \n",
      "4 1 3\n",
      "- 5 8\n",
      "2 6 7\n",
      "\n",
      "          \n",
      "4 1 3\n",
      "2 5 8\n",
      "- 6 7\n",
      "\n",
      "           \n",
      "4 1 3\n",
      "2 5 8\n",
      "6 - 7\n",
      "\n",
      "            \n",
      "4 1 3\n",
      "2 5 8\n",
      "6 7 -\n",
      "\n",
      "             \n",
      "4 1 3\n",
      "2 5 -\n",
      "6 7 8\n",
      "\n",
      "              \n",
      "4 1 3\n",
      "2 - 5\n",
      "6 7 8\n",
      "\n",
      "               \n",
      "4 1 3\n",
      "- 2 5\n",
      "6 7 8\n",
      "\n",
      "                \n",
      "- 1 3\n",
      "4 2 5\n",
      "6 7 8\n",
      "\n",
      "                 \n",
      "1 - 3\n",
      "4 2 5\n",
      "6 7 8\n",
      "\n",
      "                  \n",
      "1 2 3\n",
      "4 - 5\n",
      "6 7 8\n",
      "\n"
     ]
    }
   ],
   "source": [
    "print_path_8p(start_state, goal_state, path)"
   ]
  },
  {
   "cell_type": "markdown",
   "metadata": {},
   "source": [
    "## second search\n"
   ]
  },
  {
   "cell_type": "code",
   "execution_count": 67,
   "metadata": {},
   "outputs": [],
   "source": [
    "import copy\n",
    "def find_blank_15p(state):\n",
    "    row = state.index(0)//4\n",
    "    col = state.index(0)% 4\n",
    "    return (row,col)\n",
    "\n",
    "def print_state_15p(start_state):\n",
    "    zero = start_state.index(0)\n",
    "    start_state[zero] = \"-\"\n",
    "    \n",
    "    col = 0\n",
    "    for x in range(4):\n",
    "            print(start_state[col],start_state[col+1],start_state[col+2],start_state[col+3])\n",
    "            col+=4\n",
    "    start_state[start_state.index(\"-\")] = 0\n",
    "    \n",
    "def actions_f_15p(start_state):\n",
    "    actions = []\n",
    "    index = find_blank_15p(start_state)\n",
    "\n",
    "    if index[1] > 0:\n",
    "        actions.append('left')\n",
    "    if index[1] < 3:\n",
    "        actions.append('right')\n",
    "    if index[0] > 0:\n",
    "        actions.append('up')\n",
    "    if index[0] < 3:\n",
    "        actions.append('down')\n",
    "\n",
    "    return actions\n",
    "\n",
    "\n",
    "def take_action_f_15p(state, action):\n",
    "    if action not in actions_f_15p(state):\n",
    "        print(\"erroe action\")\n",
    "\n",
    "    here = state.index(0) #Index of blank\n",
    "    there = state.index(0) #Index of spot to move blank\n",
    "    if(action == 'left'):\n",
    "        there -= 1\n",
    "    elif(action == 'right'):\n",
    "        there += 1\n",
    "    elif(action == 'up'):\n",
    "        there -= 4\n",
    "    elif(action == 'down'):\n",
    "        there += 4\n",
    "\n",
    "    stateCopy = copy.copy(state)\n",
    "    stateCopy[here], stateCopy[there] = stateCopy[there], stateCopy[here]\n",
    "    return stateCopy\n",
    "\n",
    "\n",
    "\n",
    "def print_path_15p(start_state, goal_state, path):\n",
    "    print(\"Path from\")\n",
    "    print_state_15p(start_state)\n",
    "    print(\"to\")\n",
    "    print_state_15p(goal_state)\n",
    "    print(\"is \"+ str(len(path)) +\" nodes long:\" )\n",
    "\n",
    "    space = ''\n",
    "    for state in path:\n",
    "        print(' ',space,' ')\n",
    "        print_state_15p(state)\n",
    "        print()\n",
    "        space+=' '"
   ]
  },
  {
   "cell_type": "code",
   "execution_count": 41,
   "metadata": {},
   "outputs": [],
   "source": [
    "start_state =[1,2,3,4,5,6,8,0,9,7,10,11,12,14,13,15]"
   ]
  },
  {
   "cell_type": "code",
   "execution_count": 42,
   "metadata": {},
   "outputs": [
    {
     "name": "stdout",
     "output_type": "stream",
     "text": [
      "1 2 3 4\n",
      "5 6 8 -\n",
      "9 7 10 11\n",
      "12 14 13 15\n"
     ]
    }
   ],
   "source": [
    "print_state_15p(start_state)"
   ]
  },
  {
   "cell_type": "code",
   "execution_count": 43,
   "metadata": {},
   "outputs": [
    {
     "data": {
      "text/plain": [
       "(1, 3)"
      ]
     },
     "execution_count": 43,
     "metadata": {},
     "output_type": "execute_result"
    }
   ],
   "source": [
    "find_blank_15p(start_state)"
   ]
  },
  {
   "cell_type": "code",
   "execution_count": 44,
   "metadata": {},
   "outputs": [
    {
     "data": {
      "text/plain": [
       "['left', 'up', 'down']"
      ]
     },
     "execution_count": 44,
     "metadata": {},
     "output_type": "execute_result"
    }
   ],
   "source": [
    "actions_f_15p(start_state)"
   ]
  },
  {
   "cell_type": "code",
   "execution_count": 45,
   "metadata": {},
   "outputs": [
    {
     "data": {
      "text/plain": [
       "[1, 2, 3, 0, 5, 6, 8, 4, 9, 7, 10, 11, 12, 14, 13, 15]"
      ]
     },
     "execution_count": 45,
     "metadata": {},
     "output_type": "execute_result"
    }
   ],
   "source": [
    "take_action_f_15p(start_state, 'up')"
   ]
  },
  {
   "cell_type": "code",
   "execution_count": 46,
   "metadata": {},
   "outputs": [
    {
     "name": "stdout",
     "output_type": "stream",
     "text": [
      "1 2 3 4\n",
      "5 6 8 11\n",
      "9 7 10 -\n",
      "12 14 13 15\n"
     ]
    }
   ],
   "source": [
    "print_state_15p(take_action_f_15p(start_state, 'down'))"
   ]
  },
  {
   "cell_type": "code",
   "execution_count": 47,
   "metadata": {},
   "outputs": [
    {
     "data": {
      "text/plain": [
       "True"
      ]
     },
     "execution_count": 47,
     "metadata": {},
     "output_type": "execute_result"
    }
   ],
   "source": [
    "goal_state = take_action_f_15p(start_state, 'down')\n",
    "new_state = take_action_f_15p(start_state, 'down')\n",
    "new_state == goal_state\n"
   ]
  },
  {
   "cell_type": "code",
   "execution_count": 48,
   "metadata": {},
   "outputs": [
    {
     "data": {
      "text/plain": [
       "[1, 2, 3, 4, 5, 6, 8, 0, 9, 7, 10, 11, 12, 14, 13, 15]"
      ]
     },
     "execution_count": 48,
     "metadata": {},
     "output_type": "execute_result"
    }
   ],
   "source": [
    "start_state"
   ]
  },
  {
   "cell_type": "code",
   "execution_count": 49,
   "metadata": {},
   "outputs": [
    {
     "data": {
      "text/plain": [
       "[[1, 2, 3, 4, 5, 6, 8, 11, 9, 7, 10, 0, 12, 14, 13, 15]]"
      ]
     },
     "execution_count": 49,
     "metadata": {},
     "output_type": "execute_result"
    }
   ],
   "source": [
    "path = depth_limited_search(start_state, goal_state, actions_f_15p, take_action_f_15p, 1)\n",
    "path"
   ]
  },
  {
   "cell_type": "code",
   "execution_count": 50,
   "metadata": {},
   "outputs": [
    {
     "data": {
      "text/plain": [
       "[[1, 2, 3, 4, 5, 6, 8, 11, 9, 7, 10, 0, 12, 14, 13, 15]]"
      ]
     },
     "execution_count": 50,
     "metadata": {},
     "output_type": "execute_result"
    }
   ],
   "source": [
    "path = depth_limited_search(start_state, goal_state, actions_f_15p, take_action_f_15p, 2)\n",
    "path"
   ]
  },
  {
   "cell_type": "code",
   "execution_count": 51,
   "metadata": {},
   "outputs": [
    {
     "data": {
      "text/plain": [
       "[[1, 2, 3, 4, 5, 6, 0, 8, 9, 7, 10, 11, 12, 14, 13, 15],\n",
       " [1, 2, 3, 4, 5, 6, 8, 0, 9, 7, 10, 11, 12, 14, 13, 15],\n",
       " [1, 2, 3, 4, 5, 6, 8, 11, 9, 7, 10, 0, 12, 14, 13, 15]]"
      ]
     },
     "execution_count": 51,
     "metadata": {},
     "output_type": "execute_result"
    }
   ],
   "source": [
    "path = depth_limited_search(start_state, goal_state, actions_f_15p, take_action_f_15p, 3)\n",
    "path"
   ]
  },
  {
   "cell_type": "code",
   "execution_count": 72,
   "metadata": {},
   "outputs": [
    {
     "data": {
      "text/plain": [
       "[[1, 2, 3, 4, 5, 6, 7, 8, 9, 10, 11, 0, 13, 14, 15, 12],\n",
       " [1, 2, 3, 4, 5, 6, 7, 8, 9, 10, 11, 12, 13, 14, 15, 0]]"
      ]
     },
     "execution_count": 72,
     "metadata": {},
     "output_type": "execute_result"
    }
   ],
   "source": [
    "goalState = [1,2,3,4,5,6,7,8,9,10,11,12,13,14,15,0]\n",
    "startState = [1,2,3,4,5,6,7,8,9,10,11,0,13,14,15,12]\n",
    "path = iterative_deepening_search(startState, goalState, actions_f_15p, take_action_f_15p, 10)\n",
    "path"
   ]
  },
  {
   "cell_type": "code",
   "execution_count": 74,
   "metadata": {},
   "outputs": [
    {
     "data": {
      "text/plain": [
       "[[1, 2, 3, 4, 5, 6, 7, 8, 0, 9, 10, 11, 13, 14, 15, 12],\n",
       " [1, 2, 3, 4, 5, 6, 7, 8, 9, 0, 10, 11, 13, 14, 15, 12],\n",
       " [1, 2, 3, 4, 5, 6, 7, 8, 9, 10, 0, 11, 13, 14, 15, 12],\n",
       " [1, 2, 3, 4, 5, 6, 7, 8, 9, 10, 11, 0, 13, 14, 15, 12],\n",
       " [1, 2, 3, 4, 5, 6, 7, 8, 9, 10, 11, 12, 13, 14, 15, 0]]"
      ]
     },
     "execution_count": 74,
     "metadata": {},
     "output_type": "execute_result"
    }
   ],
   "source": [
    "startState = [1,2,3,4,5,6,7,8,0,9,10,11,13,14,15,12]\n",
    "path = iterative_deepening_search(startState, goalState, actions_f_15p, take_action_f_15p, 10)\n",
    "path"
   ]
  },
  {
   "cell_type": "code",
   "execution_count": 75,
   "metadata": {},
   "outputs": [
    {
     "name": "stdout",
     "output_type": "stream",
     "text": [
      "Path from\n",
      "1 2 3 4\n",
      "5 6 7 8\n",
      "- 9 10 11\n",
      "13 14 15 12\n",
      "to\n",
      "1 2 3 4\n",
      "5 6 7 8\n",
      "9 - 10 11\n",
      "12 13 14 15\n",
      "is 5 nodes long:\n",
      "    \n",
      "1 2 3 4\n",
      "5 6 7 8\n",
      "- 9 10 11\n",
      "13 14 15 12\n",
      "\n",
      "     \n",
      "1 2 3 4\n",
      "5 6 7 8\n",
      "9 - 10 11\n",
      "13 14 15 12\n",
      "\n",
      "      \n",
      "1 2 3 4\n",
      "5 6 7 8\n",
      "9 10 - 11\n",
      "13 14 15 12\n",
      "\n",
      "       \n",
      "1 2 3 4\n",
      "5 6 7 8\n",
      "9 10 11 -\n",
      "13 14 15 12\n",
      "\n",
      "        \n",
      "1 2 3 4\n",
      "5 6 7 8\n",
      "9 10 11 12\n",
      "13 14 15 -\n",
      "\n"
     ]
    }
   ],
   "source": [
    "print_path_15p(start_state, goal_state, path)"
   ]
  },
  {
   "cell_type": "markdown",
   "metadata": {},
   "source": [
    "## extra credit\n",
    "    "
   ]
  },
  {
   "cell_type": "code",
   "execution_count": 26,
   "metadata": {},
   "outputs": [],
   "source": [
    "def grid_successors(state):\n",
    "    row, col = state\n",
    "    # succs will be list of tuples () rather than list of lists [] because state must\n",
    "    # be an immutable type to serve as a key in dictionary of expanded nodes\n",
    "    succs = []\n",
    "    for r in [-1, 0, 1]:   #check each row\n",
    "        for c in [-1, 0, 1]:  # check in each col\n",
    "            newr = row + r\n",
    "            newc = col + c\n",
    "            if 0 <= newr <= 9 and 0 <= newc <= 9:  \n",
    "                succs.append( (newr, newc) )\n",
    "    return succs\n",
    "\n",
    "def take_action_f(state,action):\n",
    "    return action"
   ]
  },
  {
   "cell_type": "code",
   "execution_count": 16,
   "metadata": {},
   "outputs": [
    {
     "data": {
      "text/plain": [
       "[(0, 0), (0, 1), (0, 2), (1, 0), (1, 1), (1, 2), (2, 0), (2, 1), (2, 2)]"
      ]
     },
     "execution_count": 16,
     "metadata": {},
     "output_type": "execute_result"
    }
   ],
   "source": [
    "grid_successors([1,1])"
   ]
  },
  {
   "cell_type": "code",
   "execution_count": 17,
   "metadata": {},
   "outputs": [
    {
     "data": {
      "text/plain": [
       "[(0, 0), (1, 1), (2, 2)]"
      ]
     },
     "execution_count": 17,
     "metadata": {},
     "output_type": "execute_result"
    }
   ],
   "source": [
    "path = iterative_deepening_search((0,0), (2,2), grid_successors, take_action_f, 20)\n",
    "path"
   ]
  },
  {
   "cell_type": "code",
   "execution_count": 18,
   "metadata": {},
   "outputs": [
    {
     "data": {
      "text/plain": [
       "[(0, 0), (0, 1), (1, 2)]"
      ]
     },
     "execution_count": 18,
     "metadata": {},
     "output_type": "execute_result"
    }
   ],
   "source": [
    "path = iterative_deepening_search((0,0), (1,2), grid_successors, take_action_f, 20)\n",
    "path"
   ]
  },
  {
   "cell_type": "code",
   "execution_count": 22,
   "metadata": {},
   "outputs": [
    {
     "data": {
      "text/plain": [
       "[(0, 0),\n",
       " (1, 1),\n",
       " (2, 2),\n",
       " (3, 3),\n",
       " (4, 4),\n",
       " (5, 5),\n",
       " (6, 6),\n",
       " (7, 7),\n",
       " (8, 8),\n",
       " (9, 9)]"
      ]
     },
     "execution_count": 22,
     "metadata": {},
     "output_type": "execute_result"
    }
   ],
   "source": [
    "path = iterative_deepening_search((0,0), (9,9), grid_successors, take_action_f, 20)\n",
    "path"
   ]
  },
  {
   "cell_type": "code",
   "execution_count": 20,
   "metadata": {},
   "outputs": [
    {
     "data": {
      "text/plain": [
       "[(0, 0),\n",
       " (0, 1),\n",
       " (0, 2),\n",
       " (0, 3),\n",
       " (0, 4),\n",
       " (1, 5),\n",
       " (2, 6),\n",
       " (3, 7),\n",
       " (4, 8),\n",
       " (5, 9)]"
      ]
     },
     "execution_count": 20,
     "metadata": {},
     "output_type": "execute_result"
    }
   ],
   "source": [
    "path = iterative_deepening_search((0,0), (5,9), grid_successors, take_action_f, 20)\n",
    "path"
   ]
  },
  {
   "cell_type": "markdown",
   "metadata": {},
   "source": [
    "## Grading and Check in"
   ]
  },
  {
   "cell_type": "markdown",
   "metadata": {},
   "source": [
    "Download [A2grader.tar](A2grader.tar) and extract A2grader.py from it, before running next code cell."
   ]
  },
  {
   "cell_type": "code",
   "execution_count": 76,
   "metadata": {
    "scrolled": true
   },
   "outputs": [
    {
     "name": "stdout",
     "output_type": "stream",
     "text": [
      "\n",
      "======================= Code Execution =======================\n",
      "\n",
      "Extracting python code from notebook named 'YiboXu-A2.ipynb' and storing in notebookcode.py\n",
      "Removing all statements that are not function or class defs or import statements.\n",
      "\n",
      "Searching this graph:\n",
      " {'a': ['b', 'z', 'd'], 'b': ['a'], 'e': ['z'], 'd': ['y'], 'y': ['z']}\n",
      "\n",
      "Looking for path from a to y with max depth of 1.\n",
      " 5/ 5 points. Your search correctly returned cutoff\n",
      "\n",
      "Looking for path from a to z with max depth of 5.\n",
      "10/10 points. Your search correctly returned ['a', 'z']\n",
      "\n",
      "Testing find_blank_8p([1, 2, 3, 4, 5, 6, 7, 0, 8])\n",
      " 5/ 5 points. Your find_blank_8p correctly returned 2 1\n",
      "\n",
      "Testing actions_f_8p([1, 2, 3, 4, 5, 6, 7, 0, 8])\n",
      "10/10 points. Your actions_f_8p correctly returned ['left', 'right', 'up']\n",
      "\n",
      "Testing take_action_f_8p([1, 2, 3, 4, 5, 6, 7, 0, 8], up)\n",
      "10/10 points. Your take_actions_f_8p correctly returned [1, 2, 3, 4, 0, 6, 7, 5, 8]\n",
      "\n",
      "Testing iterative_deepening_search([1, 2, 3, 4, 5, 6, 7, 0, 8],\n",
      "                                   [0, 2, 3, 1, 4,  6, 7, 5, 8],\n",
      "                                    actions_f_8p, take_action_f_8p, 5)\n",
      "20/20 points. Your search correctly returned\n",
      "               [1, 2, 3, 4, 5, 6, 7, 0, 8]\n",
      "               [1, 2, 3, 4, 0, 6, 7, 5, 8]\n",
      "               [1, 2, 3, 0, 4, 6, 7, 5, 8]\n",
      "               [0, 2, 3, 1, 4, 6, 7, 5, 8]\n",
      "\n",
      "Testing iterative_deepening_search([5, 2, 8, 0, 1, 4, 3, 7, 6],\n",
      "                                   [0, 2, 3, 1, 4,  6, 7, 5, 8],\n",
      "                                   actions_f_8p, take_action_f_8p, 10)\n",
      "10/10 points. Your search correctly returned cutoff.\n",
      "\n",
      "======================================================================\n",
      "hw2 Execution Grade is 70 / 70\n",
      "======================================================================\n",
      "\n",
      "__ / 10 points. At least four sentences describing the solutions found for the 8 puzzle.\n",
      "\n",
      "__ / 20 points. At least six sentences describing the second search problem, your implementation \n",
      "               of state, and the solutions found.\n",
      "\n",
      "======================================================================\n",
      "hw2 Additional Grade is __ / 30\n",
      "======================================================================\n",
      "\n",
      "======================================================================\n",
      "hw2 FINAL GRADE is  _  / 100\n",
      "======================================================================\n",
      "\n",
      "Extra Credit: Earn one point of extra credit for using your search functions to solve the variation\n",
      "              of the grid problem in Assignment 1.\n",
      "\n",
      "hw2 EXTRA CREDIT is 0 / 1\n"
     ]
    }
   ],
   "source": [
    "%run -i A2grader.py"
   ]
  },
  {
   "cell_type": "code",
   "execution_count": null,
   "metadata": {},
   "outputs": [],
   "source": []
  }
 ],
 "metadata": {
  "anaconda-cloud": {},
  "jupytext": {
   "formats": "ipynb,py:light"
  },
  "kernelspec": {
   "display_name": "Python 3",
   "language": "python",
   "name": "python3"
  },
  "language_info": {
   "codemirror_mode": {
    "name": "ipython",
    "version": 3
   },
   "file_extension": ".py",
   "mimetype": "text/x-python",
   "name": "python",
   "nbconvert_exporter": "python",
   "pygments_lexer": "ipython3",
   "version": "3.7.4"
  },
  "toc": {
   "base_numbering": 1,
   "nav_menu": {},
   "number_sections": true,
   "sideBar": true,
   "skip_h1_title": false,
   "title_cell": "Table of Contents",
   "title_sidebar": "Contents",
   "toc_cell": true,
   "toc_position": {},
   "toc_section_display": true,
   "toc_window_display": true
  }
 },
 "nbformat": 4,
 "nbformat_minor": 1
}
