{
 "cells": [
  {
   "cell_type": "markdown",
   "metadata": {
    "toc": true
   },
   "source": [
    "<h1>Table of Contents<span class=\"tocSkip\"></span></h1>\n",
    "<div class=\"toc\"><ul class=\"toc-item\"><li><span><a href=\"#Assignment-1:-Uninformed-Search\" data-toc-modified-id=\"Assignment-1:-Uninformed-Search-1\"><span class=\"toc-item-num\">1&nbsp;&nbsp;</span>Assignment 1: Uninformed Search</a></span></li><li><span><a href=\"#Required-Code\" data-toc-modified-id=\"Required-Code-2\"><span class=\"toc-item-num\">2&nbsp;&nbsp;</span>Required Code</a></span></li><li><span><a href=\"#Example-1\" data-toc-modified-id=\"Example-1-3\"><span class=\"toc-item-num\">3&nbsp;&nbsp;</span>Example 1</a></span></li><li><span><a href=\"#Example-2\" data-toc-modified-id=\"Example-2-4\"><span class=\"toc-item-num\">4&nbsp;&nbsp;</span>Example 2</a></span></li><li><span><a href=\"#Required-Modification-to-the-Grid-Puzzle-(worth-20-points)\" data-toc-modified-id=\"Required-Modification-to-the-Grid-Puzzle-(worth-20-points)-5\"><span class=\"toc-item-num\">5&nbsp;&nbsp;</span>Required Modification to the Grid Puzzle (worth 20 points)</a></span></li><li><span><a href=\"#Extra-Credit\" data-toc-modified-id=\"Extra-Credit-6\"><span class=\"toc-item-num\">6&nbsp;&nbsp;</span>Extra Credit</a></span></li><li><span><a href=\"#Grading\" data-toc-modified-id=\"Grading-7\"><span class=\"toc-item-num\">7&nbsp;&nbsp;</span>Grading</a></span></li><li><span><a href=\"#Check-in\" data-toc-modified-id=\"Check-in-8\"><span class=\"toc-item-num\">8&nbsp;&nbsp;</span>Check-in</a></span></li></ul></div>"
   ]
  },
  {
   "cell_type": "markdown",
   "metadata": {},
   "source": [
    "# Assignment 1: Uninformed Search\n",
    "\n",
    "* *A1.1: First paragraph is changed. It no longer mentions a requirement of applying your search functions to a puzzle of your choice.*"
   ]
  },
  {
   "cell_type": "markdown",
   "metadata": {},
   "source": [
    "Yibo Xu"
   ]
  },
  {
   "cell_type": "markdown",
   "metadata": {},
   "source": [
    "Breadth-first and depth-first are two algorithms for performing\n",
    "uninformed search---a search that does not use\n",
    "knowledge about the goal of the search.  You will implement both\n",
    "search algorithms in python and test them on a simple graph.  Then you\n",
    "will apply your search algorithms to the grid navigation problem that you modify\n",
    "as explained below."
   ]
  },
  {
   "cell_type": "markdown",
   "metadata": {},
   "source": [
    "# Required Code"
   ]
  },
  {
   "cell_type": "markdown",
   "metadata": {},
   "source": [
    "In this jupyter notebook, you must implement at least the following functions.  The first function, `search`, implements the algorithm shown at the end of Lecture Notes `03 Problem-Solving Agents`."
   ]
  },
  {
   "cell_type": "markdown",
   "metadata": {},
   "source": [
    "`solution_path = search(start_state, goal_state, successors_f, breadth_first)`\n",
    "* `start_state`: single state where search starts\n",
    "* `goal_state`: signle state that represents the goal\n",
    "* `successors_f`: function that accepts a single argument that is a state and returns a list of states that can be reached in one step from the argument state\n",
    "* `breadth_first`: `True` or `False`.  If `True`, `search` performs a breadth-first search. Otherwise it performs a depth-first search.\n",
    "* `solution_path`: returned value that is either<br>\n",
    "  * a list of states that shows the path found from the start state to the goal state, or<br>\n",
    "  * the string `'Goal not found'` if the search has searched everywhere without finding the goal state."
   ]
  },
  {
   "cell_type": "markdown",
   "metadata": {},
   "source": [
    "The next two functions are very short, and just call `search`.  These are really just convenience functions so the user of your search algorithm does not need to know what the boolean-valued argument `breadth_first` means."
   ]
  },
  {
   "cell_type": "markdown",
   "metadata": {},
   "source": [
    "`solution_path = breadth_first_search(start_state, goal_state, successors_f)`\n",
    "* `start_state`: single state where search starts\n",
    "* `goal_state`: signle state that represents the goal\n",
    "* `successors_f`: function that accepts a single argument that is a state and returns a list of states that can be reached in one step from the argument state\n",
    "* `solution_path`: returned value that is either<br>\n",
    "  * a list of states that shows the path found from the start state to the goal state, or<br>\n",
    "  * the string `'Goal not found'` if the search has searched everywhere without finding the goal state."
   ]
  },
  {
   "cell_type": "markdown",
   "metadata": {},
   "source": [
    "\n",
    "`solution_path = depth_first_search(start_state, goal_state, successors_f)`\n",
    "* `start_state`: single state where search starts\n",
    "* `goal_state`: signle state that represents the goal\n",
    "* `successors_f`: function that accepts a single argument that is a state and returns a list of states that can be reached in one step from the argument state\n",
    "* `solution_path`: returned value that is either<br>\n",
    "  * a list of states that shows the path found from the start state to the goal state, or<br>\n",
    "  * the string `'Goal not found'` if the search has searched everywhere without finding the goal state."
   ]
  },
  {
   "cell_type": "markdown",
   "metadata": {},
   "source": [
    "  \n",
    "Each receives as arguments the starting state, the goal state, and a successors function.  If they succeed in finding the goal state, `breadth_first_search` returns the breadth-first solution path as a list of states starting with the `start_state` and ending with the `goal_state`.  `depth_first_search` returns the depth-first solution path.  If they do not success, they return the string `'Goal not found'`.\n",
    "\n",
    "Test your code by running them with a simple graph as shown in the following example, and with the grid example. \n",
    "\n",
    "Test your code on other graphs, too.  <font color='red'>The final grading script will include graphs not shown here.</font>"
   ]
  },
  {
   "cell_type": "code",
   "execution_count": 1,
   "metadata": {},
   "outputs": [],
   "source": [
    "def search(start_state, goal_state, successors_f, breadth_first):\n",
    "    statement = 'Goal not found'\n",
    "    expanded = {}\n",
    "    unExpanded = [(start_state,None)]\n",
    "    if(start_state == goal_state):\n",
    "        return [start_state]\n",
    "    while (unExpanded):\n",
    "        state = unExpanded.pop()\n",
    "        children = successors_f(state[0])\n",
    "        \n",
    "        expanded[state[0]] = state[1]\n",
    "        \n",
    "        removeList = []\n",
    "        \n",
    "        for child in children:\n",
    "            if child in expanded:\n",
    "                removeList.append(child)\n",
    "                continue\n",
    "            for tup in unExpanded:\n",
    "                if child == tup[0] and child in children:\n",
    "                    removeList.append(child)\n",
    "        \n",
    "        for double in removeList:\n",
    "            if(double in children):\n",
    "                children.remove(double)\n",
    "        \n",
    "        \n",
    "        if goal_state in children:\n",
    "            solution = [state[0],goal_state]\n",
    "            parent = state[1]\n",
    "            while parent != None:\n",
    "                solution.insert(0,parent)\n",
    "                if parent in expanded:\n",
    "                    parent = expanded[parent]\n",
    "            return solution\n",
    "        \n",
    "        children.sort()\n",
    "        \n",
    "        children = list(reversed(children))\n",
    "        for i in range(len(children)):\n",
    "            children[i] = (children[i],state[0])\n",
    "        if breadth_first:\n",
    "            temp = children \n",
    "            temp.extend(unExpanded)\n",
    "            unExpanded = list(temp)\n",
    "        else:\n",
    "            unExpanded.extend(children)\n",
    "        \n",
    "    return statement"
   ]
  },
  {
   "cell_type": "code",
   "execution_count": 2,
   "metadata": {},
   "outputs": [],
   "source": [
    "def breadth_first_search(start_state, goal_state, successors_f):\n",
    "    \n",
    "    return search(start_state,goal_state,successors_f,True)\n",
    "    "
   ]
  },
  {
   "cell_type": "code",
   "execution_count": 3,
   "metadata": {},
   "outputs": [],
   "source": [
    "def depth_first_search(start_state, goal_state, successors_f):\n",
    "    return search(start_state,goal_state,successors_f,False)"
   ]
  },
  {
   "cell_type": "markdown",
   "metadata": {},
   "source": [
    "# Example 1"
   ]
  },
  {
   "cell_type": "markdown",
   "metadata": {},
   "source": [
    "Here is a simple example.  States are defined by lower case letters.  A dictionary stores a list of successor states for each state in the graph that has successors."
   ]
  },
  {
   "cell_type": "code",
   "execution_count": 4,
   "metadata": {
    "lines_to_next_cell": 1
   },
   "outputs": [
    {
     "data": {
      "text/plain": [
       "{'a': ['b', 'c', 'd'],\n",
       " 'b': ['e', 'f', 'g'],\n",
       " 'c': ['a', 'h', 'i'],\n",
       " 'd': ['j', 'z'],\n",
       " 'e': ['a', 'k', 'l'],\n",
       " 'g': ['m'],\n",
       " 'k': ['z']}"
      ]
     },
     "execution_count": 4,
     "metadata": {},
     "output_type": "execute_result"
    }
   ],
   "source": [
    "successors = {'a':  ['b', 'c', 'd'],\n",
    "              'b':  ['e', 'f', 'g'],\n",
    "              'c':  ['a', 'h', 'i'],\n",
    "              'd':  ['j', 'z'],\n",
    "              'e':  ['a', 'k', 'l'],   # Watch out.  This creates the cycle a -> b -> e-> a\n",
    "              'g':  ['m'],\n",
    "              'k':  ['z']}\n",
    "successors"
   ]
  },
  {
   "cell_type": "markdown",
   "metadata": {},
   "source": [
    "Here is an example of a successors function that works for any search problem whose graph is explicitly represented with a successors dictionary as used in this example."
   ]
  },
  {
   "cell_type": "code",
   "execution_count": 5,
   "metadata": {},
   "outputs": [],
   "source": [
    "def successors_f(state): \n",
    "    successors = {'a':  ['b', 'c', 'd'],\n",
    "                  'b':  ['e', 'f', 'g'],\n",
    "                  'c':  ['a', 'h', 'i'],\n",
    "                  'd':  ['j', 'z'],\n",
    "                  'e':  ['a', 'k', 'l'],   # Watch out.  This creates the cycle a -> b -> e-> a\n",
    "                  'g':  ['m'],\n",
    "                  'k':  ['z']}\n",
    "    return successors.get(state, [])"
   ]
  },
  {
   "cell_type": "code",
   "execution_count": 6,
   "metadata": {},
   "outputs": [
    {
     "data": {
      "text/plain": [
       "['b', 'c', 'd']"
      ]
     },
     "execution_count": 6,
     "metadata": {},
     "output_type": "execute_result"
    }
   ],
   "source": [
    "successors_f('a')"
   ]
  },
  {
   "cell_type": "code",
   "execution_count": 7,
   "metadata": {},
   "outputs": [
    {
     "data": {
      "text/plain": [
       "['a', 'k', 'l']"
      ]
     },
     "execution_count": 7,
     "metadata": {},
     "output_type": "execute_result"
    }
   ],
   "source": [
    "successors_f('e')"
   ]
  },
  {
   "cell_type": "code",
   "execution_count": 8,
   "metadata": {},
   "outputs": [
    {
     "data": {
      "text/plain": [
       "[]"
      ]
     },
     "execution_count": 8,
     "metadata": {},
     "output_type": "execute_result"
    }
   ],
   "source": [
    "successors_f('q')"
   ]
  },
  {
   "cell_type": "code",
   "execution_count": 9,
   "metadata": {},
   "outputs": [
    {
     "data": {
      "text/plain": [
       "['a']"
      ]
     },
     "execution_count": 9,
     "metadata": {},
     "output_type": "execute_result"
    }
   ],
   "source": [
    "breadth_first_search('a', 'a', successors_f)"
   ]
  },
  {
   "cell_type": "code",
   "execution_count": 10,
   "metadata": {},
   "outputs": [
    {
     "data": {
      "text/plain": [
       "['a', 'b']"
      ]
     },
     "execution_count": 10,
     "metadata": {},
     "output_type": "execute_result"
    }
   ],
   "source": [
    "breadth_first_search('a', 'b', successors_f)"
   ]
  },
  {
   "cell_type": "code",
   "execution_count": 11,
   "metadata": {},
   "outputs": [
    {
     "data": {
      "text/plain": [
       "['a', 'c']"
      ]
     },
     "execution_count": 11,
     "metadata": {},
     "output_type": "execute_result"
    }
   ],
   "source": [
    "breadth_first_search('a', 'c', successors_f)"
   ]
  },
  {
   "cell_type": "code",
   "execution_count": 12,
   "metadata": {},
   "outputs": [
    {
     "data": {
      "text/plain": [
       "['a', 'd']"
      ]
     },
     "execution_count": 12,
     "metadata": {},
     "output_type": "execute_result"
    }
   ],
   "source": [
    "breadth_first_search('a', 'd', successors_f)"
   ]
  },
  {
   "cell_type": "code",
   "execution_count": 13,
   "metadata": {},
   "outputs": [
    {
     "data": {
      "text/plain": [
       "['a', 'b', 'e']"
      ]
     },
     "execution_count": 13,
     "metadata": {},
     "output_type": "execute_result"
    }
   ],
   "source": [
    "breadth_first_search('a', 'e', successors_f)"
   ]
  },
  {
   "cell_type": "code",
   "execution_count": 14,
   "metadata": {},
   "outputs": [
    {
     "data": {
      "text/plain": [
       "['a', 'b', 'g', 'm']"
      ]
     },
     "execution_count": 14,
     "metadata": {},
     "output_type": "execute_result"
    }
   ],
   "source": [
    "breadth_first_search('a', 'm', successors_f)"
   ]
  },
  {
   "cell_type": "code",
   "execution_count": 15,
   "metadata": {},
   "outputs": [
    {
     "name": "stdout",
     "output_type": "stream",
     "text": [
      "Path from a to a: ['a']\n",
      "Path from a to b: ['a', 'b']\n",
      "Path from a to c: ['a', 'c']\n",
      "Path from a to d: ['a', 'd']\n",
      "Path from a to e: ['a', 'b', 'e']\n",
      "Path from a to f: ['a', 'b', 'f']\n",
      "Path from a to g: ['a', 'b', 'g']\n",
      "Path from a to h: ['a', 'c', 'h']\n",
      "Path from a to i: ['a', 'c', 'i']\n",
      "Path from a to j: ['a', 'd', 'j']\n",
      "Path from a to k: ['a', 'b', 'e', 'k']\n",
      "Path from a to l: ['a', 'b', 'e', 'l']\n",
      "Path from a to m: ['a', 'b', 'g', 'm']\n",
      "Path from a to z: ['a', 'd', 'z']\n"
     ]
    }
   ],
   "source": [
    "for goal in ['a', 'b', 'c', 'd', 'e', 'f', 'g', 'h', 'i', 'j', 'k', 'l', 'm', 'z']:\n",
    "    path = breadth_first_search('a', goal, successors_f)\n",
    "    print(f'Path from a to {goal}: {path}')"
   ]
  },
  {
   "cell_type": "code",
   "execution_count": 16,
   "metadata": {},
   "outputs": [
    {
     "name": "stdout",
     "output_type": "stream",
     "text": [
      "Path from a to a: ['a']\n",
      "Path from a to b: ['a', 'b']\n",
      "Path from a to c: ['a', 'c']\n",
      "Path from a to d: ['a', 'd']\n",
      "Path from a to e: ['a', 'b', 'e']\n",
      "Path from a to f: ['a', 'b', 'f']\n",
      "Path from a to g: ['a', 'b', 'g']\n",
      "Path from a to h: ['a', 'c', 'h']\n",
      "Path from a to i: ['a', 'c', 'i']\n",
      "Path from a to j: ['a', 'd', 'j']\n",
      "Path from a to k: ['a', 'b', 'e', 'k']\n",
      "Path from a to l: ['a', 'b', 'e', 'l']\n",
      "Path from a to m: ['a', 'b', 'g', 'm']\n",
      "Path from a to z: ['a', 'b', 'e', 'k', 'z']\n"
     ]
    }
   ],
   "source": [
    "for goal in ['a', 'b', 'c', 'd', 'e', 'f', 'g', 'h', 'i', 'j', 'k', 'l', 'm', 'z']:\n",
    "    path = depth_first_search('a', goal, successors_f)\n",
    "    print(f'Path from a to {goal}: {path}')"
   ]
  },
  {
   "cell_type": "markdown",
   "metadata": {},
   "source": [
    "# Example 2"
   ]
  },
  {
   "cell_type": "markdown",
   "metadata": {},
   "source": [
    "Let's try a navigation problem around a grid of size 10 x 10. Rows and columns will be indexed from 0 to 9.\n",
    "\n",
    "The following function takes the input state and returns all possible states."
   ]
  },
  {
   "cell_type": "code",
   "execution_count": 17,
   "metadata": {},
   "outputs": [],
   "source": [
    "def grid_successors(state):\n",
    "    row, col = state\n",
    "    # succs will be list of tuples () rather than list of lists [] because state must\n",
    "    # be an immutable type to serve as a key in dictionary of expanded nodes\n",
    "    succs = []\n",
    "    for r in [-1, 0, 1]:   #check each row\n",
    "        for c in [-1, 0, 1]:  # check in each col\n",
    "            newr = row + r\n",
    "            newc = col + c\n",
    "            if 0 <= newr <= 9 and 0 <= newc <= 9:  \n",
    "                succs.append( (newr, newc) )\n",
    "    return succs"
   ]
  },
  {
   "cell_type": "code",
   "execution_count": 18,
   "metadata": {},
   "outputs": [
    {
     "data": {
      "text/plain": [
       "[(2, 3), (2, 4), (2, 5), (3, 3), (3, 4), (3, 5), (4, 3), (4, 4), (4, 5)]"
      ]
     },
     "execution_count": 18,
     "metadata": {},
     "output_type": "execute_result"
    }
   ],
   "source": [
    "grid_successors([3,4])"
   ]
  },
  {
   "cell_type": "code",
   "execution_count": 19,
   "metadata": {},
   "outputs": [
    {
     "data": {
      "text/plain": [
       "[(2, 8), (2, 9), (3, 8), (3, 9), (4, 8), (4, 9)]"
      ]
     },
     "execution_count": 19,
     "metadata": {},
     "output_type": "execute_result"
    }
   ],
   "source": [
    "grid_successors([3,9])"
   ]
  },
  {
   "cell_type": "code",
   "execution_count": 20,
   "metadata": {},
   "outputs": [
    {
     "data": {
      "text/plain": [
       "[(0, 0), (0, 1), (1, 0), (1, 1)]"
      ]
     },
     "execution_count": 20,
     "metadata": {},
     "output_type": "execute_result"
    }
   ],
   "source": [
    "grid_successors([0,0])"
   ]
  },
  {
   "cell_type": "code",
   "execution_count": 21,
   "metadata": {},
   "outputs": [
    {
     "name": "stdout",
     "output_type": "stream",
     "text": [
      "Breadth first\n",
      "path from (0, 0) to (9, 9) is [(0, 0), (1, 1), (2, 2), (3, 3), (4, 4), (5, 5), (6, 6), (7, 7), (8, 8), (9, 9)]\n"
     ]
    }
   ],
   "source": [
    "print('Breadth first')\n",
    "print('path from (0, 0) to (9, 9) is', breadth_first_search((0, 0), (9, 9), grid_successors))"
   ]
  },
  {
   "cell_type": "code",
   "execution_count": 22,
   "metadata": {},
   "outputs": [
    {
     "name": "stdout",
     "output_type": "stream",
     "text": [
      "Depth-first\n",
      "path from (0, 0) to (9, 9) is [(0, 0), (0, 1), (0, 2), (0, 3), (0, 4), (0, 5), (0, 6), (0, 7), (0, 8), (1, 9), (2, 8), (2, 7), (2, 6), (2, 5), (2, 4), (2, 3), (2, 2), (2, 1), (3, 0), (4, 0), (5, 0), (6, 0), (7, 0), (8, 0), (9, 1), (8, 2), (7, 2), (6, 2), (5, 2), (4, 3), (4, 4), (4, 5), (4, 6), (4, 7), (4, 8), (5, 9), (6, 8), (6, 7), (6, 6), (6, 5), (7, 4), (8, 4), (9, 5), (8, 6), (8, 7), (8, 8), (9, 9)]\n"
     ]
    }
   ],
   "source": [
    "print('Depth-first')\n",
    "print('path from (0, 0) to (9, 9) is', depth_first_search((0, 0), (9, 9), grid_successors))"
   ]
  },
  {
   "cell_type": "markdown",
   "metadata": {},
   "source": [
    "Let's plot the paths."
   ]
  },
  {
   "cell_type": "code",
   "execution_count": 23,
   "metadata": {},
   "outputs": [
    {
     "data": {
      "text/plain": [
       "[(0, 0),\n",
       " (0, 1),\n",
       " (0, 2),\n",
       " (0, 3),\n",
       " (0, 4),\n",
       " (0, 5),\n",
       " (0, 6),\n",
       " (0, 7),\n",
       " (0, 8),\n",
       " (1, 9),\n",
       " (2, 8),\n",
       " (2, 7),\n",
       " (2, 6),\n",
       " (2, 5),\n",
       " (2, 4),\n",
       " (2, 3),\n",
       " (2, 2),\n",
       " (2, 1),\n",
       " (3, 0),\n",
       " (4, 0),\n",
       " (5, 0),\n",
       " (6, 0),\n",
       " (7, 0),\n",
       " (8, 0),\n",
       " (9, 1),\n",
       " (8, 2),\n",
       " (7, 2),\n",
       " (6, 2),\n",
       " (5, 2),\n",
       " (4, 3),\n",
       " (4, 4),\n",
       " (4, 5),\n",
       " (4, 6),\n",
       " (4, 7),\n",
       " (4, 8),\n",
       " (5, 9),\n",
       " (6, 8),\n",
       " (6, 7),\n",
       " (6, 6),\n",
       " (6, 5),\n",
       " (7, 4),\n",
       " (8, 4),\n",
       " (9, 5),\n",
       " (8, 6),\n",
       " (8, 7),\n",
       " (8, 8),\n",
       " (9, 9)]"
      ]
     },
     "execution_count": 23,
     "metadata": {},
     "output_type": "execute_result"
    }
   ],
   "source": [
    "path_dfs = depth_first_search((0, 0), (9, 9), grid_successors)\n",
    "path_dfs"
   ]
  },
  {
   "cell_type": "markdown",
   "metadata": {},
   "source": [
    "Now, we have the path to goal state. To plot this path we must extract the first value in each tuple and put them in a list called `rows` to use as the $y$ coordinate of each point, and build a second list called `cols` of second values."
   ]
  },
  {
   "cell_type": "code",
   "execution_count": 24,
   "metadata": {},
   "outputs": [],
   "source": [
    "import matplotlib.pyplot as plt"
   ]
  },
  {
   "cell_type": "code",
   "execution_count": 25,
   "metadata": {},
   "outputs": [
    {
     "data": {
      "image/png": "[encoded data removed]",
      "text/plain": [
       "<Figure size 432x288 with 1 Axes>"
      ]
     },
     "metadata": {
      "needs_background": "light"
     },
     "output_type": "display_data"
    }
   ],
   "source": [
    "rows = [location[0] for location in path_dfs]\n",
    "cols = [location[1] for location in path_dfs]\n",
    "plt.plot(rows, cols, 'o-');"
   ]
  },
  {
   "cell_type": "code",
   "execution_count": 26,
   "metadata": {},
   "outputs": [
    {
     "name": "stdout",
     "output_type": "stream",
     "text": [
      "[(0, 0), (1, 1), (2, 2), (3, 3), (4, 4), (5, 5), (6, 6), (7, 7), (8, 8), (9, 9)]\n"
     ]
    },
    {
     "data": {
      "image/png": "[encoded data removed]",
      "text/plain": [
       "<Figure size 432x288 with 1 Axes>"
      ]
     },
     "metadata": {
      "needs_background": "light"
     },
     "output_type": "display_data"
    }
   ],
   "source": [
    "path_bfs = breadth_first_search((0, 0), (9, 9), grid_successors)\n",
    "print(path_bfs)\n",
    "rows = [location[0] for location in path_bfs]\n",
    "cols = [location[1] for location in path_bfs]\n",
    "plt.plot(rows, cols, 'o-');"
   ]
  },
  {
   "cell_type": "code",
   "execution_count": 27,
   "metadata": {},
   "outputs": [
    {
     "data": {
      "text/plain": [
       "'Goal not found'"
      ]
     },
     "execution_count": 27,
     "metadata": {},
     "output_type": "execute_result"
    }
   ],
   "source": [
    "depth_first_search((0, 0), (9, 20), grid_successors)"
   ]
  },
  {
   "cell_type": "markdown",
   "metadata": {},
   "source": [
    "# Required Modification to the Grid Puzzle (worth 20 points)\n",
    "\n",
    "Define a new function named `grid_successors_center_block` by copying the above `grid_successors` function and then modify it to add a square obstacle from coordinates (4, 4) to (6, 6).  Plot the path that results from doing breadth-first and depth-first searches with the start and goal states shown above.  Insert code cells and markdown cells here to do these steps."
   ]
  },
  {
   "cell_type": "code",
   "execution_count": 28,
   "metadata": {},
   "outputs": [],
   "source": [
    "def grid_successors_center_block(state):\n",
    "    row, col = state\n",
    "    # succs will be list of tuples () rather than list of lists [] because state must\n",
    "    # be an immutable type to serve as a key in dictionary of expanded nodes\n",
    "    succs = []\n",
    "    for r in [-1, 0, 1]:   #check each row\n",
    "        for c in [-1, 0, 1]:  # check in each col\n",
    "            newr = row + r\n",
    "            newc = col + c\n",
    "            if 0 <= newr <= 9 and 0 <= newc <= 9:  \n",
    "                if 4<=newr<=6 and 4<=newc<=6:\n",
    "                    continue\n",
    "                succs.append( (newr, newc) )\n",
    "    return succs"
   ]
  },
  {
   "cell_type": "markdown",
   "metadata": {},
   "source": [
    "I just add a if statement to limit the path. Just skip the newr and newc if that are in the range, like greater than 4 and smller than 6."
   ]
  },
  {
   "cell_type": "code",
   "execution_count": 29,
   "metadata": {},
   "outputs": [
    {
     "name": "stdout",
     "output_type": "stream",
     "text": [
      "Breadth first\n",
      "path from (0, 0) to (9, 9) is [(0, 0), (0, 1), (0, 2), (0, 3), (1, 4), (2, 5), (3, 6), (4, 7), (5, 7), (6, 7), (7, 7), (8, 8), (9, 9)]\n"
     ]
    }
   ],
   "source": [
    "print('Breadth first')\n",
    "print('path from (0, 0) to (9, 9) is', breadth_first_search((0, 0), (9, 9), grid_successors_center_block))"
   ]
  },
  {
   "cell_type": "code",
   "execution_count": 30,
   "metadata": {},
   "outputs": [
    {
     "name": "stdout",
     "output_type": "stream",
     "text": [
      "Depth-first\n",
      "path from (0, 0) to (9, 9) is [(0, 0), (0, 1), (0, 2), (0, 3), (0, 4), (0, 5), (0, 6), (0, 7), (0, 8), (1, 9), (2, 8), (2, 7), (2, 6), (2, 5), (2, 4), (2, 3), (2, 2), (2, 1), (3, 0), (4, 0), (5, 0), (6, 0), (7, 0), (8, 0), (9, 1), (8, 2), (7, 2), (6, 3), (7, 4), (7, 5), (7, 6), (6, 7), (5, 7), (4, 8), (5, 9), (6, 9), (7, 9), (8, 8), (9, 9)]\n"
     ]
    }
   ],
   "source": [
    "print('Depth-first')\n",
    "print('path from (0, 0) to (9, 9) is', depth_first_search((0, 0), (9, 9), grid_successors_center_block))"
   ]
  },
  {
   "cell_type": "code",
   "execution_count": 31,
   "metadata": {},
   "outputs": [],
   "source": [
    "\n",
    "import matplotlib.pyplot as plt"
   ]
  },
  {
   "cell_type": "code",
   "execution_count": 32,
   "metadata": {},
   "outputs": [
    {
     "data": {
      "image/png": "[encoded data removed]",
      "text/plain": [
       "<Figure size 432x288 with 1 Axes>"
      ]
     },
     "metadata": {
      "needs_background": "light"
     },
     "output_type": "display_data"
    }
   ],
   "source": [
    "path_dfs = depth_first_search((0, 0), (9, 9), grid_successors_center_block)\n",
    "path_dfs\n",
    "rows = [location[0] for location in path_dfs]\n",
    "cols = [location[1] for location in path_dfs]\n",
    "plt.plot(rows, cols, 'o-');"
   ]
  },
  {
   "cell_type": "code",
   "execution_count": 33,
   "metadata": {},
   "outputs": [
    {
     "name": "stdout",
     "output_type": "stream",
     "text": [
      "[(0, 0), (0, 1), (0, 2), (0, 3), (1, 4), (2, 5), (3, 6), (4, 7), (5, 7), (6, 7), (7, 7), (8, 8), (9, 9)]\n"
     ]
    },
    {
     "data": {
      "image/png": "[encoded data removed]",
      "text/plain": [
       "<Figure size 432x288 with 1 Axes>"
      ]
     },
     "metadata": {
      "needs_background": "light"
     },
     "output_type": "display_data"
    }
   ],
   "source": [
    "path_bfs = breadth_first_search((0, 0), (9, 9), grid_successors_center_block)\n",
    "print(path_bfs)\n",
    "rows = [location[0] for location in path_bfs]\n",
    "cols = [location[1] for location in path_bfs]\n",
    "plt.plot(rows, cols, 'o-');"
   ]
  },
  {
   "cell_type": "code",
   "execution_count": 34,
   "metadata": {},
   "outputs": [
    {
     "data": {
      "text/plain": [
       "'Goal not found'"
      ]
     },
     "execution_count": 34,
     "metadata": {},
     "output_type": "execute_result"
    }
   ],
   "source": [
    "depth_first_search((0, 0), (9, 20), grid_successors_center_block)"
   ]
  },
  {
   "cell_type": "markdown",
   "metadata": {},
   "source": [
    "\n",
    "DFS in grid_successor that function tell us the normal way that we can use to achive the goals. That in grid_successors_center_block not working because we have a barrier in (4,4) to (6,6), so we can see the paths around it to aviod that obstacle. The BFS in the grid_successors that tell us the normal bfs pathes to achive the goal. However, in the grid_successors, there is a barrier between 4 to 6, so we have to aviod that obstacle in grid_successors_center_block function. I add a if statement to limit this, so the result I got avoid 4,4 to 6,6. That is a fatest bfs path to get goal wothout using (4,4)to (6,6)."
   ]
  },
  {
   "cell_type": "markdown",
   "metadata": {},
   "source": [
    "# Extra Credit\n",
    "\n",
    "For extra credit, use your functions to solve the Camels Puzzle, described at [Logic Puzzles](http://www.folj.com/puzzles/).\n",
    "The following code illustrates one possible state representation and shows results of a breadth-first and a dept-first search.  You must define a new successors function, called `camel_successors_f`. \n",
    "\n",
    "If you do not do this extra credit step, please remove this and the following cells that pertain to this extra credit."
   ]
  },
  {
   "cell_type": "code",
   "execution_count": 35,
   "metadata": {},
   "outputs": [],
   "source": [
    "camel_start_state = ['R', 'R', 'R', 'R', ' ', 'L', 'L', 'L', 'L']"
   ]
  },
  {
   "cell_type": "code",
   "execution_count": 36,
   "metadata": {},
   "outputs": [],
   "source": [
    "camel_goal_state = ['L', 'L', 'L', 'L', ' ', 'R', 'R', 'R', 'R']"
   ]
  },
  {
   "cell_type": "code",
   "execution_count": 37,
   "metadata": {},
   "outputs": [],
   "source": [
    "def camel_successors_f(camel_start_state):\n",
    "    empty = camel_start_state.index(' ')\n",
    "    \n",
    "    c1 = list(camel_start_state).copy()\n",
    "    c2 = list(camel_start_state).copy()\n",
    "    c3 = list(camel_start_state).copy()\n",
    "    c4 = list(camel_start_state).copy()\n",
    "    if(empty == 0):\n",
    "        c1[empty+2],c1[empty] = c1[empty],c1[empty+2]\n",
    "        return [tuple(c1)]\n",
    "    elif(empty == 1):\n",
    "        c1[empty-1],c1[empty] = c1[empty],c1[empty-1]\n",
    "        c2[empty+1],c2[empty] = c2[empty],c2[empty+1]\n",
    "        c3[empty+2],c3[empty] = c3[empty],c3[empty+2]\n",
    "        return tuple(c1),tuple(c2),tuple(c3)\n",
    "    elif(empty == 7):\n",
    "        c1[empty-1],c1[empty] = c1[empty],c1[empty-1]\n",
    "        c2[empty+1],c2[empty] = c2[empty],c2[empty+1]\n",
    "        c3[empty-2],c3[empty] = c3[empty],c3[empty-2]\n",
    "        return tuple(c3),tuple(c1),tuple(c2)\n",
    "    elif(empty == 8):\n",
    "        c1[empty-2],c1[empty] = c1[empty],c1[empty-2]\n",
    "        return [tuple(c1)]\n",
    "    \n",
    "    else:\n",
    "        c1[empty-1],c1[empty] = c1[empty],c1[empty-1]\n",
    "        c2[empty+1],c2[empty] = c2[empty],c2[empty+1]\n",
    "        c3[empty+2],c3[empty] = c3[empty],c3[empty+2]\n",
    "        c4[empty-2],c4[empty] = c4[empty],c4[empty-2]\n",
    "        return tuple(c4),tuple(c1),tuple(c2),tuple(c3)\n",
    "    "
   ]
  },
  {
   "cell_type": "markdown",
   "metadata": {},
   "source": [
    "A handy function for implementing `camel_successors_f` is `index` that returns the index where an element is found in a list or a tuple."
   ]
  },
  {
   "cell_type": "code",
   "execution_count": 38,
   "metadata": {},
   "outputs": [
    {
     "data": {
      "text/plain": [
       "4"
      ]
     },
     "execution_count": 38,
     "metadata": {},
     "output_type": "execute_result"
    }
   ],
   "source": [
    "camel_start_state.index(' ')"
   ]
  },
  {
   "cell_type": "code",
   "execution_count": 39,
   "metadata": {},
   "outputs": [
    {
     "name": "stdout",
     "output_type": "stream",
     "text": [
      "('R', 'R', ' ', 'R', 'R', 'L', 'L', 'L', 'L')\n"
     ]
    },
    {
     "data": {
      "text/plain": [
       "((' ', 'R', 'R', 'R', 'R', 'L', 'L', 'L', 'L'),\n",
       " ('R', ' ', 'R', 'R', 'R', 'L', 'L', 'L', 'L'),\n",
       " ('R', 'R', 'R', ' ', 'R', 'L', 'L', 'L', 'L'),\n",
       " ('R', 'R', 'R', 'R', ' ', 'L', 'L', 'L', 'L'))"
      ]
     },
     "execution_count": 39,
     "metadata": {},
     "output_type": "execute_result"
    }
   ],
   "source": [
    "children = camel_successors_f(camel_start_state)\n",
    "print(children[0]) \n",
    "camel_successors_f(children[0])"
   ]
  },
  {
   "cell_type": "code",
   "execution_count": 40,
   "metadata": {},
   "outputs": [
    {
     "data": {
      "text/plain": [
       "'RRRR LLLL'"
      ]
     },
     "execution_count": 40,
     "metadata": {},
     "output_type": "execute_result"
    }
   ],
   "source": [
    "def print_camel_state(state):\n",
    "    return ''.join(state)\n",
    "\n",
    "print_camel_state(camel_start_state)"
   ]
  },
  {
   "cell_type": "code",
   "execution_count": 41,
   "metadata": {},
   "outputs": [
    {
     "ename": "TypeError",
     "evalue": "unhashable type: 'list'",
     "output_type": "error",
     "traceback": [
      "\u001b[0;31m---------------------------------------------------------------------------\u001b[0m",
      "\u001b[0;31mTypeError\u001b[0m                                 Traceback (most recent call last)",
      "\u001b[0;32m<ipython-input-41-b533e7ed07cc>\u001b[0m in \u001b[0;36m<module>\u001b[0;34m\u001b[0m\n\u001b[0;32m----> 1\u001b[0;31m \u001b[0mbfs\u001b[0m \u001b[0;34m=\u001b[0m \u001b[0mbreadth_first_search\u001b[0m\u001b[0;34m(\u001b[0m\u001b[0mcamel_start_state\u001b[0m\u001b[0;34m,\u001b[0m \u001b[0mcamel_goal_state\u001b[0m\u001b[0;34m,\u001b[0m \u001b[0mcamel_successors_f\u001b[0m\u001b[0;34m)\u001b[0m\u001b[0;34m\u001b[0m\u001b[0;34m\u001b[0m\u001b[0m\n\u001b[0m\u001b[1;32m      2\u001b[0m \u001b[0mprint\u001b[0m\u001b[0;34m(\u001b[0m\u001b[0;34mf'Breadth-first solution: ({len(bfs)} steps)'\u001b[0m\u001b[0;34m)\u001b[0m\u001b[0;34m\u001b[0m\u001b[0;34m\u001b[0m\u001b[0m\n\u001b[1;32m      3\u001b[0m \u001b[0;32mfor\u001b[0m \u001b[0ms\u001b[0m \u001b[0;32min\u001b[0m \u001b[0mbfs\u001b[0m\u001b[0;34m:\u001b[0m\u001b[0;34m\u001b[0m\u001b[0;34m\u001b[0m\u001b[0m\n\u001b[1;32m      4\u001b[0m     \u001b[0mprint\u001b[0m\u001b[0;34m(\u001b[0m\u001b[0mprint_camel_state\u001b[0m\u001b[0;34m(\u001b[0m\u001b[0ms\u001b[0m\u001b[0;34m)\u001b[0m\u001b[0;34m)\u001b[0m\u001b[0;34m\u001b[0m\u001b[0;34m\u001b[0m\u001b[0m\n\u001b[1;32m      5\u001b[0m \u001b[0;34m\u001b[0m\u001b[0m\n",
      "\u001b[0;32m<ipython-input-2-5d79db88f2ce>\u001b[0m in \u001b[0;36mbreadth_first_search\u001b[0;34m(start_state, goal_state, successors_f)\u001b[0m\n\u001b[1;32m      1\u001b[0m \u001b[0;32mdef\u001b[0m \u001b[0mbreadth_first_search\u001b[0m\u001b[0;34m(\u001b[0m\u001b[0mstart_state\u001b[0m\u001b[0;34m,\u001b[0m \u001b[0mgoal_state\u001b[0m\u001b[0;34m,\u001b[0m \u001b[0msuccessors_f\u001b[0m\u001b[0;34m)\u001b[0m\u001b[0;34m:\u001b[0m\u001b[0;34m\u001b[0m\u001b[0;34m\u001b[0m\u001b[0m\n\u001b[1;32m      2\u001b[0m \u001b[0;34m\u001b[0m\u001b[0m\n\u001b[0;32m----> 3\u001b[0;31m     \u001b[0;32mreturn\u001b[0m \u001b[0msearch\u001b[0m\u001b[0;34m(\u001b[0m\u001b[0mstart_state\u001b[0m\u001b[0;34m,\u001b[0m\u001b[0mgoal_state\u001b[0m\u001b[0;34m,\u001b[0m\u001b[0msuccessors_f\u001b[0m\u001b[0;34m,\u001b[0m\u001b[0;32mTrue\u001b[0m\u001b[0;34m)\u001b[0m\u001b[0;34m\u001b[0m\u001b[0;34m\u001b[0m\u001b[0m\n\u001b[0m\u001b[1;32m      4\u001b[0m \u001b[0;34m\u001b[0m\u001b[0m\n",
      "\u001b[0;32m<ipython-input-1-b26bf7ad8611>\u001b[0m in \u001b[0;36msearch\u001b[0;34m(start_state, goal_state, successors_f, breadth_first)\u001b[0m\n\u001b[1;32m      9\u001b[0m         \u001b[0mchildren\u001b[0m \u001b[0;34m=\u001b[0m \u001b[0msuccessors_f\u001b[0m\u001b[0;34m(\u001b[0m\u001b[0mstate\u001b[0m\u001b[0;34m[\u001b[0m\u001b[0;36m0\u001b[0m\u001b[0;34m]\u001b[0m\u001b[0;34m)\u001b[0m\u001b[0;34m\u001b[0m\u001b[0;34m\u001b[0m\u001b[0m\n\u001b[1;32m     10\u001b[0m \u001b[0;34m\u001b[0m\u001b[0m\n\u001b[0;32m---> 11\u001b[0;31m         \u001b[0mexpanded\u001b[0m\u001b[0;34m[\u001b[0m\u001b[0mstate\u001b[0m\u001b[0;34m[\u001b[0m\u001b[0;36m0\u001b[0m\u001b[0;34m]\u001b[0m\u001b[0;34m]\u001b[0m \u001b[0;34m=\u001b[0m \u001b[0mstate\u001b[0m\u001b[0;34m[\u001b[0m\u001b[0;36m1\u001b[0m\u001b[0;34m]\u001b[0m\u001b[0;34m\u001b[0m\u001b[0;34m\u001b[0m\u001b[0m\n\u001b[0m\u001b[1;32m     12\u001b[0m \u001b[0;34m\u001b[0m\u001b[0m\n\u001b[1;32m     13\u001b[0m         \u001b[0mremoveList\u001b[0m \u001b[0;34m=\u001b[0m \u001b[0;34m[\u001b[0m\u001b[0;34m]\u001b[0m\u001b[0;34m\u001b[0m\u001b[0;34m\u001b[0m\u001b[0m\n",
      "\u001b[0;31mTypeError\u001b[0m: unhashable type: 'list'"
     ]
    }
   ],
   "source": [
    "bfs = breadth_first_search(camel_start_state, camel_goal_state, camel_successors_f)\n",
    "print(f'Breadth-first solution: ({len(bfs)} steps)')\n",
    "for s in bfs:\n",
    "    print(print_camel_state(s))\n",
    "\n",
    "dfs = depth_first_search(camel_start_state, camel_goal_state, camel_successors_f)\n",
    "print(f'Depth-first solution: ({len(dfs)} steps)')\n",
    "for s in dfs:\n",
    "     print(print_camel_state(s))\n"
   ]
  },
  {
   "cell_type": "markdown",
   "metadata": {},
   "source": [
    "# Grading\n",
    "\n",
    "Your notebook will be run and graded automatically. Download [A1grader.tar](http://www.cs.colostate.edu/~anderson/cs440/notebooks/A1grader.tar)  and extract A1grader.py from it. Run the code in the following cell to demonstrate an example grading session. You should see a perfect score of 80/80 if your functions are defined correctly. \n",
    "\n",
    "The remaining 20% will be based on your writing.  In markdown cells, explain what your functions are doing and make observations about your results.  Also mention problems you encountered in trying to solve this assignment."
   ]
  },
  {
   "cell_type": "code",
   "execution_count": 42,
   "metadata": {},
   "outputs": [
    {
     "name": "stdout",
     "output_type": "stream",
     "text": [
      "\n",
      "======================= Code Execution =======================\n",
      "\n",
      "Extracting python code from notebook named 'YiboXu-A1.ipynb' and storing in notebookcode.py\n",
      "Removing all statements that are not function or class defs or import statements.\n",
      "\n",
      "Searching this graph:\n",
      " {'a': ['b'], 'b': ['c', 'd'], 'c': ['e'], 'd': ['f', 'i'], 'e': ['g', 'h', 'i']}\n",
      "\n",
      "Looking for path from a to b.\n",
      "  Calling breadth_first_search(a, b, successorsf)\n",
      "       and depth_first_search(a, b, successorsf)\n",
      "\n",
      "10/10 points. Your breadth_first_search found correct solution path of ['a', 'b']\n",
      "10/10 points. Your depth_first_search found correct solution path of ['a', 'b']\n",
      "\n",
      "Looking for path from a to i.\n",
      "  Calling breadth_first_search(a, i, successorsf)\n",
      "      and depth_first_search(a, i, successorsf)\n",
      "\n",
      "20/20 points. Your breadth_first_search found correct solution path of ['a', 'b', 'd', 'i']\n",
      "20/20 points. Your depth_first_search found correct solution path of ['a', 'b', 'c', 'e', 'i']\n",
      "\n",
      "Looking for nonexistent path from a to denver.\n",
      "  Calling breadth_first_search(a, denver, successorsf)\n",
      "      and depth_first_search(a, denver, successorsf)\n",
      "\n",
      "10/10 points. Your breadth_first_search found correct solution path of Goal not found\n",
      "10/10 points. Your depth_first_search found correct solution path of Goal not found\n",
      "\n",
      "======================================================================\n",
      "cs440hw Execution Grade is 80 / 80\n",
      "======================================================================\n",
      "\n",
      "__ / 5 points. Correct implementation of the grid_successors_center_block function\n",
      "\n",
      "__ / 5 points. At least two sentences of text describing changes you made to grid_successors to implement grid_successors_center_block\n",
      "\n",
      "__ / 5 points. Plots of paths resulting from breadth-first and depth-first searches of the grid\n",
      "\n",
      "__ / 5 points. At least five sentences of text describing your resulting plots.  How are they different with the center block?\n",
      "\n",
      "======================================================================\n",
      "cs440hw Discussion Grade is __ / 20\n",
      "======================================================================\n",
      "\n",
      "======================================================================\n",
      "cs440hw FINAL GRADE is  _  / 100\n",
      "======================================================================\n",
      "\n",
      "Extra Credit: Earn one point of extra credit for using your search functions to solve the camel puzzle.\n",
      "\n",
      "cs440hw EXTRA CREDIT is 0 / 1\n"
     ]
    }
   ],
   "source": [
    "%run -i A1grader.py"
   ]
  },
  {
   "cell_type": "code",
   "execution_count": null,
   "metadata": {},
   "outputs": [],
   "source": []
  }
 ],
 "metadata": {
  "anaconda-cloud": {},
  "jupytext": {
   "formats": "ipynb,py:light"
  },
  "kernelspec": {
   "display_name": "Python 3",
   "language": "python",
   "name": "python3"
  },
  "language_info": {
   "codemirror_mode": {
    "name": "ipython",
    "version": 3
   },
   "file_extension": ".py",
   "mimetype": "text/x-python",
   "name": "python",
   "nbconvert_exporter": "python",
   "pygments_lexer": "ipython3",
   "version": "3.7.4"
  },
  "toc": {
   "base_numbering": 1,
   "nav_menu": {},
   "number_sections": true,
   "sideBar": true,
   "skip_h1_title": false,
   "title_cell": "Table of Contents",
   "title_sidebar": "Contents",
   "toc_cell": true,
   "toc_position": {
    "height": "calc(100% - 180px)",
    "left": "10px",
    "top": "150px",
    "width": "165px"
   },
   "toc_section_display": true,
   "toc_window_display": true
  }
 },
 "nbformat": 4,
 "nbformat_minor": 1
}
