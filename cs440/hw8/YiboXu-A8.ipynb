{
 "cells": [
  {
   "cell_type": "markdown",
   "metadata": {},
   "source": [
    "<font size=5> Discussion about AI for predicting forest fire</font>"
   ]
  },
  {
   "cell_type": "markdown",
   "metadata": {},
   "source": [
    "By Yibo Xu"
   ]
  },
  {
   "cell_type": "markdown",
   "metadata": {},
   "source": [
    "## Introduction"
   ]
  },
  {
   "cell_type": "markdown",
   "metadata": {},
   "source": [
    "   I still remember that forest fire happened in 2017 in California. The fire destroyed more than 2,000 hospitals, schools, homes and other buildings, that ruin thousands and thousands people's life and their properties. Also, that year the forest fire overspread the sky of Fort Collins, my friends show me the picture that like people were living in doom. Also, this year a forest fire happened in China brought 30 firemens' life away. That is a reason why I choose that topic to discuss because that is the most dangerous issue that every countries have to meet and know the countermeasurements. The AI technology can help the departement to detect and avoid those kind of diasters, which will be the meaning of technology."
   ]
  },
  {
   "cell_type": "markdown",
   "metadata": {},
   "source": [
    "The first  paper I selected is Artificial Intelligence for Forest Fire Prediction, written by George E. Sakr in 2010, author illustarted an SVM algorithm(Data Mining Algorithm) in his paper for forest fire detection, that method could detect the fire by combining the historical number of fires with certain weather conditions, evluating the risk and make a recommendation for firmen. The author mention that method have 96% accuracy for predicting the forst fire in one month."
   ]
  },
  {
   "cell_type": "markdown",
   "metadata": {},
   "source": [
    "The second paper is A Data Mining Approach to Predict Forest Fires using Meteorological Data, written by Paulo Cortez1. In this paper, author mentioned Data Mining Approach methods especially RF algorithm for detecting the forest fire. That method could predict the burned area of forest fire by analyzing 4 attributes, like temperature, relative humidity, rain and wind, with vector machines. That are successful in predicting small fires and giving recommendations to reduce the lose caused by fire. That method mostly used real-time and non-costly meteorological data, which is different than the first method that introduced by George E. Sakr. That method is capable of predicting the small fire, but can't deal with large fire."
   ]
  },
  {
   "cell_type": "markdown",
   "metadata": {},
   "source": [
    "The last paper is Predictive modeling of wildfires: A new dataset and machine learning approach, that written by Younes Oulad Sayad in 2019. That is kind of combination of other 2 I found. The method author claimed combing Big Data, Remote Sensing and Data Mining algorithms (Artificial Neural Network and SVM) to analyze the data that collected by satellite, to predicte the forest fire will happen or not. The author used Neural Network and SVM that two best algorithm from Data Mining algorithms. And he claimed both of those are working well."
   ]
  },
  {
   "cell_type": "markdown",
   "metadata": {},
   "source": [
    "The first paper is written in 2010, second is written in 2014, third is written in 2019. We can find the progress that AI technology developed in predicting forest fire among those papers. That is why I choosed those three papers. The first paper developed the method that has to use historical data with multiple attributes, the second only used real-time data for detecting, the newest method combined those methods with big data, remoting sensor, etc. \n",
    "\n",
    "The common in those three papers is to find the method that could detect the forest fire better and recommends any advice to reduce the losses caused by a forest fire. As we mentioned above, a forest fire is a disaster, if we can detect that early, that can save more than we imagine."
   ]
  },
  {
   "cell_type": "markdown",
   "metadata": {},
   "source": [
    "## Analysis of Papers"
   ]
  },
  {
   "cell_type": "markdown",
   "metadata": {},
   "source": [
    "The first paper introduce the method that use support vector machine to analyze the historical data for clssfying that into 4 scales. In addition, that method reduced most features to avoid toilsome process, only used main data for prediction, like min and max temperature for a day, average humidity of a day, solar radiation over the day,average wind speed, and cumulative precipitation level. In the article, author explained the mathmatic used in support vector machine and how to train support vector machine to get the 2 scales and how to optimizate those 2 scales into 4 scales. By the way, that method is based on the Spatio-temporal Data Mining (STDM) techniques.\n",
    "\n",
    "\n",
    "In my opinion, that methods does not work well as that accuracy of most monthes are lower than 90%, only 2 monthes are higher than 90%. That 10% inaccuracy will lead to wrong road and result in a large disaster. Also, that method are highly depand on the historical data, and the machine are trained with those old data, so that is not working for sudden accident and large area. However, according to this method is illustrated in 2010, those drawbacks are comprehensible.\n",
    "\n",
    "That is so hard to understand the math for support vector machine. Also, author don't show us any caculations that used for support vector machine with features that he selected, which make me hardly understand this part because I don't have too many knowledge about support vector machine, but I believe that make sense for most professional people."
   ]
  },
  {
   "cell_type": "markdown",
   "metadata": {},
   "source": [
    "The method are data mining approach, that method is used to analyze the raw data and extract the essential part for the decision maker. For forest fire prediction, that is necessary as the decision are made in short time, finding information from large database will be impossible for human, so data mining method are designed for this. The infor mation are collected by satellite data, infrared/smoke scanners and local sensors, which are needs computer to arrange and analyze. In this paper, author used RF method with nnet and four real time features to predict the fires. The model is to calculate the the Mean Absolute Deviation (MAD) and Root Mean Squared (RMSE), which are used for predicting the forest fire, the higher value means the better predictive model. In the article, author discussed Multiple Regression (MR) model, Random Forests (RF), Neural Networks (NN) and Support Vector Machines (SVM), he discussed that MR and DT model are more simple and other models need more computations. \n",
    "\n",
    "The goal of this paper is to find a better method to detecte the forest fire, however, I think in this article that is not achieved because that model is only can predict the small fire, not working very well for the large fire. However,I still believe that is partially successful because that method only used real-time data and cheap info from the database. Also, that model can use to predict the burned area for forest fire, as author claimed, that is the first time to predicted this by this model.\n",
    "\n",
    "That paper is very easy to understand as the data is very clear and author analyzed and explained each models and steps to readers. However, the only part is hard to read is math about the model, I am not good at it and never have experience with this, so that is a chanllenge for me. \n",
    "        "
   ]
  },
  {
   "cell_type": "markdown",
   "metadata": {},
   "source": [
    "The last paper is the newest, so that combined the above two papers mentioned menthods, SVM(support vector machine) and Neural Networks. The key point of this article is to talk about data preprocess that used to summarize and analyze the information that collected by satellite, this data preprocessing can be splited as data conversion, data cleaning, data clipping, data interpolation, data extrapolation, data extraction, the meaning of this process is to provide a better dataset for predicting forest fire. Also, author used big data platform, “Databricks” ,to get better inforamtion. Then, author analyze it by SVM and Neural Networks through training, prediction and evaluation process. That is an inspiration for other people, if we don't have better algorithm, we can try to provide a better dataset.\n",
    "\n",
    "The way the author achive the goal is to provide a better dataset, like validate the information and get rid of the useless information, which as author clamied, improve the accuracy of the prediciton from 95% to 98%(from Neural Networks). That could save lots of property and lives. However, the algorithm that author used is from other people, he just used and compared both methods, and his conclusion is that both work well.\n",
    "\n",
    "That paper is easy to understand and the structure are very clear, the reason is that paper didn't talk too much about the algorithn. Also, the author disscussed lots of data processing and explained the basic idea of support vector machine and Neural Networks. Also, that lack of enough discussion about how to process SVM and NN in our own lab, so that is hard for people to do their own implementation."
   ]
  },
  {
   "cell_type": "markdown",
   "metadata": {},
   "source": [
    "The goals of those three paper are very similar, to improve the prediction for forest fire. The first paper used Support Vector Machine that based on the Data Mining algorithm, the second paper discussed most methods about Data Mining algorithm and choosed RF for experiment, the third paper make a better dataset by data preprocessing and used NN and Support Vector Machine to predict. The another differences is the data choosen, the first paper chosed data most from historic data and only pick 4 features, the second paper used cheaper data and only real-time data for predicting, the third paper used data that collected by satellite and sensors with big data to predicting. We can see the technology are improving, the second paper is written in 2014, the author mention NN technology but didn't use it, and claim it would be better in the future. Also, the result are improving too, the first paper is written in 2010, the result is not optimistic, the average of the accuracy are 85%, but in second paper they can predicate the small fire with high accuracy like 95%, in the third paper that is written in 2019, that have very high accuracy for predicting forest fire like 98%."
   ]
  },
  {
   "cell_type": "markdown",
   "metadata": {},
   "source": [
    "## Issues and Challenges"
   ]
  },
  {
   "cell_type": "markdown",
   "metadata": {},
   "source": [
    "The major issues of those three paper is how to deal with the data, the algorithm have to be chosen by the features that author want to use in experiment. For the first paper, auhtor used cumulative preciptation level, but that only work for few places. \n",
    "\"The cumulative precipitation level: taken as precipitation year-to-date starting from October 1. It is worth noting that this value is constant for all points of a certain year considered since the algorithm is applied only for the Lebanese fire season months of June, July, August, September and October, where typically no precipitation occurs.\"(George E. Sakr, Imad H. Elhajj, George Mitri and Uchechukwu C. Wejinya, 2010)\n",
    "\n",
    "In second paper, author used real-time and cheaper dataset that result in good accuracy in predicating small fire, but can not deal with large fire. The cost also is a big challenge for predicating, how to make it cheap and fast will always be a challenge for everyone who wants to predicate the forest fire.\n",
    "\n",
    "The algorithm have to make change based on those data, so the data preprocessing would be required before any experiment. I think the third paper is the best way to deal those data now. We have to make some small changes to our algorithm to fit the area that we want to predicate for forest fire. "
   ]
  },
  {
   "cell_type": "markdown",
   "metadata": {},
   "source": [
    "## Conclusion"
   ]
  },
  {
   "cell_type": "markdown",
   "metadata": {},
   "source": [
    "We can see the trend that technology improving from those three paper because that are wrritten in 3 different times. The accuracy of predicating forest fire are increasing by using same method, like in first paper, the accuracy from support vector machine is not good enough, however, we can find that accuracy increasing dramaticaly in third paper, that is 97.48% for support vector machine. I believe the accuracy will increase to close to 100% in the future. However, deal with the dataset will still be the challenge as the other technology are improving too, the data that collected by satallite will be more precise. \n",
    "\n",
    "Like this year, I believe the department used same techology like third paper illustrated, but the forest fire still happened and can't stopped by human, so the algorithm still have to improve for detecting the large fire and the spread way. I think how to automatcally collect the data and run the application for detecing could be the futher advances, like when the park have a small fire, if that have trend to be large, that will send an alarm to the national department to notify them to stop it. That could achive by better algorithm and better device."
   ]
  },
  {
   "cell_type": "markdown",
   "metadata": {},
   "source": [
    "## References\n",
    "\n",
    "Artificial Intelligence for Forest Fire Prediction [George E. Sakr, Imad H. Elhajj, George Mitri and Uchechukwu C. Wejinya, 2010]\n",
    "\n",
    "A Data Mining Approach to Predict Forest Fires using Meteorological Data [Paulo Cortez1 and An ́ıbal Morais1,2014]\n",
    "\n",
    "Predictive modeling of wildfires: A new dataset and machine learning approach [Younes Oulad Sayad , Hajar Mousannif , Hassan Al Moatassime, 2019]\n"
   ]
  },
  {
   "cell_type": "code",
   "execution_count": 27,
   "metadata": {
    "ExecuteTime": {
     "end_time": "2020-11-16T20:51:43.006980Z",
     "start_time": "2020-11-16T20:51:43.000508Z"
    }
   },
   "outputs": [
    {
     "name": "stdout",
     "output_type": "stream",
     "text": [
      "Word count for file 'A8 Report Template.ipynb' is 2077.\n",
      "\n",
      "Your word count satifies the requirements.\n"
     ]
    }
   ],
   "source": [
    "import io\n",
    "import nbformat\n",
    "import glob\n",
    "nbfile = glob.glob('A8 Report Template.ipynb')\n",
    "if len(nbfile) > 1:\n",
    "    print('More than one ipynb file. Using the first one.  nbfile=', nbfile)\n",
    "with io.open(nbfile[0], 'r', encoding='utf-8') as f:\n",
    "    nb = nbformat.read(f, as_version=4)\n",
    "word_count = 0\n",
    "for cell in nb['cells']:\n",
    "    if cell.cell_type == \"markdown\":\n",
    "        word_count += len(cell['source'].replace('#', '').lstrip().split(' '))\n",
    "        # print(cell['source'], word_count)\n",
    "\n",
    "print(f\"Word count for file '{nbfile[0]}' is {word_count}.\\n\")\n",
    "\n",
    "if word_count < 2000:\n",
    "    print('Your report does not have enough words!'.upper())\n",
    "elif word_count > 4000:\n",
    "    print('Your report has too many words.  Rewrite some sections more concisely.'.upper())\n",
    "else:\n",
    "    print('Your word count satifies the requirements.')"
   ]
  }
 ],
 "metadata": {
  "kernelspec": {
   "display_name": "Python 3",
   "language": "python",
   "name": "python3"
  },
  "language_info": {
   "codemirror_mode": {
    "name": "ipython",
    "version": 3
   },
   "file_extension": ".py",
   "mimetype": "text/x-python",
   "name": "python",
   "nbconvert_exporter": "python",
   "pygments_lexer": "ipython3",
   "version": "3.8.3"
  },
  "toc": {
   "base_numbering": 1,
   "nav_menu": {},
   "number_sections": true,
   "sideBar": true,
   "skip_h1_title": false,
   "title_cell": "Table of Contents",
   "title_sidebar": "Contents",
   "toc_cell": false,
   "toc_position": {},
   "toc_section_display": true,
   "toc_window_display": true
  }
 },
 "nbformat": 4,
 "nbformat_minor": 2
}
