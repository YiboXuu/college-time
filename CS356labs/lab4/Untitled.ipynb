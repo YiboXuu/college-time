{
 "cells": [
  {
   "cell_type": "code",
   "execution_count": 1,
   "metadata": {},
   "outputs": [],
   "source": [
    "import sqlite3\n",
    "from getpass import getpass"
   ]
  },
  {
   "cell_type": "code",
   "execution_count": 2,
   "metadata": {},
   "outputs": [],
   "source": [
    "conn = sqlite3.connect('assignment.db')   # make a connection to the database, create it if it doesn't exist\n",
    "c = conn.cursor() "
   ]
  },
  {
   "cell_type": "code",
   "execution_count": 3,
   "metadata": {},
   "outputs": [
    {
     "data": {
      "text/plain": [
       "<sqlite3.Cursor at 0x10e9f0b20>"
      ]
     },
     "execution_count": 3,
     "metadata": {},
     "output_type": "execute_result"
    }
   ],
   "source": [
    "c.execute('''CREATE TABLE account (id INTEGER NOT NULL PRIMARY KEY AUTOINCREMENT, username TEXT, password TEXT)''')"
   ]
  },
  {
   "cell_type": "code",
   "execution_count": 4,
   "metadata": {},
   "outputs": [
    {
     "name": "stdout",
     "output_type": "stream",
     "text": [
      "Successfully entered data\n"
     ]
    }
   ],
   "source": [
    "def insert_data():\n",
    "    c.execute(\"INSERT INTO account(username, password) VALUES('mark', 'abcdef')\")\n",
    "    c.execute(\"INSERT INTO account(username, password) VALUES('paul', 'xywz123')\")\n",
    "    conn.commit()\n",
    "    print(\"Successfully entered data\")\n",
    "\n",
    "insert_data()"
   ]
  },
  {
   "cell_type": "code",
   "execution_count": 5,
   "metadata": {},
   "outputs": [
    {
     "name": "stdout",
     "output_type": "stream",
     "text": [
      "[(1, 'mark', 'abcdef'), (2, 'paul', 'xywz123')]\n"
     ]
    }
   ],
   "source": [
    "def show_table():\n",
    "    c.execute(\"SELECT * FROM account\")\n",
    "    print(c.fetchall())\n",
    "\n",
    "show_table()"
   ]
  },
  {
   "cell_type": "code",
   "execution_count": 6,
   "metadata": {},
   "outputs": [],
   "source": [
    "def sqli():\n",
    "    u_name = str(input(\"Enter Username\\t\"))\n",
    "    print(\"Enter Password:\\t\")\n",
    "    p_word = getpass()\n",
    "    try:\n",
    "        c.execute(\"SELECT username, password FROM account WHERE username='%s' AND password='%s'\" %(u_name, p_word))\n",
    "    except:\n",
    "        c.executescript(\"SELECT username, password FROM account WHERE username='%s' AND password='%s'\" %(u_name, p_word))\n",
    "    if c.fetchone():\n",
    "        print(\"Successful login\")\n",
    "    else:\n",
    "        print(\"Failed login\")"
   ]
  },
  {
   "cell_type": "code",
   "execution_count": 7,
   "metadata": {},
   "outputs": [
    {
     "name": "stdout",
     "output_type": "stream",
     "text": [
      "Enter Username\tmark\n",
      "Enter Password:\t\n",
      "········\n",
      "Successful login\n"
     ]
    }
   ],
   "source": [
    "sqli() "
   ]
  },
  {
   "cell_type": "code",
   "execution_count": 10,
   "metadata": {},
   "outputs": [
    {
     "name": "stdout",
     "output_type": "stream",
     "text": [
      "Enter Username\tmark\n",
      "Enter Password:\t\n",
      "········\n",
      "Failed login\n"
     ]
    }
   ],
   "source": [
    "sqli()"
   ]
  },
  {
   "cell_type": "code",
   "execution_count": 11,
   "metadata": {},
   "outputs": [
    {
     "name": "stdout",
     "output_type": "stream",
     "text": [
      "[(1, 'mark', 'abcdef'), (2, 'paul', 'xywz123')]\n"
     ]
    }
   ],
   "source": [
    "show_table()"
   ]
  },
  {
   "cell_type": "code",
   "execution_count": 12,
   "metadata": {},
   "outputs": [
    {
     "name": "stdout",
     "output_type": "stream",
     "text": [
      "Enter Username\tDELETE FROM tablename WHERE fieldname=\"value\";\n",
      "Enter Password:\t\n",
      "········\n",
      "Failed login\n"
     ]
    }
   ],
   "source": [
    "sqli()\n"
   ]
  },
  {
   "cell_type": "code",
   "execution_count": 13,
   "metadata": {},
   "outputs": [
    {
     "name": "stdout",
     "output_type": "stream",
     "text": [
      "[(1, 'mark', 'abcdef'), (2, 'paul', 'xywz123')]\n",
      "Enter Username\tDELETE FROM tablename WHERE fieldname=\"mark\";\n",
      "Enter Password:\t\n",
      "········\n",
      "Failed login\n"
     ]
    }
   ],
   "source": [
    "show_table()\n",
    "sqli()"
   ]
  },
  {
   "cell_type": "code",
   "execution_count": 14,
   "metadata": {},
   "outputs": [
    {
     "name": "stdout",
     "output_type": "stream",
     "text": [
      "Enter Username\tmark\n",
      "Enter Password:\t\n",
      "········\n",
      "Successful login\n"
     ]
    }
   ],
   "source": [
    "sqli()"
   ]
  },
  {
   "cell_type": "code",
   "execution_count": 17,
   "metadata": {},
   "outputs": [
    {
     "name": "stdout",
     "output_type": "stream",
     "text": [
      "Enter Username\tDELETE FROM assignment.db  WHERE fieldname=\"mark\";\n",
      "Enter Password:\t\n",
      "········\n",
      "Failed login\n"
     ]
    }
   ],
   "source": [
    "sqli()"
   ]
  },
  {
   "cell_type": "code",
   "execution_count": 18,
   "metadata": {},
   "outputs": [
    {
     "name": "stdout",
     "output_type": "stream",
     "text": [
      "[(1, 'mark', 'abcdef'), (2, 'paul', 'xywz123')]\n"
     ]
    }
   ],
   "source": [
    "show_table()"
   ]
  },
  {
   "cell_type": "code",
   "execution_count": 21,
   "metadata": {},
   "outputs": [
    {
     "name": "stdout",
     "output_type": "stream",
     "text": [
      "Enter Username\tmark\n",
      "Enter Password:\t\n",
      "········\n",
      "Successful login\n"
     ]
    }
   ],
   "source": [
    "sqli()"
   ]
  },
  {
   "cell_type": "code",
   "execution_count": 22,
   "metadata": {},
   "outputs": [
    {
     "name": "stdout",
     "output_type": "stream",
     "text": [
      "Enter Username\tDELETE FROM assignment WHERE fieldname=\"value\";\n",
      "Enter Password:\t\n",
      "········\n",
      "Failed login\n"
     ]
    }
   ],
   "source": [
    "sqli()"
   ]
  },
  {
   "cell_type": "code",
   "execution_count": 23,
   "metadata": {},
   "outputs": [
    {
     "name": "stdout",
     "output_type": "stream",
     "text": [
      "[(1, 'mark', 'abcdef'), (2, 'paul', 'xywz123')]\n"
     ]
    }
   ],
   "source": [
    "show_table()"
   ]
  },
  {
   "cell_type": "code",
   "execution_count": 24,
   "metadata": {},
   "outputs": [
    {
     "name": "stdout",
     "output_type": "stream",
     "text": [
      "[(1, 'mark', 'abcdef'), (2, 'paul', 'xywz123')]\n",
      "Enter Username\tDELETE FROM account WHERE fieldname=\"value\";\n",
      "Enter Password:\t\n",
      "········\n",
      "Failed login\n"
     ]
    }
   ],
   "source": [
    "show_table()\n",
    "sqli()"
   ]
  },
  {
   "cell_type": "code",
   "execution_count": 25,
   "metadata": {},
   "outputs": [
    {
     "name": "stdout",
     "output_type": "stream",
     "text": [
      "[(1, 'mark', 'abcdef'), (2, 'paul', 'xywz123')]\n"
     ]
    }
   ],
   "source": [
    "show_table()"
   ]
  },
  {
   "cell_type": "code",
   "execution_count": 26,
   "metadata": {},
   "outputs": [
    {
     "name": "stdout",
     "output_type": "stream",
     "text": [
      "Enter Username\tDELETE FROM assignment.db WHERE fieldname=\"value\";\n",
      "Enter Password:\t\n",
      "········\n",
      "Failed login\n"
     ]
    }
   ],
   "source": [
    "sqli()"
   ]
  },
  {
   "cell_type": "code",
   "execution_count": 27,
   "metadata": {},
   "outputs": [
    {
     "name": "stdout",
     "output_type": "stream",
     "text": [
      "[(1, 'mark', 'abcdef'), (2, 'paul', 'xywz123')]\n"
     ]
    }
   ],
   "source": [
    "show_table()"
   ]
  },
  {
   "cell_type": "code",
   "execution_count": 28,
   "metadata": {},
   "outputs": [
    {
     "name": "stdout",
     "output_type": "stream",
     "text": [
      "Enter Username\tDELETE FROM account WHERE fieldname=\"mark\";\n",
      "Enter Password:\t\n",
      "········\n",
      "Failed login\n"
     ]
    }
   ],
   "source": [
    "sqli()"
   ]
  },
  {
   "cell_type": "code",
   "execution_count": 29,
   "metadata": {},
   "outputs": [
    {
     "name": "stdout",
     "output_type": "stream",
     "text": [
      "[(1, 'mark', 'abcdef'), (2, 'paul', 'xywz123')]\n"
     ]
    }
   ],
   "source": [
    "show_table()"
   ]
  },
  {
   "cell_type": "code",
   "execution_count": 30,
   "metadata": {},
   "outputs": [
    {
     "name": "stdout",
     "output_type": "stream",
     "text": [
      "Enter Username\tSELECT * FROM account WHERE username = '; DELETE FROM users; --\n",
      "Enter Password:\t\n",
      "········\n"
     ]
    },
    {
     "ename": "OperationalError",
     "evalue": "no such table: users",
     "output_type": "error",
     "traceback": [
      "\u001b[0;31m---------------------------------------------------------------------------\u001b[0m",
      "\u001b[0;31mWarning\u001b[0m                                   Traceback (most recent call last)",
      "\u001b[0;32m<ipython-input-6-99c87c9f55bb>\u001b[0m in \u001b[0;36msqli\u001b[0;34m()\u001b[0m\n\u001b[1;32m      5\u001b[0m     \u001b[0;32mtry\u001b[0m\u001b[0;34m:\u001b[0m\u001b[0;34m\u001b[0m\u001b[0;34m\u001b[0m\u001b[0m\n\u001b[0;32m----> 6\u001b[0;31m         \u001b[0mc\u001b[0m\u001b[0;34m.\u001b[0m\u001b[0mexecute\u001b[0m\u001b[0;34m(\u001b[0m\u001b[0;34m\"SELECT username, password FROM account WHERE username='%s' AND password='%s'\"\u001b[0m \u001b[0;34m%\u001b[0m\u001b[0;34m(\u001b[0m\u001b[0mu_name\u001b[0m\u001b[0;34m,\u001b[0m \u001b[0mp_word\u001b[0m\u001b[0;34m)\u001b[0m\u001b[0;34m)\u001b[0m\u001b[0;34m\u001b[0m\u001b[0;34m\u001b[0m\u001b[0m\n\u001b[0m\u001b[1;32m      7\u001b[0m     \u001b[0;32mexcept\u001b[0m\u001b[0;34m:\u001b[0m\u001b[0;34m\u001b[0m\u001b[0;34m\u001b[0m\u001b[0m\n",
      "\u001b[0;31mWarning\u001b[0m: You can only execute one statement at a time.",
      "\nDuring handling of the above exception, another exception occurred:\n",
      "\u001b[0;31mOperationalError\u001b[0m                          Traceback (most recent call last)",
      "\u001b[0;32m<ipython-input-30-38abe1115d39>\u001b[0m in \u001b[0;36m<module>\u001b[0;34m\u001b[0m\n\u001b[0;32m----> 1\u001b[0;31m \u001b[0msqli\u001b[0m\u001b[0;34m(\u001b[0m\u001b[0;34m)\u001b[0m\u001b[0;34m\u001b[0m\u001b[0;34m\u001b[0m\u001b[0m\n\u001b[0m",
      "\u001b[0;32m<ipython-input-6-99c87c9f55bb>\u001b[0m in \u001b[0;36msqli\u001b[0;34m()\u001b[0m\n\u001b[1;32m      6\u001b[0m         \u001b[0mc\u001b[0m\u001b[0;34m.\u001b[0m\u001b[0mexecute\u001b[0m\u001b[0;34m(\u001b[0m\u001b[0;34m\"SELECT username, password FROM account WHERE username='%s' AND password='%s'\"\u001b[0m \u001b[0;34m%\u001b[0m\u001b[0;34m(\u001b[0m\u001b[0mu_name\u001b[0m\u001b[0;34m,\u001b[0m \u001b[0mp_word\u001b[0m\u001b[0;34m)\u001b[0m\u001b[0;34m)\u001b[0m\u001b[0;34m\u001b[0m\u001b[0;34m\u001b[0m\u001b[0m\n\u001b[1;32m      7\u001b[0m     \u001b[0;32mexcept\u001b[0m\u001b[0;34m:\u001b[0m\u001b[0;34m\u001b[0m\u001b[0;34m\u001b[0m\u001b[0m\n\u001b[0;32m----> 8\u001b[0;31m         \u001b[0mc\u001b[0m\u001b[0;34m.\u001b[0m\u001b[0mexecutescript\u001b[0m\u001b[0;34m(\u001b[0m\u001b[0;34m\"SELECT username, password FROM account WHERE username='%s' AND password='%s'\"\u001b[0m \u001b[0;34m%\u001b[0m\u001b[0;34m(\u001b[0m\u001b[0mu_name\u001b[0m\u001b[0;34m,\u001b[0m \u001b[0mp_word\u001b[0m\u001b[0;34m)\u001b[0m\u001b[0;34m)\u001b[0m\u001b[0;34m\u001b[0m\u001b[0;34m\u001b[0m\u001b[0m\n\u001b[0m\u001b[1;32m      9\u001b[0m     \u001b[0;32mif\u001b[0m \u001b[0mc\u001b[0m\u001b[0;34m.\u001b[0m\u001b[0mfetchone\u001b[0m\u001b[0;34m(\u001b[0m\u001b[0;34m)\u001b[0m\u001b[0;34m:\u001b[0m\u001b[0;34m\u001b[0m\u001b[0;34m\u001b[0m\u001b[0m\n\u001b[1;32m     10\u001b[0m         \u001b[0mprint\u001b[0m\u001b[0;34m(\u001b[0m\u001b[0;34m\"Successful login\"\u001b[0m\u001b[0;34m)\u001b[0m\u001b[0;34m\u001b[0m\u001b[0;34m\u001b[0m\u001b[0m\n",
      "\u001b[0;31mOperationalError\u001b[0m: no such table: users"
     ]
    }
   ],
   "source": [
    "sqli()"
   ]
  },
  {
   "cell_type": "code",
   "execution_count": 31,
   "metadata": {},
   "outputs": [
    {
     "name": "stdout",
     "output_type": "stream",
     "text": [
      "Enter Username\tSELECT * FROM account WHERE username = '; DELETE FROM account; --\n",
      "Enter Password:\t\n",
      "········\n",
      "Failed login\n"
     ]
    }
   ],
   "source": [
    "sqli()"
   ]
  },
  {
   "cell_type": "code",
   "execution_count": 32,
   "metadata": {},
   "outputs": [
    {
     "name": "stdout",
     "output_type": "stream",
     "text": [
      "[]\n"
     ]
    }
   ],
   "source": [
    "show_table()"
   ]
  },
  {
   "cell_type": "code",
   "execution_count": 33,
   "metadata": {},
   "outputs": [
    {
     "name": "stdout",
     "output_type": "stream",
     "text": [
      "Enter Username\tSELECT * FROM account WHERE username = ' OR 1=1; --\n",
      "Enter Password:\t\n",
      "········\n",
      "Failed login\n"
     ]
    }
   ],
   "source": [
    "sqli()"
   ]
  },
  {
   "cell_type": "code",
   "execution_count": 35,
   "metadata": {},
   "outputs": [
    {
     "name": "stdout",
     "output_type": "stream",
     "text": [
      "Successfully entered data\n"
     ]
    }
   ],
   "source": [
    "insert_data()"
   ]
  },
  {
   "cell_type": "code",
   "execution_count": 36,
   "metadata": {},
   "outputs": [
    {
     "name": "stdout",
     "output_type": "stream",
     "text": [
      "Enter Username\tSELECT * FROM account WHERE username = ' OR 1=1; --\n",
      "Enter Password:\t\n",
      "········\n",
      "Successful login\n"
     ]
    }
   ],
   "source": [
    "sqli()"
   ]
  },
  {
   "cell_type": "code",
   "execution_count": 208,
   "metadata": {},
   "outputs": [
    {
     "name": "stdout",
     "output_type": "stream",
     "text": [
      "Enter Username\tSELECT * FROM account WHERE username = ' OR 1=1; --\n",
      "Enter Password:\t\n",
      "········\n",
      "Failed login\n"
     ]
    }
   ],
   "source": [
    "def sqli():\n",
    "    u_name = str(input(\"Enter Username\\t\"))\n",
    "    print(\"Enter Password:\\t\")\n",
    "    p_word = getpass()\n",
    "    #sanitize u_name and p_word here. You are free to do it your way.\n",
    "    obj = \n",
    "    if():\n",
    "        print(\"Failed login\")\n",
    "    try:\n",
    "        c.execute(\"SELECT username, password FROM account WHERE username='%s' AND password='%s'\" %(u_name, p_word))\n",
    "    except:\n",
    "        c.executescript(\"SELECT username, password FROM account WHERE username='%s' AND password='%s'\" %(u_name, p_word))\n",
    "    if c.fetchone():\n",
    "        print(\"Successful login\")\n",
    "    else:\n",
    "        print(\"Failed login\")\n",
    "sqli()"
   ]
  },
  {
   "cell_type": "code",
   "execution_count": 189,
   "metadata": {},
   "outputs": [
    {
     "name": "stdout",
     "output_type": "stream",
     "text": [
      "Enter Username\tmark\n",
      "Enter Password:\t\n",
      "········\n"
     ]
    },
    {
     "ename": "ProgrammingError",
     "evalue": "Incorrect number of bindings supplied. The current statement uses 0, and there are 2 supplied.",
     "output_type": "error",
     "traceback": [
      "\u001b[0;31m---------------------------------------------------------------------------\u001b[0m",
      "\u001b[0;31mProgrammingError\u001b[0m                          Traceback (most recent call last)",
      "\u001b[0;32m<ipython-input-189-38abe1115d39>\u001b[0m in \u001b[0;36m<module>\u001b[0;34m\u001b[0m\n\u001b[0;32m----> 1\u001b[0;31m \u001b[0msqli\u001b[0m\u001b[0;34m(\u001b[0m\u001b[0;34m)\u001b[0m\u001b[0;34m\u001b[0m\u001b[0;34m\u001b[0m\u001b[0m\n\u001b[0m",
      "\u001b[0;32m<ipython-input-188-e626a0520a76>\u001b[0m in \u001b[0;36msqli\u001b[0;34m()\u001b[0m\n\u001b[1;32m      5\u001b[0m     \u001b[0;31m#sanitize u_name and p_word here. You are free to do it your way.\u001b[0m\u001b[0;34m\u001b[0m\u001b[0;34m\u001b[0m\u001b[0;34m\u001b[0m\u001b[0m\n\u001b[1;32m      6\u001b[0m     \u001b[0mcmd\u001b[0m \u001b[0;34m=\u001b[0m \u001b[0;34m\"SELECT username, password FROM account WHERE username='%s' AND password='%s'\"\u001b[0m\u001b[0;34m\u001b[0m\u001b[0;34m\u001b[0m\u001b[0m\n\u001b[0;32m----> 7\u001b[0;31m     \u001b[0mc\u001b[0m\u001b[0;34m.\u001b[0m\u001b[0mexecute\u001b[0m\u001b[0;34m(\u001b[0m\u001b[0mcmd\u001b[0m\u001b[0;34m,\u001b[0m \u001b[0;34m(\u001b[0m\u001b[0mu_name\u001b[0m\u001b[0;34m,\u001b[0m \u001b[0mp_word\u001b[0m\u001b[0;34m)\u001b[0m\u001b[0;34m)\u001b[0m\u001b[0;34m\u001b[0m\u001b[0;34m\u001b[0m\u001b[0m\n\u001b[0m\u001b[1;32m      8\u001b[0m     \u001b[0;32mif\u001b[0m \u001b[0mc\u001b[0m\u001b[0;34m.\u001b[0m\u001b[0mfetchone\u001b[0m\u001b[0;34m(\u001b[0m\u001b[0;34m)\u001b[0m\u001b[0;34m:\u001b[0m\u001b[0;34m\u001b[0m\u001b[0;34m\u001b[0m\u001b[0m\n\u001b[1;32m      9\u001b[0m         \u001b[0mprint\u001b[0m\u001b[0;34m(\u001b[0m\u001b[0;34m\"Successful login\"\u001b[0m\u001b[0;34m)\u001b[0m\u001b[0;34m\u001b[0m\u001b[0;34m\u001b[0m\u001b[0m\n",
      "\u001b[0;31mProgrammingError\u001b[0m: Incorrect number of bindings supplied. The current statement uses 0, and there are 2 supplied."
     ]
    }
   ],
   "source": []
  },
  {
   "cell_type": "code",
   "execution_count": 209,
   "metadata": {},
   "outputs": [
    {
     "name": "stdout",
     "output_type": "stream",
     "text": [
      "[(7, 'mark', 'abcdef'), (8, 'paul', 'xywz123'), (9, 'mark', 'abcdef'), (10, 'paul', 'xywz123')]\n"
     ]
    }
   ],
   "source": [
    "show_table()\n"
   ]
  },
  {
   "cell_type": "code",
   "execution_count": 158,
   "metadata": {},
   "outputs": [
    {
     "name": "stdout",
     "output_type": "stream",
     "text": [
      "Successfully entered data\n"
     ]
    }
   ],
   "source": [
    "insert_data()"
   ]
  },
  {
   "cell_type": "code",
   "execution_count": null,
   "metadata": {},
   "outputs": [],
   "source": []
  }
 ],
 "metadata": {
  "kernelspec": {
   "display_name": "Python 3",
   "language": "python",
   "name": "python3"
  },
  "language_info": {
   "codemirror_mode": {
    "name": "ipython",
    "version": 3
   },
   "file_extension": ".py",
   "mimetype": "text/x-python",
   "name": "python",
   "nbconvert_exporter": "python",
   "pygments_lexer": "ipython3",
   "version": "3.7.4"
  }
 },
 "nbformat": 4,
 "nbformat_minor": 4
}
