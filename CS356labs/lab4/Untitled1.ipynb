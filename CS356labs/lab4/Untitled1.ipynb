{
 "cells": [
  {
   "cell_type": "code",
   "execution_count": 1,
   "metadata": {},
   "outputs": [],
   "source": [
    "import sqlite3\n",
    "from getpass import getpass"
   ]
  },
  {
   "cell_type": "code",
   "execution_count": 2,
   "metadata": {},
   "outputs": [],
   "source": [
    "conn = sqlite3.connect('assignment.db')   # make a connection to the database, create it if it doesn't exist\n",
    "c = conn.cursor()  "
   ]
  },
  {
   "cell_type": "code",
   "execution_count": 3,
   "metadata": {},
   "outputs": [
    {
     "ename": "OperationalError",
     "evalue": "table account already exists",
     "output_type": "error",
     "traceback": [
      "\u001b[0;31m---------------------------------------------------------------------------\u001b[0m",
      "\u001b[0;31mOperationalError\u001b[0m                          Traceback (most recent call last)",
      "\u001b[0;32m<ipython-input-3-5f9bfc665333>\u001b[0m in \u001b[0;36m<module>\u001b[0;34m\u001b[0m\n\u001b[0;32m----> 1\u001b[0;31m \u001b[0mc\u001b[0m\u001b[0;34m.\u001b[0m\u001b[0mexecute\u001b[0m\u001b[0;34m(\u001b[0m\u001b[0;34m'''CREATE TABLE account (id INTEGER NOT NULL PRIMARY KEY AUTOINCREMENT, username TEXT, password TEXT)'''\u001b[0m\u001b[0;34m)\u001b[0m\u001b[0;34m\u001b[0m\u001b[0;34m\u001b[0m\u001b[0m\n\u001b[0m",
      "\u001b[0;31mOperationalError\u001b[0m: table account already exists"
     ]
    }
   ],
   "source": [
    "c.execute('''CREATE TABLE account (id INTEGER NOT NULL PRIMARY KEY AUTOINCREMENT, username TEXT, password TEXT)''')"
   ]
  },
  {
   "cell_type": "code",
   "execution_count": 4,
   "metadata": {},
   "outputs": [
    {
     "name": "stdout",
     "output_type": "stream",
     "text": [
      "Successfully entered data\n"
     ]
    }
   ],
   "source": [
    "def insert_data():\n",
    "    c.execute(\"INSERT INTO account(username, password) VALUES('mark', 'abcdef')\")\n",
    "    c.execute(\"INSERT INTO account(username, password) VALUES('paul', 'xywz123')\")\n",
    "    conn.commit()\n",
    "    print(\"Successfully entered data\")\n",
    "\n",
    "insert_data()"
   ]
  },
  {
   "cell_type": "code",
   "execution_count": 5,
   "metadata": {},
   "outputs": [
    {
     "name": "stdout",
     "output_type": "stream",
     "text": [
      "[(7, 'mark', 'abcdef'), (8, 'paul', 'xywz123'), (9, 'mark', 'abcdef'), (10, 'paul', 'xywz123'), (11, 'mark', 'abcdef'), (12, 'paul', 'xywz123'), (13, 'mark', 'abcdef'), (14, 'paul', 'xywz123'), (15, 'mark', 'abcdef'), (16, 'paul', 'xywz123'), (17, 'mark', 'abcdef'), (18, 'paul', 'xywz123')]\n"
     ]
    }
   ],
   "source": [
    "def show_table():\n",
    "    c.execute(\"SELECT * FROM account\")\n",
    "    print(c.fetchall())\n",
    "\n",
    "show_table()"
   ]
  },
  {
   "cell_type": "code",
   "execution_count": 27,
   "metadata": {},
   "outputs": [
    {
     "name": "stdout",
     "output_type": "stream",
     "text": [
      "Enter Username\tSELECT * FROM account WHERE username = ' OR 1=1; --\n",
      "Enter Password:\t\n",
      "········\n",
      "Failed login1\n"
     ]
    }
   ],
   "source": [
    "def sqli():\n",
    "    u_name = str(input(\"Enter Username\\t\"))\n",
    "    print(\"Enter Password:\\t\")\n",
    "    p_word = getpass()\n",
    "    #sanitize u_name and p_word here. You are free to do it your way.\n",
    "    obj = \" \"\n",
    "    if u_name.find(\";\") >0 or u_name.find(obj) > 0  :\n",
    "        print(\"Failed login1\")\n",
    "    else:\n",
    "        try:\n",
    "            c.execute(\"SELECT username, password FROM account WHERE username='%s' AND password='%s'\" %(u_name, p_word))\n",
    "        except:\n",
    "            c.executescript(\"SELECT username, password FROM account WHERE username='%s' AND password='%s'\" %(u_name, p_word))\n",
    "        if c.fetchone():\n",
    "            print(\"Successful login\")\n",
    "        else:\n",
    "            print(\"Failed login\")\n",
    "sqli()"
   ]
  },
  {
   "cell_type": "code",
   "execution_count": null,
   "metadata": {},
   "outputs": [],
   "source": []
  }
 ],
 "metadata": {
  "kernelspec": {
   "display_name": "Python 3",
   "language": "python",
   "name": "python3"
  },
  "language_info": {
   "codemirror_mode": {
    "name": "ipython",
    "version": 3
   },
   "file_extension": ".py",
   "mimetype": "text/x-python",
   "name": "python",
   "nbconvert_exporter": "python",
   "pygments_lexer": "ipython3",
   "version": "3.7.4"
  }
 },
 "nbformat": 4,
 "nbformat_minor": 4
}
